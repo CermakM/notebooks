{
 "cells": [
  {
   "cell_type": "code",
   "execution_count": 1,
   "metadata": {},
   "outputs": [],
   "source": [
    "# Install thoth-lab from master branch\n",
    " \n",
    "# !pip install -e \"git://github.com/thoth-station/lab#egg=thoth-lab\" --upgrade --exists-action w"
   ]
  },
  {
   "cell_type": "code",
   "execution_count": 2,
   "metadata": {
    "scrolled": true
   },
   "outputs": [],
   "source": [
    "# Install jupyter-tools and jupyter-require\n",
    "\n",
    "# !pip install -e \"git://github.com/CermakM/jupyter-tools@master#egg=jupyter-tools\" --upgrade\n",
    "# !pip install -e \"git://github.com/CermakM/jupyter-require@master#egg=jupyter-require\" --upgrade"
   ]
  },
  {
   "cell_type": "code",
   "execution_count": 3,
   "metadata": {},
   "outputs": [],
   "source": [
    "from jupyter_tools import utils"
   ]
  },
  {
   "cell_type": "code",
   "execution_count": 4,
   "metadata": {},
   "outputs": [
    {
     "data": {
      "application/javascript": [
       "\n",
       "    Jupyter.notebook.config.update({\n",
       "        'load_extensions': {\n",
       "            'jupyter-require': true\n",
       "        }\n",
       "    });\n",
       "    "
      ],
      "text/plain": [
       "<IPython.core.display.Javascript object>"
      ]
     },
     "metadata": {},
     "output_type": "display_data"
    },
    {
     "data": {
      "application/javascript": [
       "\n",
       "    require(['base/js/utils'], (utils) => {\n",
       "        utils.load_extensions('jupyter-require/extension')\n",
       "    });\n",
       "    "
      ],
      "text/plain": [
       "<IPython.core.display.Javascript object>"
      ]
     },
     "metadata": {},
     "output_type": "display_data"
    }
   ],
   "source": [
    "# install jupyter-require extension\n",
    "utils.install_nbextension('jupyter_require', overwrite=True)  # note there is an underscore, it's Python module name\n",
    "\n",
    "# load and enable the extension\n",
    "utils.load_nbextension(enable=True)"
   ]
  },
  {
   "cell_type": "markdown",
   "metadata": {},
   "source": [
    "You may need to reload the browser after this."
   ]
  },
  {
   "cell_type": "code",
   "execution_count": 5,
   "metadata": {},
   "outputs": [],
   "source": [
    "import pandas as pd\n",
    "\n",
    "from jupyter_require import require\n",
    "from jupyter_require import notebook"
   ]
  },
  {
   "cell_type": "markdown",
   "metadata": {},
   "source": [
    "Now it is possible to import our visualization library"
   ]
  },
  {
   "cell_type": "code",
   "execution_count": 6,
   "metadata": {},
   "outputs": [],
   "source": [
    "from thoth.lab.viz import init_notebook_mode\n",
    "from thoth.lab.viz import iplot, plot\n",
    "\n",
    "from thoth.lab.utils import str_join"
   ]
  },
  {
   "cell_type": "markdown",
   "metadata": {},
   "source": [
    "Initializing notebook mode will load and link custom fonts, CSS and JS stuff like D3.\n",
    "\n",
    "This step is necessary to be able to use the `plot` and `iplot` functions."
   ]
  },
  {
   "cell_type": "code",
   "execution_count": 7,
   "metadata": {},
   "outputs": [
    {
     "data": {
      "application/javascript": [
       "{ \n",
       "        'use strict';\n",
       "        \n",
       "        const href = \"https://use.fontawesome.com/releases/v5.7.2/css/all.css\";\n",
       "        const attributes = {'integrity': 'sha384-fnmOCqbTlWIlj8LyTjo7mOUStjsKC4pOpQbqyi7RrhN7udi9RwhKkMHpvLbHG9Sr', 'crossorigin': 'anonymous'} || {};\n",
       "        \n",
       "        let link = document.createElement(\"link\");\n",
       "        link.rel = \"stylesheet\";\n",
       "        link.type = \"text/css\";\n",
       "        try {\n",
       "            link.href = requirejs.toUrl(href, 'css');\n",
       "        } catch (error) {\n",
       "            link.href = href;\n",
       "        }\n",
       "        \n",
       "        Object.entries(attributes)\n",
       "            .forEach( ([attr, val]) => $(link).attr(attr, val) );\n",
       "        \n",
       "        document.head.appendChild(link);\n",
       "     }"
      ],
      "text/plain": [
       "<JupyterRequire.display.SafeScript object>"
      ]
     },
     "metadata": {
      "finalized": true
     },
     "output_type": "display_data"
    },
    {
     "data": {
      "application/javascript": [
       "{ \n",
       "        'use strict'\n",
       "        \n",
       "        const style = `/* d3.css */\n",
       "\n",
       "/* controls */\n",
       "\n",
       ".controls {\n",
       "    padding: 10px\n",
       "}\n",
       "\n",
       ".icon {\n",
       "    cursor: pointer;\n",
       "}\n",
       "\n",
       ".tooltip {\n",
       "    margin: 0.25rem 0;\n",
       "\n",
       "    top: 4rem;\n",
       "    text-align: center;\n",
       "\n",
       "    transform: translateX(-40%);\n",
       "}\n",
       "\n",
       "/* links */\n",
       "\n",
       ".links {\n",
       "    fill: none;\n",
       "    stroke: #ccc;\n",
       "    stroke-width: 1px;\n",
       "\n",
       "}\n",
       "\n",
       "/* nodes */\n",
       "\n",
       ".nodes {\n",
       "    fill: darkslateblue;\n",
       "    stroke: none;\n",
       "\n",
       "    cursor: pointer;\n",
       "}\n",
       "\n",
       ".nodes circle.is-leaf {\n",
       "    fill-opacity: 0;  /* transparent fill */\n",
       "\n",
       "    stroke: darkslateblue;\n",
       "    stroke-width: 2px;\n",
       "\n",
       "    cursor: default;\n",
       "}\n",
       "\n",
       ".nodes text {\n",
       "    font: 13px sans-serif;\n",
       "\n",
       "    z-index: 1 !important;\n",
       "}\n",
       "\n",
       "\n",
       ".filters circle.focus-node {\n",
       "    fill: none;\n",
       "\n",
       "    stroke: cornflowerblue;\n",
       "    stroke-opacity: 0.6;\n",
       "    stroke-width: 3px;\n",
       "}\n",
       "`;\n",
       "        const attributes = {'id': 'thoth-lab-stylesheet'} || {};\n",
       "        \n",
       "        let id = attributes.id;\n",
       "        let elem_exists = id ? $(`style#${id}`).length > 0 : false;\n",
       "        \n",
       "        let e = elem_exists ? document.querySelector(`style#${id}`)\n",
       "                            : document.createElement(\"style\");\n",
       "        \n",
       "        $(e).text(`${style}`).attr('type', 'text/css');\n",
       "        \n",
       "        Object.entries(attributes)\n",
       "            .forEach( ([attr, val]) => $(e).attr(attr, val) );\n",
       "\n",
       "        if (!elem_exists) document.head.appendChild(e);\n",
       "     }"
      ],
      "text/plain": [
       "<JupyterRequire.display.SafeScript object>"
      ]
     },
     "metadata": {
      "finalized": true
     },
     "output_type": "display_data"
    }
   ],
   "source": [
    "init_notebook_mode()"
   ]
  },
  {
   "cell_type": "markdown",
   "metadata": {},
   "source": [
    "---"
   ]
  },
  {
   "cell_type": "code",
   "execution_count": 8,
   "metadata": {},
   "outputs": [
    {
     "data": {
      "text/html": [
       "<div>\n",
       "<style scoped>\n",
       "    .dataframe tbody tr th:only-of-type {\n",
       "        vertical-align: middle;\n",
       "    }\n",
       "\n",
       "    .dataframe tbody tr th {\n",
       "        vertical-align: top;\n",
       "    }\n",
       "\n",
       "    .dataframe thead th {\n",
       "        text-align: right;\n",
       "    }\n",
       "</style>\n",
       "<table border=\"1\" class=\"dataframe\">\n",
       "  <thead>\n",
       "    <tr style=\"text-align: right;\">\n",
       "      <th></th>\n",
       "      <th>name</th>\n",
       "      <th>package_version</th>\n",
       "      <th>parent</th>\n",
       "      <th>parent_version</th>\n",
       "      <th>source</th>\n",
       "      <th>target</th>\n",
       "    </tr>\n",
       "  </thead>\n",
       "  <tbody>\n",
       "    <tr>\n",
       "      <th>0</th>\n",
       "      <td>tensorflow</td>\n",
       "      <td>2.0.0</td>\n",
       "      <td>NaN</td>\n",
       "      <td>NaN</td>\n",
       "      <td></td>\n",
       "      <td>tensorflow==2.0.0</td>\n",
       "    </tr>\n",
       "    <tr>\n",
       "      <th>1</th>\n",
       "      <td>tensorboard</td>\n",
       "      <td>1.13.x</td>\n",
       "      <td>tensorflow</td>\n",
       "      <td>2.0.0</td>\n",
       "      <td>tensorflow==2.0.0</td>\n",
       "      <td>tensorboard==1.13.x</td>\n",
       "    </tr>\n",
       "    <tr>\n",
       "      <th>2</th>\n",
       "      <td>markdown</td>\n",
       "      <td>2.3.x</td>\n",
       "      <td>tensorflow</td>\n",
       "      <td>2.0.0</td>\n",
       "      <td>tensorflow==2.0.0</td>\n",
       "      <td>markdown==2.3.x</td>\n",
       "    </tr>\n",
       "    <tr>\n",
       "      <th>3</th>\n",
       "      <td>html5lib</td>\n",
       "      <td>1.x</td>\n",
       "      <td>tensorflow</td>\n",
       "      <td>2.0.0</td>\n",
       "      <td>tensorflow==2.0.0</td>\n",
       "      <td>html5lib==1.x</td>\n",
       "    </tr>\n",
       "    <tr>\n",
       "      <th>4</th>\n",
       "      <td>numpy</td>\n",
       "      <td>1.x</td>\n",
       "      <td>tensorflow</td>\n",
       "      <td>2.0.0</td>\n",
       "      <td>tensorflow==2.0.0</td>\n",
       "      <td>numpy==1.x</td>\n",
       "    </tr>\n",
       "    <tr>\n",
       "      <th>5</th>\n",
       "      <td>numpy</td>\n",
       "      <td>1.2.x</td>\n",
       "      <td>tensorflow</td>\n",
       "      <td>2.0.0</td>\n",
       "      <td>tensorflow==2.0.0</td>\n",
       "      <td>numpy==1.2.x</td>\n",
       "    </tr>\n",
       "    <tr>\n",
       "      <th>6</th>\n",
       "      <td>setuptools</td>\n",
       "      <td>40.x.0</td>\n",
       "      <td>numpy</td>\n",
       "      <td>1.2.x</td>\n",
       "      <td>numpy==1.2.x</td>\n",
       "      <td>setuptools==40.x.0</td>\n",
       "    </tr>\n",
       "    <tr>\n",
       "      <th>7</th>\n",
       "      <td>setuptools</td>\n",
       "      <td>39.x.0</td>\n",
       "      <td>numpy</td>\n",
       "      <td>1.x</td>\n",
       "      <td>numpy==1.x</td>\n",
       "      <td>setuptools==39.x.0</td>\n",
       "    </tr>\n",
       "    <tr>\n",
       "      <th>8</th>\n",
       "      <td>six</td>\n",
       "      <td>1.12.0</td>\n",
       "      <td>numpy</td>\n",
       "      <td>1.x</td>\n",
       "      <td>numpy==1.x</td>\n",
       "      <td>six==1.12.0</td>\n",
       "    </tr>\n",
       "    <tr>\n",
       "      <th>9</th>\n",
       "      <td>six</td>\n",
       "      <td>1.12.0</td>\n",
       "      <td>numpy</td>\n",
       "      <td>1.2.x</td>\n",
       "      <td>numpy==1.2.x</td>\n",
       "      <td>six==1.12.0</td>\n",
       "    </tr>\n",
       "  </tbody>\n",
       "</table>\n",
       "</div>"
      ],
      "text/plain": [
       "          name package_version      parent parent_version             source  \\\n",
       "0   tensorflow           2.0.0         NaN            NaN                      \n",
       "1  tensorboard          1.13.x  tensorflow          2.0.0  tensorflow==2.0.0   \n",
       "2     markdown           2.3.x  tensorflow          2.0.0  tensorflow==2.0.0   \n",
       "3     html5lib             1.x  tensorflow          2.0.0  tensorflow==2.0.0   \n",
       "4        numpy             1.x  tensorflow          2.0.0  tensorflow==2.0.0   \n",
       "5        numpy           1.2.x  tensorflow          2.0.0  tensorflow==2.0.0   \n",
       "6   setuptools          40.x.0       numpy          1.2.x       numpy==1.2.x   \n",
       "7   setuptools          39.x.0       numpy            1.x         numpy==1.x   \n",
       "8          six          1.12.0       numpy            1.x         numpy==1.x   \n",
       "9          six          1.12.0       numpy          1.2.x       numpy==1.2.x   \n",
       "\n",
       "                target  \n",
       "0    tensorflow==2.0.0  \n",
       "1  tensorboard==1.13.x  \n",
       "2      markdown==2.3.x  \n",
       "3        html5lib==1.x  \n",
       "4           numpy==1.x  \n",
       "5         numpy==1.2.x  \n",
       "6   setuptools==40.x.0  \n",
       "7   setuptools==39.x.0  \n",
       "8          six==1.12.0  \n",
       "9          six==1.12.0  "
      ]
     },
     "execution_count": 8,
     "metadata": {},
     "output_type": "execute_result"
    }
   ],
   "source": [
    "df = pd.DataFrame([\n",
    "    {'name': \"tensorflow\", 'package_version': '2.0.0'},\n",
    "    {'name': \"tensorboard\", 'parent': \"tensorflow\", 'parent_version': '2.0.0', 'package_version': '1.13.x'},\n",
    "    {'name': \"markdown\", 'parent': \"tensorflow\", 'parent_version': '2.0.0', 'package_version': '2.3.x'},\n",
    "    {'name': \"html5lib\", 'parent': \"tensorflow\", 'parent_version': '2.0.0', 'package_version': '1.x'},\n",
    "    {'name': \"numpy\", 'parent': \"tensorflow\", 'parent_version': '2.0.0', 'package_version': '1.x'},\n",
    "    {'name': \"numpy\", 'parent': \"tensorflow\", 'parent_version': '2.0.0', 'package_version': '1.2.x'},\n",
    "    {'name': \"setuptools\", 'parent': \"numpy\", 'parent_version': '1.2.x', 'package_version': '40.x.0'},\n",
    "    {'name': \"setuptools\", 'parent': \"numpy\", 'parent_version': '1.x', 'package_version': '39.x.0'},\n",
    "    {'name': \"six\", 'parent': \"numpy\", 'parent_version': '1.x', 'package_version': '1.12.0'},\n",
    "    {'name': \"six\", 'parent': \"numpy\", 'parent_version': '1.2.x', 'package_version': '1.12.0'},\n",
    "])\n",
    "\n",
    "df['source'] = str_join(df, ['parent', 'parent_version'], '==')\n",
    "df['target'] = str_join(df, ['name', 'package_version'], '==')\n",
    "df"
   ]
  },
  {
   "cell_type": "markdown",
   "metadata": {},
   "source": [
    "# Static plot"
   ]
  },
  {
   "cell_type": "code",
   "execution_count": 9,
   "metadata": {
    "require": [
     "d3"
    ]
   },
   "outputs": [
    {
     "data": {
      "text/html": [
       "<svg width=\"981.354\" height=\"640\"><g transform=\"translate(0, 80)\"><g class=\"nodes\"><circle class=\"node\" cx=\"442.99011764705887\" cy=\"0\" r=\"11\"></circle><circle class=\"node\" cx=\"110.74752941176472\" cy=\"240\" r=\"11\"></circle><circle class=\"node\" cx=\"221.49505882352943\" cy=\"240\" r=\"11\"></circle><circle class=\"node\" cx=\"332.24258823529414\" cy=\"240\" r=\"11\"></circle><circle class=\"node\" cx=\"442.99011764705887\" cy=\"240\" r=\"11\"></circle><circle class=\"node\" cx=\"775.232705882353\" cy=\"240\" r=\"11\"></circle><circle class=\"node\" cx=\"387.6163529411765\" cy=\"480\" r=\"11\"></circle><circle class=\"node\" cx=\"498.36388235294123\" cy=\"480\" r=\"11\"></circle><circle class=\"node\" cx=\"719.8589411764707\" cy=\"480\" r=\"11\"></circle><circle class=\"node\" cx=\"830.6064705882354\" cy=\"480\" r=\"11\"></circle><text class=\"node\" x=\"442.99011764705887\" y=\"0\" dx=\"22.247500000000002\" dy=\".25em\" text-anchor=\"right\">tensorflow==2.0.0</text><text class=\"node\" x=\"110.74752941176472\" y=\"240\" dx=\"\" dy=\"33.2475\" text-anchor=\"middle\">tensorboard==1.13.x</text><text class=\"node\" x=\"221.49505882352943\" y=\"240\" dx=\"\" dy=\"33.2475\" text-anchor=\"middle\">markdown==2.3.x</text><text class=\"node\" x=\"332.24258823529414\" y=\"240\" dx=\"\" dy=\"33.2475\" text-anchor=\"middle\">html5lib==1.x</text><text class=\"node\" x=\"442.99011764705887\" y=\"240\" dx=\"22.247500000000002\" dy=\".25em\" text-anchor=\"right\">numpy==1.x</text><text class=\"node\" x=\"775.232705882353\" y=\"240\" dx=\"22.247500000000002\" dy=\".25em\" text-anchor=\"right\">numpy==1.2.x</text><text class=\"node\" x=\"387.6163529411765\" y=\"480\" dx=\"\" dy=\"33.2475\" text-anchor=\"middle\">setuptools==39.x.0</text><text class=\"node\" x=\"498.36388235294123\" y=\"480\" dx=\"\" dy=\"33.2475\" text-anchor=\"middle\">six==1.12.0</text><text class=\"node\" x=\"719.8589411764707\" y=\"480\" dx=\"\" dy=\"33.2475\" text-anchor=\"middle\">setuptools==40.x.0</text><text class=\"node\" x=\"830.6064705882354\" y=\"480\" dx=\"\" dy=\"33.2475\" text-anchor=\"middle\">six==1.12.0</text></g><g class=\"links\"><line class=\"link\" x1=\"442.99011764705887\" y1=\"17.798000000000002\" x2=\"110.74752941176472\" y2=\"222.202\"></line><line class=\"link\" x1=\"442.99011764705887\" y1=\"17.798000000000002\" x2=\"221.49505882352943\" y2=\"222.202\"></line><line class=\"link\" x1=\"442.99011764705887\" y1=\"17.798000000000002\" x2=\"332.24258823529414\" y2=\"222.202\"></line><line class=\"link\" x1=\"442.99011764705887\" y1=\"17.798000000000002\" x2=\"442.99011764705887\" y2=\"222.202\"></line><line class=\"link\" x1=\"442.99011764705887\" y1=\"17.798000000000002\" x2=\"775.232705882353\" y2=\"222.202\"></line><line class=\"link\" x1=\"442.99011764705887\" y1=\"257.798\" x2=\"387.6163529411765\" y2=\"462.202\"></line><line class=\"link\" x1=\"442.99011764705887\" y1=\"257.798\" x2=\"498.36388235294123\" y2=\"462.202\"></line><line class=\"link\" x1=\"775.232705882353\" y1=\"257.798\" x2=\"719.8589411764707\" y2=\"462.202\"></line><line class=\"link\" x1=\"775.232705882353\" y1=\"257.798\" x2=\"830.6064705882354\" y2=\"462.202\"></line></g></g></svg>"
      ],
      "text/plain": [
       "<JupyterRequire.display.FrozenOutput object>"
      ]
     },
     "metadata": {
      "finalized": true,
      "frozen": true
     },
     "output_type": "display_data"
    }
   ],
   "source": [
    "plot(df)"
   ]
  },
  {
   "cell_type": "markdown",
   "metadata": {},
   "source": [
    "# Dynamic (interactive) plot"
   ]
  },
  {
   "cell_type": "markdown",
   "metadata": {},
   "source": [
    "### Highlights\n",
    "\n",
    "| feature | action |\n",
    "| --- | --- |\n",
    "| `pan & zoom` | mouse and mousewheel events\n",
    "| `focus` by balancing to the center of mass | _first_ mouse click\n",
    "| `collapsible`  | _second_ mouse click on the focused node\n",
    "| `reset button` | icon click in the top left corner"
   ]
  },
  {
   "cell_type": "code",
   "execution_count": 10,
   "metadata": {
    "require": [
     "d3"
    ]
   },
   "outputs": [
    {
     "data": {
      "text/html": [
       "<div height=\"80\" class=\"controls\"><a class=\"button btn-home\"><span class=\"icon\"><i class=\"fas fa-home\"><span class=\"tooltip\" style=\"opacity: 0.102697;\">Default view</span></i></span></a></div><svg style=\"width: 981.354px; height: 640px;\"><g transform=\"translate(14.462717035271112, 36.368072509765625) scale(1)\"><g class=\"filters\"><circle cx=\"442.99011764705887\" cy=\"0\" r=\"17.798000000000002\" class=\"focus-node\"></circle></g><g class=\"nodes\"><circle cx=\"442.99011764705887\" cy=\"0\" r=\"11\" class=\"node\"></circle><circle cx=\"110.74752941176472\" cy=\"240\" r=\"11\" class=\"node is-leaf\"></circle><circle cx=\"221.49505882352943\" cy=\"240\" r=\"11\" class=\"node is-leaf\"></circle><circle cx=\"332.24258823529414\" cy=\"240\" r=\"11\" class=\"node is-leaf\"></circle><circle cx=\"442.99011764705887\" cy=\"240\" r=\"11\" class=\"node\"></circle><circle cx=\"775.232705882353\" cy=\"240\" r=\"11\" class=\"node\"></circle><circle cx=\"387.6163529411765\" cy=\"480\" r=\"11\" class=\"node is-leaf\"></circle><circle cx=\"498.36388235294123\" cy=\"480\" r=\"11\" class=\"node is-leaf\"></circle><circle cx=\"719.8589411764707\" cy=\"480\" r=\"11\" class=\"node is-leaf\"></circle><circle cx=\"830.6064705882354\" cy=\"480\" r=\"11\" class=\"node is-leaf\"></circle><text class=\"node\" x=\"442.99011764705887\" y=\"0\" dx=\"22.247500000000002\" dy=\".25em\" text-anchor=\"right\">tensorflow==2.0.0</text><text class=\"node\" x=\"110.74752941176472\" y=\"240\" dx=\"\" dy=\"33.2475\" text-anchor=\"middle\">tensorboard==1.13.x</text><text class=\"node\" x=\"221.49505882352943\" y=\"240\" dx=\"\" dy=\"33.2475\" text-anchor=\"middle\">markdown==2.3.x</text><text class=\"node\" x=\"332.24258823529414\" y=\"240\" dx=\"\" dy=\"33.2475\" text-anchor=\"middle\">html5lib==1.x</text><text class=\"node\" x=\"442.99011764705887\" y=\"240\" dx=\"22.247500000000002\" dy=\".25em\" text-anchor=\"right\">numpy==1.x</text><text class=\"node\" x=\"775.232705882353\" y=\"240\" dx=\"22.247500000000002\" dy=\".25em\" text-anchor=\"right\">numpy==1.2.x</text><text class=\"node\" x=\"387.6163529411765\" y=\"480\" dx=\"\" dy=\"33.2475\" text-anchor=\"middle\">setuptools==39.x.0</text><text class=\"node\" x=\"498.36388235294123\" y=\"480\" dx=\"\" dy=\"33.2475\" text-anchor=\"middle\">six==1.12.0</text><text class=\"node\" x=\"719.8589411764707\" y=\"480\" dx=\"\" dy=\"33.2475\" text-anchor=\"middle\">setuptools==40.x.0</text><text class=\"node\" x=\"830.6064705882354\" y=\"480\" dx=\"\" dy=\"33.2475\" text-anchor=\"middle\">six==1.12.0</text></g><g class=\"links\"><line class=\"link\" x1=\"442.99011764705887\" y1=\"17.798000000000002\" x2=\"110.74752941176472\" y2=\"222.202\"></line><line class=\"link\" x1=\"442.99011764705887\" y1=\"17.798000000000002\" x2=\"221.49505882352943\" y2=\"222.202\"></line><line class=\"link\" x1=\"442.99011764705887\" y1=\"17.798000000000002\" x2=\"332.24258823529414\" y2=\"222.202\"></line><line class=\"link\" x1=\"442.99011764705887\" y1=\"17.798000000000002\" x2=\"442.99011764705887\" y2=\"222.202\"></line><line class=\"link\" x1=\"442.99011764705887\" y1=\"17.798000000000002\" x2=\"775.232705882353\" y2=\"222.202\"></line><line class=\"link\" x1=\"442.99011764705887\" y1=\"257.798\" x2=\"387.6163529411765\" y2=\"462.202\"></line><line class=\"link\" x1=\"442.99011764705887\" y1=\"257.798\" x2=\"498.36388235294123\" y2=\"462.202\"></line><line class=\"link\" x1=\"775.232705882353\" y1=\"257.798\" x2=\"719.8589411764707\" y2=\"462.202\"></line><line class=\"link\" x1=\"775.232705882353\" y1=\"257.798\" x2=\"830.6064705882354\" y2=\"462.202\"></line></g></g></svg>"
      ],
      "text/plain": [
       "<JupyterRequire.display.FrozenOutput object>"
      ]
     },
     "metadata": {
      "finalized": true,
      "frozen": true
     },
     "output_type": "display_data"
    }
   ],
   "source": [
    "iplot(df)"
   ]
  }
 ],
 "metadata": {
  "finalized": {
   "timestamp": 1554211148718,
   "trusted": true
  },
  "hide_input": false,
  "kernelspec": {
   "display_name": "Python 3",
   "language": "python",
   "name": "python3"
  },
  "language_info": {
   "codemirror_mode": {
    "name": "ipython",
    "version": 3
   },
   "file_extension": ".py",
   "mimetype": "text/x-python",
   "name": "python",
   "nbconvert_exporter": "python",
   "pygments_lexer": "ipython3",
   "version": "3.6.3"
  },
  "require": {
   "paths": {
    "d3": "https://d3js.org/d3.v5.min"
   },
   "shim": {}
  },
  "toc": {
   "base_numbering": 1,
   "nav_menu": {},
   "number_sections": true,
   "sideBar": true,
   "skip_h1_title": false,
   "title_cell": "Table of Contents",
   "title_sidebar": "Contents",
   "toc_cell": false,
   "toc_position": {},
   "toc_section_display": true,
   "toc_window_display": false
  }
 },
 "nbformat": 4,
 "nbformat_minor": 2
}
