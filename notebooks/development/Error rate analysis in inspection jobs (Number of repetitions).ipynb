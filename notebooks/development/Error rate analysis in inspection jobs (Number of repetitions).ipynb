{
 "cells": [
  {
   "cell_type": "markdown",
   "metadata": {
    "toc": true
   },
   "source": [
    "<h1>Table of Contents<span class=\"tocSkip\"></span></h1>\n",
    "<div class=\"toc\"><ul class=\"toc-item\"><li><span><a href=\"#Introduction\" data-toc-modified-id=\"Introduction-1\"><span class=\"toc-item-num\">1&nbsp;&nbsp;</span>Introduction</a></span><ul class=\"toc-item\"><li><span><a href=\"#Create-dataframe-per-batch\" data-toc-modified-id=\"Create-dataframe-per-batch-1.1\"><span class=\"toc-item-num\">1.1&nbsp;&nbsp;</span>Create dataframe per batch</a></span></li></ul></li><li><span><a href=\"#Create-reports\" data-toc-modified-id=\"Create-reports-2\"><span class=\"toc-item-num\">2&nbsp;&nbsp;</span>Create reports</a></span></li><li><span><a href=\"#Analyze-batch-with-number-of-Repetitions:-0.05k\" data-toc-modified-id=\"Analyze-batch-with-number-of-Repetitions:-0.05k-3\"><span class=\"toc-item-num\">3&nbsp;&nbsp;</span>Analyze batch with number of Repetitions: 0.05k</a></span></li><li><span><a href=\"#Analyze-batch-with-number-of-Repetitions:-0.1k\" data-toc-modified-id=\"Analyze-batch-with-number-of-Repetitions:-0.1k-4\"><span class=\"toc-item-num\">4&nbsp;&nbsp;</span>Analyze batch with number of Repetitions: 0.1k</a></span></li><li><span><a href=\"#Analyze-batch-with-number-of-Repetitions:-0.5k\" data-toc-modified-id=\"Analyze-batch-with-number-of-Repetitions:-0.5k-5\"><span class=\"toc-item-num\">5&nbsp;&nbsp;</span>Analyze batch with number of Repetitions: 0.5k</a></span></li><li><span><a href=\"#Analyze-batch-with-number-of-Repetitions:-2k\" data-toc-modified-id=\"Analyze-batch-with-number-of-Repetitions:-2k-6\"><span class=\"toc-item-num\">6&nbsp;&nbsp;</span>Analyze batch with number of Repetitions: 2k</a></span></li><li><span><a href=\"#Analyze-batch-with-number-of-Repetitions:-4k\" data-toc-modified-id=\"Analyze-batch-with-number-of-Repetitions:-4k-7\"><span class=\"toc-item-num\">7&nbsp;&nbsp;</span>Analyze batch with number of Repetitions: 4k</a></span></li><li><span><a href=\"#Analyze-batch-with-number-of-Repetitions:-8k\" data-toc-modified-id=\"Analyze-batch-with-number-of-Repetitions:-8k-8\"><span class=\"toc-item-num\">8&nbsp;&nbsp;</span>Analyze batch with number of Repetitions: 8k</a></span></li><li><span><a href=\"#Analyze-batch-with-number-of-Repetitions:-16k\" data-toc-modified-id=\"Analyze-batch-with-number-of-Repetitions:-16k-9\"><span class=\"toc-item-num\">9&nbsp;&nbsp;</span>Analyze batch with number of Repetitions: 16k</a></span></li><li><span><a href=\"#Analyze-batch-with-number-of-Repetitions:-20k\" data-toc-modified-id=\"Analyze-batch-with-number-of-Repetitions:-20k-10\"><span class=\"toc-item-num\">10&nbsp;&nbsp;</span>Analyze batch with number of Repetitions: 20k</a></span></li><li><span><a href=\"#Visualize-results-for-all-reports-of-the-batches\" data-toc-modified-id=\"Visualize-results-for-all-reports-of-the-batches-11\"><span class=\"toc-item-num\">11&nbsp;&nbsp;</span>Visualize results for all reports of the batches</a></span><ul class=\"toc-item\"><li><span><a href=\"#Normal-mode\" data-toc-modified-id=\"Normal-mode-11.1\"><span class=\"toc-item-num\">11.1&nbsp;&nbsp;</span>Normal mode</a></span></li><li><span><a href=\"#Explanation-mode\" data-toc-modified-id=\"Explanation-mode-11.2\"><span class=\"toc-item-num\">11.2&nbsp;&nbsp;</span>Explanation mode</a></span></li></ul></li><li><span><a href=\"#Error-analysis\" data-toc-modified-id=\"Error-analysis-12\"><span class=\"toc-item-num\">12&nbsp;&nbsp;</span>Error analysis</a></span><ul class=\"toc-item\"><li><span><a href=\"#Histograms-of-the-batches-for-job_duration\" data-toc-modified-id=\"Histograms-of-the-batches-for-job_duration-12.1\"><span class=\"toc-item-num\">12.1&nbsp;&nbsp;</span>Histograms of the batches for job_duration</a></span></li><li><span><a href=\"#Boxplot-of-the-job_duration-batches\" data-toc-modified-id=\"Boxplot-of-the-job_duration-batches-12.2\"><span class=\"toc-item-num\">12.2&nbsp;&nbsp;</span>Boxplot of the job_duration batches</a></span></li><li><span><a href=\"#Boxplot-of-the-elapsed-batches\" data-toc-modified-id=\"Boxplot-of-the-elapsed-batches-12.3\"><span class=\"toc-item-num\">12.3&nbsp;&nbsp;</span>Boxplot of the elapsed batches</a></span></li><li><span><a href=\"#Boxplot-of-the-rate-batches\" data-toc-modified-id=\"Boxplot-of-the-rate-batches-12.4\"><span class=\"toc-item-num\">12.4&nbsp;&nbsp;</span>Boxplot of the rate batches</a></span></li><li><span><a href=\"#Boxplot-of-the-utime-batches\" data-toc-modified-id=\"Boxplot-of-the-utime-batches-12.5\"><span class=\"toc-item-num\">12.5&nbsp;&nbsp;</span>Boxplot of the utime batches</a></span></li><li><span><a href=\"#Boxplot-of-the-stime-batches\" data-toc-modified-id=\"Boxplot-of-the-stime-batches-12.6\"><span class=\"toc-item-num\">12.6&nbsp;&nbsp;</span>Boxplot of the stime batches</a></span></li><li><span><a href=\"#Boxplot-of-the-nvcsw-batches\" data-toc-modified-id=\"Boxplot-of-the-nvcsw-batches-12.7\"><span class=\"toc-item-num\">12.7&nbsp;&nbsp;</span>Boxplot of the nvcsw batches</a></span></li><li><span><a href=\"#Boxplot-of-the-nivcsw-batches\" data-toc-modified-id=\"Boxplot-of-the-nivcsw-batches-12.8\"><span class=\"toc-item-num\">12.8&nbsp;&nbsp;</span>Boxplot of the nivcsw batches</a></span></li></ul></li><li><span><a href=\"#Interpolations\" data-toc-modified-id=\"Interpolations-13\"><span class=\"toc-item-num\">13&nbsp;&nbsp;</span>Interpolations</a></span><ul class=\"toc-item\"><li><span><a href=\"#Standard-Deviation-for-job_duration-and-elapsed_time\" data-toc-modified-id=\"Standard-Deviation-for-job_duration-and-elapsed_time-13.1\"><span class=\"toc-item-num\">13.1&nbsp;&nbsp;</span>Standard Deviation for <code>job_duration</code> and <code>elapsed_time</code></a></span></li><li><span><a href=\"#Box-Plots-interpolated-for-job_duration\" data-toc-modified-id=\"Box-Plots-interpolated-for-job_duration-13.2\"><span class=\"toc-item-num\">13.2&nbsp;&nbsp;</span>Box Plots interpolated for <code>job_duration</code></a></span></li><li><span><a href=\"#Box-Plots-interpolated-for-elapsed_time\" data-toc-modified-id=\"Box-Plots-interpolated-for-elapsed_time-13.3\"><span class=\"toc-item-num\">13.3&nbsp;&nbsp;</span>Box Plots interpolated for <code>elapsed_time</code></a></span></li></ul></li><li><span><a href=\"#Correlations\" data-toc-modified-id=\"Correlations-14\"><span class=\"toc-item-num\">14&nbsp;&nbsp;</span>Correlations</a></span><ul class=\"toc-item\"><li><span><a href=\"#Correlation-between-ru_utime-and-ru_nivcsw\" data-toc-modified-id=\"Correlation-between-ru_utime-and-ru_nivcsw-14.1\"><span class=\"toc-item-num\">14.1&nbsp;&nbsp;</span>Correlation between <code>ru_utime</code> and <code>ru_nivcsw</code></a></span></li><li><span><a href=\"#Correlation-between-ru_utime-and-ru_nvcsw\" data-toc-modified-id=\"Correlation-between-ru_utime-and-ru_nvcsw-14.2\"><span class=\"toc-item-num\">14.2&nbsp;&nbsp;</span>Correlation between <code>ru_utime</code> and <code>ru_nvcsw</code></a></span></li></ul></li><li><span><a href=\"#Inspection-Time-analysis\" data-toc-modified-id=\"Inspection-Time-analysis-15\"><span class=\"toc-item-num\">15&nbsp;&nbsp;</span>Inspection Time analysis</a></span><ul class=\"toc-item\"><li><span><a href=\"#Inspection-Builds-Time\" data-toc-modified-id=\"Inspection-Builds-Time-15.1\"><span class=\"toc-item-num\">15.1&nbsp;&nbsp;</span>Inspection Builds Time</a></span></li><li><span><a href=\"#Inspection-Jobs-Time\" data-toc-modified-id=\"Inspection-Jobs-Time-15.2\"><span class=\"toc-item-num\">15.2&nbsp;&nbsp;</span>Inspection Jobs Time</a></span></li><li><span><a href=\"#Inspection-builds-+-Jobs-Time\" data-toc-modified-id=\"Inspection-builds-+-Jobs-Time-15.3\"><span class=\"toc-item-num\">15.3&nbsp;&nbsp;</span>Inspection builds + Jobs Time</a></span></li></ul></li><li><span><a href=\"#Conclusions\" data-toc-modified-id=\"Conclusions-16\"><span class=\"toc-item-num\">16&nbsp;&nbsp;</span>Conclusions</a></span><ul class=\"toc-item\"><li><span><a href=\"#Statistics\" data-toc-modified-id=\"Statistics-16.1\"><span class=\"toc-item-num\">16.1&nbsp;&nbsp;</span>Statistics</a></span></li><li><span><a href=\"#Correlations\" data-toc-modified-id=\"Correlations-16.2\"><span class=\"toc-item-num\">16.2&nbsp;&nbsp;</span>Correlations</a></span></li><li><span><a href=\"#Time\" data-toc-modified-id=\"Time-16.3\"><span class=\"toc-item-num\">16.3&nbsp;&nbsp;</span>Time</a></span></li></ul></li></ul></div>"
   ]
  },
  {
   "cell_type": "markdown",
   "metadata": {},
   "source": [
    "# Introduction"
   ]
  },
  {
   "cell_type": "markdown",
   "metadata": {},
   "source": [
    "In this notebook we want to get a notion about error rate of inspection jobs which are run on Amun API, using the following inputs:\n",
    "\n",
    "- TensorFlow 1.13 from pypi\n",
    "- fedora base image\n",
    "- matmul (tensorflow, matrix size 512, `repetitions` , float32)\n",
    "- 300 inspections\n",
    "- CPU only\n",
    "\n",
    "\n",
    "We want to understand how the error behave for different period of time/`number of repetitions` requested for an inspection. We want to understand if we can eliminate noise inside the environment. We want to find out if we can \"configure\" the error rate in the cluster."
   ]
  },
  {
   "cell_type": "code",
   "execution_count": null,
   "metadata": {
    "ExecuteTime": {
     "end_time": "2019-08-23T10:32:16.797663Z",
     "start_time": "2019-08-23T10:32:16.792040Z"
    }
   },
   "outputs": [],
   "source": [
    "import logging\n",
    "import functools\n",
    "import re\n",
    "\n",
    "import textwrap\n",
    "import typing\n",
    "\n",
    "from typing import Any, Dict, List, Tuple, Union\n",
    "from typing import Callable, Iterable\n",
    "\n",
    "logger = logging.getLogger()"
   ]
  },
  {
   "cell_type": "code",
   "execution_count": null,
   "metadata": {
    "ExecuteTime": {
     "end_time": "2019-08-23T10:32:17.048768Z",
     "start_time": "2019-08-23T10:32:17.041613Z"
    }
   },
   "outputs": [],
   "source": [
    "import pandas as pd\n",
    "import numpy as np\n",
    "import thoth.lab.underscore\n",
    "import matplotlib.pyplot as plt\n",
    "\n",
    "from thoth.storages import InspectionResultsStore\n",
    "from thoth.lab import inspection\n",
    "\n",
    "pd.set_option(\"max_colwidth\", 800)\n",
    "pd.set_option(\"display.max_rows\", None)\n",
    "pd.set_option(\"display.max_columns\", None)"
   ]
  },
  {
   "cell_type": "code",
   "execution_count": null,
   "metadata": {
    "ExecuteTime": {
     "end_time": "2019-08-23T10:32:17.467531Z",
     "start_time": "2019-08-23T10:32:17.396149Z"
    }
   },
   "outputs": [],
   "source": [
    "import cufflinks as cf\n",
    "import seaborn as sns\n",
    "import plotly\n",
    "import plotly.offline as py\n",
    "\n",
    "from plotly import graph_objs as go\n",
    "from plotly import figure_factory as ff\n",
    "from plotly import tools\n",
    "\n",
    "from plotly.offline import iplot, init_notebook_mode\n",
    "\n",
    "# plotly\n",
    "init_notebook_mode()\n",
    "\n",
    "# cufflinks\n",
    "cf.go_offline()"
   ]
  },
  {
   "cell_type": "code",
   "execution_count": 123,
   "metadata": {
    "ExecuteTime": {
     "end_time": "2019-08-23T10:50:11.178921Z",
     "start_time": "2019-08-23T10:50:11.162271Z"
    }
   },
   "outputs": [],
   "source": [
    "def filter_inspection_list(ids_list: List[str], identifier_list: List[str]) -> dict: \n",
    "    \"\"\"Filter inspection ids list according to the identifier selected\"\"\"\n",
    "    filtered_list_ids = {}\n",
    "\n",
    "    for identifier in identifier_list:\n",
    "        filtered_list_ids[identifier] = []\n",
    "\n",
    "    for ids in ids_list:\n",
    "        inspection_filter = \"-\".join(ids.split(\"-\")[1:(len(ids.split(\"-\")) - 1)])\n",
    "        if inspection_filter:\n",
    "            if inspection_filter in identifier_list:\n",
    "                filtered_list_ids[inspection_filter].append(ids)\n",
    "                \n",
    "    tot_inspections_selected = sum([len(batch_n) for batch_n in filtered_list_ids.values()])\n",
    "    inspection_batches = [(batch_name, len(batch_count)) for batch_name, batch_count in filtered_list_ids.items()]\n",
    "    print(f\"There are {tot_inspections_selected} inspection runs!: {inspection_batches} respectively\")\n",
    "    \n",
    "    return filtered_list_ids\n",
    "\n",
    "\n",
    "def generate_inspection_resuts(list_ids: List[str], identifier_inspection: List[str]) -> dict:\n",
    "    \"\"\"Generate inspection results from inspection results stored in Ceph\"\"\"\n",
    "    inspection_store = InspectionResultsStore(region=\"eu-central-1\")\n",
    "    inspection_store.connect()\n",
    "\n",
    "    inspection_results = {}\n",
    "    tot = sum([len(r) for r in list_ids_filtered.values()])\n",
    "    current_identifier_batch_length = 0 \n",
    "\n",
    "    for identifier in identifier_inspection:\n",
    "        inspection_results[identifier] = []\n",
    "        logger.debug(\"Analyzing inspection identifer batch:\", identifier)\n",
    "        for n, ids in enumerate(list_ids_filtered[identifier]):\n",
    "            document = inspection_store.retrieve_document(ids)\n",
    "            # pop build logs to save some memory (not necessary for now)\n",
    "            document[\"build_log\"] = None\n",
    "            print(f\"Analysis n.{n + 1 + current_identifier_batch_length}/{tot}\")\n",
    "            inspection_results[identifier].append(document)\n",
    "        current_identifier_batch_length += len(list_ids_filtered[identifier])\n",
    "            \n",
    "    return inspection_results"
   ]
  },
  {
   "cell_type": "code",
   "execution_count": null,
   "metadata": {
    "ExecuteTime": {
     "end_time": "2019-08-23T10:32:20.692132Z",
     "start_time": "2019-08-23T10:32:20.679459Z"
    }
   },
   "outputs": [],
   "source": [
    "%env THOTH_DEPLOYMENT_NAME     thoth-core-psi-stage\n",
    "%env THOTH_CEPH_BUCKET         thoth\n",
    "%env THOTH_CEPH_BUCKET_PREFIX  data/thoth\n",
    "%env THOTH_S3_ENDPOINT_URL     https://s3.upshift.redhat.com/"
   ]
  },
  {
   "cell_type": "markdown",
   "metadata": {},
   "source": [
    "## Create dataframe per batch"
   ]
  },
  {
   "cell_type": "code",
   "execution_count": null,
   "metadata": {
    "ExecuteTime": {
     "end_time": "2019-08-23T08:25:22.605223Z",
     "start_time": "2019-08-23T08:23:23.769608Z"
    }
   },
   "outputs": [],
   "source": [
    "inspection_store = InspectionResultsStore(region=\"eu-central-1\")\n",
    "inspection_store.connect()\n",
    "\n",
    "list_ids = list(inspection_store.get_document_listing())"
   ]
  },
  {
   "cell_type": "code",
   "execution_count": null,
   "metadata": {
    "ExecuteTime": {
     "end_time": "2019-08-23T08:45:30.333970Z",
     "start_time": "2019-08-23T08:45:30.331236Z"
    }
   },
   "outputs": [],
   "source": [
    "identifier_inspection = [\n",
    "    \"005k-test-new\",\n",
    "    \"01k-test-new\",\n",
    "    \"05k-test-new\",\n",
    "    \"2k-test-new\",\n",
    "    \"4k-test-new\",\n",
    "    \"8k-test-new\",\n",
    "    \"16k-test-new\",\n",
    "    \"20k-test-new\"\n",
    "]"
   ]
  },
  {
   "cell_type": "code",
   "execution_count": null,
   "metadata": {
    "ExecuteTime": {
     "end_time": "2019-08-23T08:45:30.797511Z",
     "start_time": "2019-08-23T08:45:30.765735Z"
    }
   },
   "outputs": [],
   "source": [
    "list_ids_filtered = filter_inspection_list(list_ids, identifier_inspection)"
   ]
  },
  {
   "cell_type": "code",
   "execution_count": null,
   "metadata": {
    "ExecuteTime": {
     "end_time": "2019-08-23T09:17:54.101054Z",
     "start_time": "2019-08-23T08:45:32.699930Z"
    },
    "scrolled": true
   },
   "outputs": [],
   "source": [
    "inspection_results = generate_inspection_resuts(list_ids_filtered, identifier_inspection)"
   ]
  },
  {
   "cell_type": "code",
   "execution_count": null,
   "metadata": {},
   "outputs": [],
   "source": [
    "def create_inspection_results_df_dict(inspection_results: List[dict]) -> dict:\n",
    "    \"\"\"Create dictionary with pd.Dataframe of inspection results for each inspection identifier\n",
    "\n",
    "    :param inspection_results: dictionary containing inspection results retrieved from Ceph\n",
    "    \"\"\"\n",
    "    inspection_results_df_dict = {} \n",
    "\n",
    "    for identifier, inspection_results_list in inspection_results.items():\n",
    "        logger.debug(f\"Analyzing inspection batch: {identifier}\")\n",
    "\n",
    "        df = inspection.process_inspection_results(\n",
    "            inspection_results_list,\n",
    "            exclude=[\"build_log\", \"created\", \"inspection_id\"],\n",
    "            apply=[(\"created|started_at|finished_at\", pd.to_datetime)],\n",
    "            drop=False,\n",
    "        )\n",
    "\n",
    "        inspection_results_df_dict[identifier] = df\n",
    "\n",
    "        df_duration = inspection.create_duration_dataframe(df)\n",
    "        inspection_results_df_dict[identifier][\"job_duration\"] = df_duration[\"job_duration\"]\n",
    "        inspection_results_df_dict[identifier][\"build_duration\"] = df_duration[\"build_duration\"]\n",
    "\n",
    "    return inspection_results_df_dict\n",
    "\n",
    "\n",
    "def create_inspection_analysis_plots(df_inspection: pd.DataFrame):\n",
    "    \"\"\"Create inspection analysis plots for the inspection pd.Dataframe.\n",
    "\n",
    "    :param df_inspection: inspection results pd.DataFrame for a specific identifier\n",
    "    \"\"\"\n",
    "    # Box plots job duration and build duration\n",
    "    fig = inspection.create_duration_box(\n",
    "        df_inspection, [\"build_duration\", \"job_duration\"]\n",
    "    )\n",
    "\n",
    "    py.iplot(fig)\n",
    "    # Scatter job duration\n",
    "    fig = inspection.create_duration_scatter(\n",
    "        df_inspection, \"job_duration\", title=\"InspectionRun job duration\"\n",
    "    )\n",
    "\n",
    "    py.iplot(fig)\n",
    "    # Scatter build duration\n",
    "    fig = inspection.create_duration_scatter(\n",
    "        df_inspection, \"build_duration\", title=\"InspectionRun build duration\"\n",
    "    )\n",
    "\n",
    "    py.iplot(fig)\n",
    "    # Histogram\n",
    "    fig = inspection.create_duration_histogram(df_inspection, [\"job_duration\"])\n",
    "\n",
    "    py.iplot(fig)"
   ]
  },
  {
   "cell_type": "code",
   "execution_count": null,
   "metadata": {
    "ExecuteTime": {
     "end_time": "2019-08-23T09:22:19.673929Z",
     "start_time": "2019-08-23T09:21:59.701844Z"
    }
   },
   "outputs": [],
   "source": [
    "df_total = create_inspection_results_df_dict(inspection_results)"
   ]
  },
  {
   "cell_type": "markdown",
   "metadata": {},
   "source": [
    "# Create reports"
   ]
  },
  {
   "cell_type": "code",
   "execution_count": 120,
   "metadata": {
    "ExecuteTime": {
     "end_time": "2019-08-23T10:46:44.113557Z",
     "start_time": "2019-08-23T10:46:44.073700Z"
    }
   },
   "outputs": [],
   "source": [
    "_INSPECTION_REPORT_FEATURES = {\n",
    "    \"hardware\" : [\"platform\", \"processor\", \"ncpus\"],\n",
    "    \"software_stack\" : [\"index\", \"requirements_locked\"],\n",
    "    \"base_image\": [],\n",
    "    \"pi\": [\"script\", \"parameters\"],\n",
    "    \"requests\": [\"build_requests\", \"run_requests\"],\n",
    "    \"exit_codes\": [\"build_exit_code\", \"run_exit_code\"]\n",
    "}\n",
    "\n",
    "_INSPECTION_JSON_DF_KEYS_FEATURES_MAPPING = {\n",
    "    \"platform\": [\"platform\"],\n",
    "    \"processor\": [\"job_log__hwinfo__cpu__is\", \"job_log__hwinfo__cpu__has\"], \n",
    "    \"ncpus\" : [\"ncpus\"],\n",
    "    \"index\": [\"index\"],\n",
    "    \"requirements_locked\": [\"specification__python__requirements_locked__default\"],\n",
    "    \"base_image\": [\"base\"],\n",
    "    \"script\": [\"script\", \"script_sha256\"],\n",
    "    \"parameters\": [\"name\", \"@parameters\"],\n",
    "    \"build_requests\": [\"build__requests\"],\n",
    "    \"run_requests\": [\"run__requests\"],\n",
    "    \"build_exit_code\": [\"build__exit_code\"],\n",
    "    \"run_exit_code\": [\"job__exit_code\", \"job_log__exit_code\"]\n",
    "    \n",
    "}\n",
    "\n",
    "def show_categories(inspection_df: pd.DataFrame):\n",
    "    \"\"\"List categories in the given inspection pd.DataFrame.\"\"\"\n",
    "    index = inspection_df.index.droplevel(-1).unique()\n",
    "\n",
    "    results_categories = {}\n",
    "    for n, idx in enumerate(index.values):\n",
    "        logger.debug(f\"\\nClass {n + 1}/{len(index)}\")\n",
    "        \n",
    "        class_results = {}\n",
    "        if len(index.names) > 1:\n",
    "            for name, ind in zip(index.names, idx):\n",
    "                logger.debug(f\"{name} : {ind}\")\n",
    "                class_results[name] = ind\n",
    "        else:\n",
    "            logger.debug(f\"{index.names[0]} : {idx}\")\n",
    "            class_results[index.names[0]] = idx\n",
    "        results_categories[n + 1] = class_results\n",
    "\n",
    "        frame = inspection_df.loc[idx]\n",
    "        logger.debug(f\"Number of rows (jobs) is: {frame.shape[0]}\")\n",
    "        \n",
    "    return results_categories\n",
    "\n",
    "\n",
    "def create_report(df_inspection_batch: pd.DataFrame) -> dict:\n",
    "    \"\"\"Create report describing the batch of inspection jobs for the different features.\"\"\"\n",
    "    report_results = {}\n",
    "    for feature, sub_features in _INSPECTION_REPORT_FEATURES.items():\n",
    "        report_results[feature] = {}\n",
    "        logger.debug(\"\\n=========================================================================\")\n",
    "        logger.debug(feature)\n",
    "        logger.debug(\"=========================================================================\")\n",
    "        if sub_features:\n",
    "            for sub_feature in sub_features:\n",
    "                logger.debug(\"\\n-------------------------------------------------------------------------\")\n",
    "                logger.debug(f\"{feature} -> {sub_feature}\")\n",
    "                logger.debug(\"-------------------------------------------------------------------------\")\n",
    "                sub_feature_result = inspection.query_inspection_dataframe(\n",
    "                    df_inspection_batch, groupby=_INSPECTION_JSON_DF_KEYS_FEATURES_MAPPING[sub_feature], exclude=\"node\"\n",
    "                )\n",
    "                report_results[feature][sub_feature] = show_categories(sub_feature_result)\n",
    "        else:\n",
    "            feature_result = inspection.query_inspection_dataframe(\n",
    "                df_inspection_batch, groupby=_INSPECTION_JSON_DF_KEYS_FEATURES_MAPPING[feature], exclude=\"node\"\n",
    "            )\n",
    "            report_results[feature] = show_categories(feature_result)\n",
    "\n",
    "    return report_results\n",
    "\n",
    "\n",
    "def create_tot_report_dict(identifier_inspection: List[str], inspection_results_df_dict: dict) -> dict:\n",
    "    \"\"\"Create dictionary containing all reports for inspection batches selected.\"\"\"\n",
    "    inpection_batches_reports_dict = {}\n",
    "\n",
    "    for identifier in identifier_inspection:\n",
    "        tot_reports[identifier] = create_report(inspection_results_df_dict[identifier])\n",
    "\n",
    "    return inpection_batches_reports_dict\n",
    "\n",
    "\n",
    "def create_feature_summary(inpection_batches_reports_dict: dict, explanation: bool = False) -> dict:\n",
    "    \"\"\"Create summary of number of combinations per features.\"\"\"\n",
    "    results_features = _aggregate_results_per_feature(inpection_batches_reports_dict)\n",
    "    features_summary = {}\n",
    "    explanation_summary = {}\n",
    "    for feature, feature_results in results_features.items():\n",
    "        explanation_summary[feature] = {}\n",
    "\n",
    "        if not isinstance(feature_results, list):\n",
    "            features_summary[feature] = {}\n",
    "\n",
    "            for sub_feature, sub_feature_results in feature_results.items():\n",
    "                explanation_summary[feature][sub_feature] = {}\n",
    "                keys = [key for key in sub_feature_results[0].keys()]\n",
    "                key_counts = {}\n",
    "\n",
    "                for key in keys:\n",
    "\n",
    "                    key_counts[key] = len(set([k[key] for k in results_features[feature][sub_feature]]))\n",
    "\n",
    "                    if key_counts[key] != 1:\n",
    "                        explanation_summary[feature][sub_feature][key] = set(\n",
    "                            [k[key] for k in results_features[feature][sub_feature]]\n",
    "                        )\n",
    "\n",
    "                features_summary[feature][sub_feature] = key_counts\n",
    "        else:\n",
    "            keys = [key for key in feature_results[0].keys()]\n",
    "            key_counts = {}\n",
    "\n",
    "            for key in keys:\n",
    "                key_counts[key] = len(set([k[key] for k in results_features[feature]]))\n",
    "\n",
    "                if key_counts[key] != 1:\n",
    "                    explanation_summary[feature][key] = set([k[key] for k in results_features[feature]])\n",
    "\n",
    "            features_summary[feature] = key_counts\n",
    "    if explanation:\n",
    "        return _visualize_differences_in_inspection_results(explanation_summary)\n",
    "\n",
    "    return _visualize_summary(features_summary)\n",
    "\n",
    "\n",
    "def _aggregate_results_per_feature(inspection_batches_reports_dict: dict) -> dict:\n",
    "    \"\"\"Aggregate results for all features across all batches.\"\"\"\n",
    "    results_per_feature_per_batch = {}\n",
    "\n",
    "    for feature, sub_features in _INSPECTION_REPORT_FEATURES.items():\n",
    "        for batch in inspection_batches_reports_dict.keys():\n",
    "\n",
    "            if sub_features:\n",
    "                if feature not in results_per_feature_per_batch.keys():\n",
    "                    results_per_feature_per_batch[feature] = {}\n",
    "\n",
    "                for sub_feature in sub_features:\n",
    "\n",
    "                    if sub_feature not in results_per_feature_per_batch[feature].keys():\n",
    "                        results_per_feature_per_batch[feature][sub_feature] = []\n",
    "\n",
    "                    for k, v in inspection_batches_reports_dict[batch][feature][sub_feature].items():\n",
    "                        results_per_feature_per_batch[feature][sub_feature].append(\n",
    "                            inspection_batches_reports_dict[batch][feature][sub_feature][k]\n",
    "                        )\n",
    "            else:\n",
    "\n",
    "                if feature not in results_per_feature_per_batch.keys():\n",
    "                    results_per_feature_per_batch[feature] = []\n",
    "\n",
    "                for k, v in inspection_batches_reports_dict[batch][feature].items():\n",
    "                    results_per_feature_per_batch[feature].append(inspection_batches_reports_dict[batch][feature][k])\n",
    "\n",
    "    return results_per_feature_per_batch\n",
    "\n",
    "\n",
    "def _visualize_summary(summary_results: dict):\n",
    "    \"\"\"Visualize summary of results for all inspection batches (if there are any differences).\"\"\"\n",
    "    for feature, feature_results in summary_results.items():\n",
    "        logger.debug(\"\\n===============================================================================\")\n",
    "        logger.debug(feature)\n",
    "        logger.debug(\"===============================================================================\")\n",
    "        if len(feature_results) > 1:\n",
    "            for sub_feature, sub_feature_results in feature_results.items():\n",
    "                logger.debug(\"\\n---------------------------------------------------------------------------\")\n",
    "                logger.debug(sub_feature)\n",
    "                for key, count in sub_feature_results.items():\n",
    "                    if count > 1:\n",
    "                        logger.debug(f\"{key}: {count}\")\n",
    "\n",
    "        else:\n",
    "            for key, count in feature_results.items():\n",
    "                if count > 1:\n",
    "                    logger.debug(\"\\n===========================================================================================\")\n",
    "                    logger.debug(feature)\n",
    "                    logger.debug(\"===========================================================================================\")\n",
    "                    logger.debug(f\"{key}: {count}\")\n",
    "\n",
    "\n",
    "def _visualize_differences_in_inspection_results(summary_explained: dict):\n",
    "    \"\"\"Function to identify and visualize differences in inspection batches for the different features.\"\"\"\n",
    "    for feature, feature_results in summary_explained.items():\n",
    "        logger.debug(\"\\n=========================================================================\")\n",
    "        logger.debug(feature)\n",
    "        logger.debug(\"=========================================================================\")\n",
    "        if summary_explained[feature]:\n",
    "            for sub_feature, sub_feature_results in feature_results.items():\n",
    "                if sub_feature_results:\n",
    "                    logger.debug(\"\\n-------------------------------------------------\")\n",
    "                    logger.debug(sub_feature)\n",
    "                    logger.debug(\"-------------------------------------------------\")\n",
    "                    for key_sf in sub_feature_results.keys():\n",
    "                        for value in sub_feature_results[key_sf]:\n",
    "                            logger.debug()\n",
    "                            logger.debug(f\"{key_sf}: {value}\")\n",
    "                            for batch, batch_results in tot_reports.items():\n",
    "                                for b, r in batch_results[feature][sub_feature].items():\n",
    "                                    if r[key_sf] == value:\n",
    "                                        logger.debug(\"Identifier:\", batch)\n",
    "        else:\n",
    "            if feature_results:\n",
    "                for key_f in feature_results.keys():\n",
    "                    for value in sub_feature_results[key_f]:\n",
    "                        logger.debug(\"=========================================================================\")\n",
    "                        logger.debug(f\"\\n{key_f}: {value}\")\n",
    "                        for batch, batch_results in tot_reports.items():\n",
    "                            for b, r in batch_results[feature].items():\n",
    "                                if r[key_f] == value:\n",
    "                                    logger.debug(\"Identifier:\", batch)"
   ]
  },
  {
   "cell_type": "code",
   "execution_count": null,
   "metadata": {
    "ExecuteTime": {
     "end_time": "2019-08-23T09:25:13.372426Z",
     "start_time": "2019-08-23T09:25:12.411090Z"
    }
   },
   "outputs": [],
   "source": [
    "# Collect all reports and provide results\n",
    "tot_reports = create_tot_report_dict(identifier_inspection, df_total)"
   ]
  },
  {
   "cell_type": "markdown",
   "metadata": {},
   "source": [
    "# Analyze batch with number of Repetitions: 0.05k"
   ]
  },
  {
   "cell_type": "code",
   "execution_count": null,
   "metadata": {
    "ExecuteTime": {
     "end_time": "2019-08-23T07:08:31.882675Z",
     "start_time": "2019-08-23T07:08:31.024010Z"
    },
    "scrolled": true
   },
   "outputs": [],
   "source": [
    "create_inspection_analysis_plots(df_total[\"005k-test-new\"])"
   ]
  },
  {
   "cell_type": "code",
   "execution_count": null,
   "metadata": {
    "ExecuteTime": {
     "end_time": "2019-08-23T07:08:44.937037Z",
     "start_time": "2019-08-23T07:08:44.788865Z"
    }
   },
   "outputs": [],
   "source": [
    "df_total[\"005k-test-new\"].describe()"
   ]
  },
  {
   "cell_type": "code",
   "execution_count": null,
   "metadata": {
    "ExecuteTime": {
     "end_time": "2019-08-23T07:40:31.669747Z",
     "start_time": "2019-08-23T07:40:31.267899Z"
    },
    "scrolled": true
   },
   "outputs": [],
   "source": [
    "create_report(df_total[\"005k-test-new\"])"
   ]
  },
  {
   "cell_type": "markdown",
   "metadata": {},
   "source": [
    "# Analyze batch with number of Repetitions: 0.1k"
   ]
  },
  {
   "cell_type": "code",
   "execution_count": null,
   "metadata": {
    "ExecuteTime": {
     "end_time": "2019-08-09T09:22:29.133175Z",
     "start_time": "2019-08-09T09:22:28.472649Z"
    },
    "scrolled": true
   },
   "outputs": [],
   "source": [
    "create_inspection_analysis_plots(df_duration_total[\"01k-test-new\"])"
   ]
  },
  {
   "cell_type": "code",
   "execution_count": null,
   "metadata": {
    "ExecuteTime": {
     "end_time": "2019-08-22T14:26:06.968233Z",
     "start_time": "2019-08-22T14:26:06.923106Z"
    }
   },
   "outputs": [],
   "source": [
    "df_duration_total[\"01k-test-new\"].describe()"
   ]
  },
  {
   "cell_type": "code",
   "execution_count": null,
   "metadata": {
    "ExecuteTime": {
     "end_time": "2019-08-22T09:26:35.698584Z",
     "start_time": "2019-08-22T09:26:35.101318Z"
    },
    "scrolled": true
   },
   "outputs": [],
   "source": [
    "create_report(df_total[\"01k-test-new\"])"
   ]
  },
  {
   "cell_type": "markdown",
   "metadata": {},
   "source": [
    "# Analyze batch with number of Repetitions: 0.5k"
   ]
  },
  {
   "cell_type": "code",
   "execution_count": null,
   "metadata": {
    "ExecuteTime": {
     "end_time": "2019-08-09T09:22:33.224280Z",
     "start_time": "2019-08-09T09:22:32.980684Z"
    },
    "scrolled": true
   },
   "outputs": [],
   "source": [
    "create_inspection_analysis_plots(df_duration_total[\"05k-test-new\"])"
   ]
  },
  {
   "cell_type": "code",
   "execution_count": null,
   "metadata": {
    "ExecuteTime": {
     "end_time": "2019-08-09T09:24:01.480436Z",
     "start_time": "2019-08-09T09:24:01.445745Z"
    }
   },
   "outputs": [],
   "source": [
    "df_duration_total[\"05k-test-new\"].describe()"
   ]
  },
  {
   "cell_type": "code",
   "execution_count": null,
   "metadata": {
    "ExecuteTime": {
     "end_time": "2019-08-22T09:26:33.311301Z",
     "start_time": "2019-08-22T09:26:32.741213Z"
    }
   },
   "outputs": [],
   "source": [
    "create_report(df_total[\"05k-test-new\"])"
   ]
  },
  {
   "cell_type": "markdown",
   "metadata": {},
   "source": [
    "# Analyze batch with number of Repetitions: 2k"
   ]
  },
  {
   "cell_type": "code",
   "execution_count": null,
   "metadata": {
    "ExecuteTime": {
     "end_time": "2019-08-19T15:30:47.197334Z",
     "start_time": "2019-08-19T15:30:46.937485Z"
    },
    "scrolled": true
   },
   "outputs": [],
   "source": [
    "create_inspection_analysis_plots(df_duration_total[\"2k-test-new\"])"
   ]
  },
  {
   "cell_type": "code",
   "execution_count": null,
   "metadata": {
    "ExecuteTime": {
     "end_time": "2019-08-19T15:07:28.074192Z",
     "start_time": "2019-08-19T15:07:28.006381Z"
    }
   },
   "outputs": [],
   "source": [
    "df_duration_total[\"2k-test-new\"].describe()"
   ]
  },
  {
   "cell_type": "code",
   "execution_count": null,
   "metadata": {
    "ExecuteTime": {
     "end_time": "2019-08-22T10:08:48.467296Z",
     "start_time": "2019-08-22T10:08:47.936093Z"
    },
    "scrolled": false
   },
   "outputs": [],
   "source": [
    "create_report(df_total[\"2k-test-new\"], visualization=True)"
   ]
  },
  {
   "cell_type": "markdown",
   "metadata": {},
   "source": [
    "# Analyze batch with number of Repetitions: 4k"
   ]
  },
  {
   "cell_type": "code",
   "execution_count": null,
   "metadata": {
    "ExecuteTime": {
     "end_time": "2019-08-09T09:22:37.098480Z",
     "start_time": "2019-08-09T09:22:36.860012Z"
    },
    "scrolled": true
   },
   "outputs": [],
   "source": [
    "create_inspection_analysis_plots(df_duration_total[\"4k-test-new\"])"
   ]
  },
  {
   "cell_type": "code",
   "execution_count": null,
   "metadata": {
    "ExecuteTime": {
     "end_time": "2019-08-09T09:23:56.822557Z",
     "start_time": "2019-08-09T09:23:56.785864Z"
    }
   },
   "outputs": [],
   "source": [
    "df_duration_total[\"4k-test-new\"].describe()"
   ]
  },
  {
   "cell_type": "code",
   "execution_count": null,
   "metadata": {
    "ExecuteTime": {
     "end_time": "2019-08-22T09:26:50.021019Z",
     "start_time": "2019-08-22T09:26:49.438941Z"
    }
   },
   "outputs": [],
   "source": [
    "create_report(df_total[\"4k-test-new\"])"
   ]
  },
  {
   "cell_type": "markdown",
   "metadata": {},
   "source": [
    "# Analyze batch with number of Repetitions: 8k"
   ]
  },
  {
   "cell_type": "code",
   "execution_count": null,
   "metadata": {
    "ExecuteTime": {
     "end_time": "2019-08-09T09:22:39.123494Z",
     "start_time": "2019-08-09T09:22:38.721397Z"
    },
    "scrolled": true
   },
   "outputs": [],
   "source": [
    "create_inspection_analysis_plots(df_duration_total[\"8k-test-new\"])"
   ]
  },
  {
   "cell_type": "code",
   "execution_count": null,
   "metadata": {
    "ExecuteTime": {
     "end_time": "2019-08-20T07:39:48.188945Z",
     "start_time": "2019-08-20T07:39:48.153957Z"
    }
   },
   "outputs": [],
   "source": [
    "df_duration_total[\"8k-test-new\"].describe()"
   ]
  },
  {
   "cell_type": "code",
   "execution_count": null,
   "metadata": {
    "ExecuteTime": {
     "end_time": "2019-08-22T09:26:53.245427Z",
     "start_time": "2019-08-22T09:26:52.639762Z"
    }
   },
   "outputs": [],
   "source": [
    "create_report(df_total[\"8k-test-new\"])"
   ]
  },
  {
   "cell_type": "markdown",
   "metadata": {},
   "source": [
    "# Analyze batch with number of Repetitions: 16k"
   ]
  },
  {
   "cell_type": "code",
   "execution_count": null,
   "metadata": {
    "ExecuteTime": {
     "end_time": "2019-08-09T09:22:40.907329Z",
     "start_time": "2019-08-09T09:22:40.662089Z"
    },
    "scrolled": true
   },
   "outputs": [],
   "source": [
    "create_inspection_analysis_plots(df_duration_total[\"16k-test-new\"])"
   ]
  },
  {
   "cell_type": "code",
   "execution_count": null,
   "metadata": {
    "ExecuteTime": {
     "end_time": "2019-08-09T09:23:52.380098Z",
     "start_time": "2019-08-09T09:23:52.330676Z"
    }
   },
   "outputs": [],
   "source": [
    "df_duration_total[\"16k-test-new\"].describe()"
   ]
  },
  {
   "cell_type": "code",
   "execution_count": null,
   "metadata": {
    "ExecuteTime": {
     "end_time": "2019-08-22T09:26:56.055823Z",
     "start_time": "2019-08-22T09:26:55.450321Z"
    }
   },
   "outputs": [],
   "source": [
    "create_report(df_total[\"16k-test-new\"])"
   ]
  },
  {
   "cell_type": "markdown",
   "metadata": {},
   "source": [
    "# Analyze batch with number of Repetitions: 20k"
   ]
  },
  {
   "cell_type": "code",
   "execution_count": null,
   "metadata": {
    "ExecuteTime": {
     "end_time": "2019-08-09T09:22:43.043836Z",
     "start_time": "2019-08-09T09:22:42.813923Z"
    },
    "scrolled": true
   },
   "outputs": [],
   "source": [
    "create_inspection_analysis_plots(df_duration_total[\"20k-test-new\"])"
   ]
  },
  {
   "cell_type": "code",
   "execution_count": null,
   "metadata": {
    "ExecuteTime": {
     "end_time": "2019-08-09T09:23:49.046652Z",
     "start_time": "2019-08-09T09:23:49.009925Z"
    }
   },
   "outputs": [],
   "source": [
    "df_duration_total[\"20k-test-new\"].describe()"
   ]
  },
  {
   "cell_type": "code",
   "execution_count": null,
   "metadata": {
    "ExecuteTime": {
     "end_time": "2019-08-22T09:26:58.829102Z",
     "start_time": "2019-08-22T09:26:58.221421Z"
    }
   },
   "outputs": [],
   "source": [
    "create_report(df_total[\"20k-test-new\"])"
   ]
  },
  {
   "cell_type": "markdown",
   "metadata": {},
   "source": [
    "# Visualize results for all reports of the batches"
   ]
  },
  {
   "cell_type": "markdown",
   "metadata": {},
   "source": [
    "## Normal mode"
   ]
  },
  {
   "cell_type": "code",
   "execution_count": null,
   "metadata": {
    "ExecuteTime": {
     "end_time": "2019-08-22T17:19:29.858506Z",
     "start_time": "2019-08-22T17:19:29.844298Z"
    },
    "scrolled": false
   },
   "outputs": [],
   "source": [
    "create_feature_summary(tot_reports)"
   ]
  },
  {
   "cell_type": "markdown",
   "metadata": {},
   "source": [
    "## Explanation mode"
   ]
  },
  {
   "cell_type": "code",
   "execution_count": null,
   "metadata": {
    "ExecuteTime": {
     "end_time": "2019-08-22T17:19:34.311943Z",
     "start_time": "2019-08-22T17:19:34.300341Z"
    },
    "scrolled": false
   },
   "outputs": [],
   "source": [
    "create_feature_summary(tot_reports, explanation=True)"
   ]
  },
  {
   "cell_type": "markdown",
   "metadata": {},
   "source": [
    "# Error analysis"
   ]
  },
  {
   "cell_type": "code",
   "execution_count": null,
   "metadata": {},
   "outputs": [],
   "source": [
    "def create_inspection_batches_parameters_dataframe(\n",
    "    parameters_map: dict,\n",
    "    inspection_results_batches_dict: dict,\n",
    "    identifier_list: List[str]\n",
    "    ) -> Tuple[pd.DataFrame, Dict]:\n",
    "    \"\"\"This function create pd.DataFrame of selected parameters to be used for statistics and error analysis.\n",
    "    \n",
    "    It also outputs batches and parameters mapping that is necessary for plots.\n",
    "    \"\"\"\n",
    "    df_parameters = pd.DataFrame()\n",
    "    batches_parameter_map = {}\n",
    "    for key, parameter in parameters_map.items():\n",
    "        batches_parameter_map[parameter] = []\n",
    "        for identifier in identifier_list:\n",
    "            df_parameters[parameter + \"_\" + str(identifier.split(\"-\")[0])] = inspection_results_batches_dict[identifier][key]\n",
    "            batches_parameter_map[parameter].append(parameter + \"_\" + str(identifier.split(\"-\")[0]))\n",
    "\n",
    "    return df_parameters, batches_parameter_map\n",
    "\n",
    "\n",
    "def create_box_plot(data: pd.DataFrame,\n",
    "               columns: Union[str, List[str]] = None,\n",
    "               title_box: str = \"Box plot\",\n",
    "               y_label: str = \"Variable [Measurement Unit]\",\n",
    "               static: str = False):\n",
    "    \"\"\"Create duration Box plot.\"\"\"\n",
    "    columns = columns if columns is not None else data[columns].columns     \n",
    "        \n",
    "    figure = data[columns].iplot(\n",
    "        kind=\"box\", title=title_box, yTitle=y_label, asFigure=True\n",
    "    )\n",
    "\n",
    "    return figure"
   ]
  },
  {
   "cell_type": "code",
   "execution_count": null,
   "metadata": {
    "ExecuteTime": {
     "end_time": "2019-08-23T10:13:01.516521Z",
     "start_time": "2019-08-23T10:13:01.498411Z"
    }
   },
   "outputs": [],
   "source": [
    "mapping_parameters = {\n",
    "    \"job_duration\": \"job_duration\",\n",
    "    \"build_duration\": \"build_duration\",\n",
    "    \"created\": \"created\",\n",
    "    \"status__job__finished_at\": \"job_finished\",\n",
    "    \"job_log__stdout__@result__elapsed\": \"elapsed\",\n",
    "    \"job_log__stdout__@result__rate\": \"rate\",\n",
    "    \"job_log__usage__ru_utime\": \"utime\",\n",
    "    \"job_log__usage__ru_stime\": \"stime\",\n",
    "    \"job_log__usage__ru_nvcsw\": \"nvcsw\",\n",
    "    \"job_log__usage__ru_nivcsw\": \"nivcsw\"\n",
    "}\n",
    "dftotal, batches_parameters_map = create_inspection_batches_parameters_dataframe(mapping_parameters, df_total, identifier_inspection)"
   ]
  },
  {
   "cell_type": "code",
   "execution_count": null,
   "metadata": {
    "ExecuteTime": {
     "end_time": "2019-08-23T09:54:42.339363Z",
     "start_time": "2019-08-23T09:54:42.262796Z"
    }
   },
   "outputs": [],
   "source": [
    "dftotal.describe()"
   ]
  },
  {
   "cell_type": "markdown",
   "metadata": {},
   "source": [
    "## Histograms of the batches for job_duration"
   ]
  },
  {
   "cell_type": "code",
   "execution_count": null,
   "metadata": {
    "ExecuteTime": {
     "end_time": "2019-08-23T10:13:47.482285Z",
     "start_time": "2019-08-23T10:13:47.323091Z"
    }
   },
   "outputs": [],
   "source": [
    "dftotal[batches_parameters_map[\"job_duration\"]].iplot(kind=\"histogram\", bins=15, theme=\"white\", title=\"Job duration distribution per batch\",\n",
    "         xTitle='Inspection Time [s]', yTitle='Count')"
   ]
  },
  {
   "cell_type": "markdown",
   "metadata": {},
   "source": [
    "## Boxplot of the job_duration batches"
   ]
  },
  {
   "cell_type": "code",
   "execution_count": null,
   "metadata": {
    "ExecuteTime": {
     "end_time": "2019-08-23T10:19:24.701823Z",
     "start_time": "2019-08-23T10:19:24.628795Z"
    },
    "scrolled": false
   },
   "outputs": [],
   "source": [
    "fig = create_box_plot(dftotal, batches_parameters_map[\"job_duration\"], y_label=\"Time [s]\", title_box=\"Box plots job duration per batch\")\n",
    "\n",
    "py.iplot(fig)"
   ]
  },
  {
   "cell_type": "markdown",
   "metadata": {},
   "source": [
    "## Boxplot of the elapsed batches"
   ]
  },
  {
   "cell_type": "code",
   "execution_count": null,
   "metadata": {
    "ExecuteTime": {
     "end_time": "2019-08-19T15:39:53.939965Z",
     "start_time": "2019-08-19T15:39:53.795816Z"
    }
   },
   "outputs": [],
   "source": [
    "fig = create_box_plot(dftotal, batches_parameters_map[\"elapsed\"], y_label=\"Elapsed [ms]\", title_box=\"Box plots elapsed time per batch\")\n",
    "\n",
    "py.iplot(fig)"
   ]
  },
  {
   "cell_type": "markdown",
   "metadata": {},
   "source": [
    "## Boxplot of the rate batches"
   ]
  },
  {
   "cell_type": "code",
   "execution_count": null,
   "metadata": {
    "ExecuteTime": {
     "end_time": "2019-08-23T10:19:37.807497Z",
     "start_time": "2019-08-23T10:19:37.715052Z"
    }
   },
   "outputs": [],
   "source": [
    "fig = create_box_plot(dftotal, batches_parameters_map[\"rate\"], y_label=\"Rate [GFLOPS]\",title_box=\"Box plots rate per batch\")\n",
    "\n",
    "py.iplot(fig)"
   ]
  },
  {
   "cell_type": "markdown",
   "metadata": {},
   "source": [
    "## Boxplot of the utime batches"
   ]
  },
  {
   "cell_type": "code",
   "execution_count": null,
   "metadata": {
    "ExecuteTime": {
     "end_time": "2019-08-19T14:41:08.652080Z",
     "start_time": "2019-08-19T14:41:08.502758Z"
    }
   },
   "outputs": [],
   "source": [
    "fig = create_box_plot(dftotal, batches_parameters_map[\"utime\"], y_label=\"Time [s]\", title_box=\"Box plots utime per batch\")\n",
    "\n",
    "py.iplot(fig)"
   ]
  },
  {
   "cell_type": "markdown",
   "metadata": {},
   "source": [
    "## Boxplot of the stime batches"
   ]
  },
  {
   "cell_type": "code",
   "execution_count": null,
   "metadata": {
    "ExecuteTime": {
     "end_time": "2019-08-19T14:41:11.930253Z",
     "start_time": "2019-08-19T14:41:11.816945Z"
    }
   },
   "outputs": [],
   "source": [
    "fig = create_box_plot(dftotal, batches_parameters_map[\"stime\"], y_label=\"Time [s]\", title_box=\"Box plots stime per batch\")\n",
    "\n",
    "py.iplot(fig)"
   ]
  },
  {
   "cell_type": "markdown",
   "metadata": {},
   "source": [
    "## Boxplot of the nvcsw batches"
   ]
  },
  {
   "cell_type": "code",
   "execution_count": null,
   "metadata": {
    "ExecuteTime": {
     "end_time": "2019-08-19T14:41:14.920063Z",
     "start_time": "2019-08-19T14:41:14.815936Z"
    }
   },
   "outputs": [],
   "source": [
    "fig = create_box_plot(dftotal, batches_parameters_map[\"nvcsw\"], y_label=\"Context Switches []\", title_box=\"Box plots nvcsw per batch\")\n",
    "\n",
    "py.iplot(fig)"
   ]
  },
  {
   "cell_type": "markdown",
   "metadata": {},
   "source": [
    "## Boxplot of the nivcsw batches"
   ]
  },
  {
   "cell_type": "code",
   "execution_count": null,
   "metadata": {
    "ExecuteTime": {
     "end_time": "2019-08-19T14:41:18.838298Z",
     "start_time": "2019-08-19T14:41:18.729925Z"
    }
   },
   "outputs": [],
   "source": [
    "fig = create_box_plot(dftotal, batches_parameters_map[\"nivcsw\"], y_label=\"Context Switches []\", title_box=\"Box plots nivcsw per batch\")\n",
    "\n",
    "py.iplot(fig)"
   ]
  },
  {
   "cell_type": "markdown",
   "metadata": {
    "ExecuteTime": {
     "end_time": "2019-08-06T14:09:40.608065Z",
     "start_time": "2019-08-06T14:09:40.605168Z"
    }
   },
   "source": [
    "# Interpolations"
   ]
  },
  {
   "cell_type": "code",
   "execution_count": 122,
   "metadata": {
    "ExecuteTime": {
     "end_time": "2019-08-23T10:49:45.854529Z",
     "start_time": "2019-08-23T10:49:45.835628Z"
    }
   },
   "outputs": [],
   "source": [
    "def evaluate_statistics(df_inspection: pd.DataFrame, inspection_parameter: str) -> Dict:\n",
    "    \"\"\"Evaluate statistical quantities of a specific parameter of inspection results.\"\"\"\n",
    "    cv = df_inspection[inspection_parameter].std() / df_inspection[inspection_parameter].mean() * 100\n",
    "    std_error = df_inspection[inspection_parameter].std() / np.sqrt(\n",
    "        df_inspection[inspection_parameter].shape[0]\n",
    "    )\n",
    "    std = df_inspection[inspection_parameter].std()\n",
    "    median = df_inspection[inspection_parameter].median()\n",
    "    q = df_inspection[inspection_parameter].quantile([0.25, 0.75])\n",
    "    q1 = q[0.25]\n",
    "    q3 = q[0.75]\n",
    "    iqr = q3 - q1\n",
    "    maxr = df_inspection[inspection_parameter].max()\n",
    "    minr = df_inspection[inspection_parameter].min()\n",
    "\n",
    "    return {\n",
    "        \"cv\": cv,\n",
    "        \"std_error\": std_error,\n",
    "        \"std\": std,\n",
    "        \"median\": median,\n",
    "        \"q1\": q1,\n",
    "        \"q3\": q3,\n",
    "        \"iqr\": iqr,\n",
    "        \"max\": maxr,\n",
    "        \"min\": minr,\n",
    "    }\n",
    "\n",
    "\n",
    "def evaluate_inspection_statistics_result_dict(\n",
    "    df_inspection_batches_dict: dict,\n",
    "    list_inspection_identifiers: List[str], \n",
    "    inspection_parameter: str\n",
    "    ) -> dict:\n",
    "    \"\"\"Aggregate statistical quantities per inspection parameter for inspection batches.\"\"\"\n",
    "    evaluated_statistics = {}\n",
    "    for identifier in list_inspection_identifiers:\n",
    "        evaluated_statistics[identifier] = evaluate_statistics(\n",
    "            df_inspection=df_inspection_batches_dict[identifier], inspection_parameter=inspection_parameter\n",
    "        )\n",
    "\n",
    "    aggregated_statistics = {}\n",
    "\n",
    "    for statistical_quantity in evaluated_statistics[identifier].keys():\n",
    "        aggregated_statistics[statistical_quantity] = [\n",
    "            values[statistical_quantity] for values in evaluated_statistics.values()\n",
    "        ]\n",
    "\n",
    "    return aggregated_statistics\n",
    "\n",
    "\n",
    "def plot_interpolated_statistics_of_inspection_parameters(\n",
    "    statistical_results_dict: dict,\n",
    "    inspection_parameters: List[str],\n",
    "    colour_list: List[str],\n",
    "    statistical_quantities: List[str],\n",
    "    title_ylabel: str = \" \"\n",
    "):\n",
    "    \"\"\"Plot interpolated statistical quantity/ies of inspection parameter/s from different inspection batches.\"\"\"\n",
    "    if len(inspection_parameters) == 1 and len(statistical_quantities) >= 1:\n",
    "        if len(colour_list) != len(statistical_quantities):\n",
    "            logger.warning(f\"List of statistical quantities and List of colours shall have the same length!\")\n",
    "        parameter_results = statistical_results_dict[inspection_parameters[0]]\n",
    "        for i, quantity in enumerate(statistical_quantities):\n",
    "            plt.plot(identifier_inspection, parameter_results[quantity], f\"{colour[i]}o-\", label=quantity)\n",
    "            i += 1\n",
    "        plt.title(f\"Statistics plot for {inspection_parameters} of different batch\")\n",
    "\n",
    "    elif len(inspection_parameters) >= 1 and len(statistical_quantities) == 1:\n",
    "        if len(inspection_parameters) != len(colour_list):\n",
    "            logger.warning(f\"List of inspection parameters and List of colours shall have the same length!\")\n",
    "        for i, parameter in enumerate(inspection_parameters):\n",
    "            parameter_results = dftotal_statistics[parameter]\n",
    "            plt.plot(identifier_inspection, parameter_results[statistical_quantities[0]], f\"{colour[i]}o-\", label=parameter)\n",
    "            i += 1\n",
    "        plt.title(f\"Statistics plot for {statistical_quantities} of different batch for different parameters\")\n",
    "    else:\n",
    "        logger.warning(\n",
    "            \"\"\"\n",
    "            Combinations allowed: \n",
    "                - single inspection parameter | single or multiple statistical quantity/ies\n",
    "                - single or multiple inspection parameter/s | single statistical quantity\n",
    "            \"\"\"\n",
    "            )\n",
    "        \n",
    "    plt.xlabel(\"Batch Identifier\")\n",
    "    plt.ylabel(title_ylabel)\n",
    "    plt.tick_params(axis=\"x\", rotation=45)\n",
    "    plt.legend()\n",
    "    plt.show()"
   ]
  },
  {
   "cell_type": "code",
   "execution_count": null,
   "metadata": {
    "ExecuteTime": {
     "end_time": "2019-08-23T10:35:11.869925Z",
     "start_time": "2019-08-23T10:35:11.826552Z"
    }
   },
   "outputs": [],
   "source": [
    "mapping_parameter = {\n",
    "    \"job_duration\": \"job_duration\",\n",
    "    \"job_log__stdout__@result__elapsed\": \"elapsed\",\n",
    "    \"job_log__stdout__@result__rate\": \"rate\",\n",
    "    \"job_log__usage__ru_utime\": \"utime\",\n",
    "    \"job_log__usage__ru_stime\": \"stime\",\n",
    "    \"job_log__usage__ru_nvcsw\": \"nvcsw\",\n",
    "    \"job_log__usage__ru_nivcsw\": \"nivcsw\"\n",
    "}   \n",
    "\n",
    "dftotal_statistics = {}\n",
    "for parameter, key in mapping_parameter.items():\n",
    "    dftotal_statistics[key] = evaluate_inspection_statistics_result_dict(\n",
    "        df_inspection_batches_dict=df_total,\n",
    "        list_inspection_identifiers=identifier_inspection,\n",
    "        inspection_parameter=parameter)"
   ]
  },
  {
   "cell_type": "markdown",
   "metadata": {},
   "source": [
    "## Standard Deviation for `job_duration` and `elapsed_time`"
   ]
  },
  {
   "cell_type": "code",
   "execution_count": null,
   "metadata": {
    "ExecuteTime": {
     "end_time": "2019-08-23T10:36:26.278560Z",
     "start_time": "2019-08-23T10:36:26.030091Z"
    }
   },
   "outputs": [],
   "source": [
    "parameters_selected = [\"job_duration\", \"elapsed\"]\n",
    "colour = [\"g\", \"b\"]\n",
    "quantity = [\"std\"]\n",
    "\n",
    "plot_interpolated_statistics_of_inspection_parameters(\n",
    "    statistical_results_dict=dftotal_statistics,\n",
    "    inspection_parameters=parameters_selected,\n",
    "                                    colour_list=colour,\n",
    "                                    statistical_quantities=quantity,\n",
    "                                    title_ylabel= \"Time [s]\")"
   ]
  },
  {
   "cell_type": "code",
   "execution_count": null,
   "metadata": {
    "ExecuteTime": {
     "end_time": "2019-08-22T09:06:45.218858Z",
     "start_time": "2019-08-22T09:06:44.931808Z"
    },
    "scrolled": false
   },
   "outputs": [],
   "source": [
    "parameters_selected = [\"elapsed\"]\n",
    "colour = [\"b\"]\n",
    "quantity = [\"std\"]\n",
    "\n",
    "plot_interpolated_statistics_of_inspection_parameters(statistical_results_dict=dftotal_statistics,\n",
    "                                                      inspection_parameters=parameters_selected,\n",
    "                                                      colour_list=colour,\n",
    "                                                      statistical_quantities=quantity,\n",
    "                                                       title_ylabel= \"Time [s]\")"
   ]
  },
  {
   "cell_type": "code",
   "execution_count": null,
   "metadata": {
    "ExecuteTime": {
     "end_time": "2019-08-23T10:41:31.775464Z",
     "start_time": "2019-08-23T10:41:31.545399Z"
    }
   },
   "outputs": [],
   "source": [
    "parameters_selected = [\"job_duration\", \"elapsed\"]\n",
    "colour = [\"g\", \"b\"]\n",
    "quantity = [\"std_error\"]\n",
    "\n",
    "plot_interpolated_statistics_of_inspection_parameters(\n",
    "    statistical_results_dict=dftotal_statistics,\n",
    "    inspection_parameters=parameters_selected,\n",
    "                                    colour_list=colour,\n",
    "                                    statistical_quantities=quantity,\n",
    "                                    title_ylabel= \"Time [s]\")"
   ]
  },
  {
   "cell_type": "code",
   "execution_count": null,
   "metadata": {
    "ExecuteTime": {
     "end_time": "2019-08-23T10:41:40.078346Z",
     "start_time": "2019-08-23T10:41:39.848042Z"
    }
   },
   "outputs": [],
   "source": [
    "parameters_selected = [\"elapsed\"]\n",
    "colour = [\"b\"]\n",
    "quantity = [\"std_error\"]\n",
    "\n",
    "plot_interpolated_statistics_of_inspection_parameters(\n",
    "    statistical_results_dict=dftotal_statistics,\n",
    "    inspection_parameters=parameters_selected,\n",
    "                                    colour_list=colour,\n",
    "                                    statistical_quantities=quantity,\n",
    "                                    title_ylabel= \"Time [s]\")"
   ]
  },
  {
   "cell_type": "code",
   "execution_count": null,
   "metadata": {
    "ExecuteTime": {
     "end_time": "2019-08-23T10:40:44.180013Z",
     "start_time": "2019-08-23T10:40:43.947677Z"
    }
   },
   "outputs": [],
   "source": [
    "parameters_selected = [\"job_duration\", \"elapsed\", \"rate\"]\n",
    "colour = [\"g\", \"b\", \"r\"]\n",
    "quantity = [\"cv\"]\n",
    "\n",
    "plot_interpolated_statistics_of_inspection_parameters(statistical_results_dict=dftotal_statistics,\n",
    "    inspection_parameters=parameters_selected,\n",
    "                                    colour_list=colour,\n",
    "                                    statistical_quantities=quantity,\n",
    "                                    title_ylabel=\"CV [%]\")"
   ]
  },
  {
   "cell_type": "markdown",
   "metadata": {},
   "source": [
    "## Box Plots interpolated for `job_duration`"
   ]
  },
  {
   "cell_type": "code",
   "execution_count": null,
   "metadata": {
    "ExecuteTime": {
     "end_time": "2019-08-23T10:38:00.215802Z",
     "start_time": "2019-08-23T10:37:59.952777Z"
    }
   },
   "outputs": [],
   "source": [
    "parameter_selected = [\"job_duration\"]\n",
    "colour = [\"g\", \"b\", \"b\", \"r\", \"y\", \"k\"]\n",
    "quantities = [\"median\", \"q1\", \"q3\", \"max\", \"min\", \"iqr\"]\n",
    "\n",
    "plot_interpolated_statistics_of_inspection_parameters(statistical_results_dict=dftotal_statistics,\n",
    "                                                      inspection_parameters=parameter_selected,\n",
    "                                                      colour_list=colour,\n",
    "                                                      statistical_quantities=quantities,\n",
    "                                                      title_ylabel= \"\")"
   ]
  },
  {
   "cell_type": "markdown",
   "metadata": {},
   "source": [
    "## Box Plots interpolated for `elapsed_time`"
   ]
  },
  {
   "cell_type": "code",
   "execution_count": null,
   "metadata": {
    "ExecuteTime": {
     "end_time": "2019-08-23T10:40:50.176045Z",
     "start_time": "2019-08-23T10:40:49.885048Z"
    },
    "scrolled": false
   },
   "outputs": [],
   "source": [
    "parameter_selected = [\"elapsed\"]\n",
    "colour = [\"g\", \"b\", \"b\", \"r\", \"y\", \"k\"]\n",
    "quantities = [\"median\", \"q1\", \"q3\", \"max\", \"min\", \"iqr\"]\n",
    "plot_interpolated_statistics_of_inspection_parameters(statistical_results_dict=dftotal_statistics,\n",
    "                                                      inspection_parameters=parameter_selected,\n",
    "                                                      colour_list=colour,\n",
    "                                                      statistical_quantities=quantities,\n",
    "                                                      title_ylabel= \"\")"
   ]
  },
  {
   "cell_type": "markdown",
   "metadata": {},
   "source": [
    "# Correlations"
   ]
  },
  {
   "cell_type": "code",
   "execution_count": 124,
   "metadata": {
    "ExecuteTime": {
     "end_time": "2019-08-23T10:51:12.113278Z",
     "start_time": "2019-08-23T10:51:12.097280Z"
    }
   },
   "outputs": [],
   "source": [
    "def create_scatter_plots_for_multiple_batches(\n",
    "    inspection_batches_parameters_dataframe: pd.DataFrame,\n",
    "    list_batches: List[str], \n",
    "    columns: Union[str, List[str]] = None,\n",
    "    title_scatter: str = \" \",\n",
    "    x_label: str = \" \", \n",
    "    y_label: str = \" \"):\n",
    "    \"\"\"Create Scatter plots for multiple batches.\"\"\"\n",
    "    columns = columns if columns is not None else inspection_batches_parameters_dataframe[columns].columns\n",
    "\n",
    "    figure = {\n",
    "    'data': [\n",
    "        {\n",
    "            'x': inspection_batches_parameters_dataframe[columns[0] + '_' + batch],\n",
    "            'y': inspection_batches_parameters_dataframe[columns[1] + '_' + batch],\n",
    "            'name': batch, 'mode': 'markers',\n",
    "        } for batch in list_batches\n",
    "    ],\n",
    "    'layout': {\n",
    "        'title': title_scatter,\n",
    "        'xaxis': {'title': x_label},\n",
    "        'yaxis': {'title': y_label}\n",
    "        }\n",
    "    }\n",
    "    \n",
    "    return figure\n",
    "\n",
    "\n",
    "def create_scatter_and_correlation(data: pd.DataFrame,\n",
    "                                  columns: Union[str, List[str]] = None,\n",
    "                                  title_scatter: str = \"Scatter plot\"):\n",
    "    \"\"\"Create Scatter plot and evaluate correlation coefficients.\"\"\"\n",
    "    columns = columns if columns is not None else data[columns].columns\n",
    "\n",
    "    figure = data[columns].iplot(\n",
    "        kind=\"scatter\",\n",
    "        x=columns[0],\n",
    "        y=columns[1],\n",
    "        title=title_scatter,\n",
    "        xTitle=columns[0],\n",
    "        yTitle=columns[1],\n",
    "        mode='markers',\n",
    "        asFigure=True\n",
    "    )\n",
    "    \n",
    "    for correlation_type in [\"pearson\", \"spearman\", \"kendall\"]:\n",
    "        correlation_matrix = data[columns].corr(correlation_type)\n",
    "        print(f\"\\n{correlation_type} correlation results:\\n{correlation_matrix}\")\n",
    "    \n",
    "    return figure"
   ]
  },
  {
   "cell_type": "markdown",
   "metadata": {},
   "source": [
    "## Correlation between `ru_utime` and `ru_nivcsw`"
   ]
  },
  {
   "cell_type": "code",
   "execution_count": null,
   "metadata": {
    "ExecuteTime": {
     "end_time": "2019-08-23T10:28:40.029828Z",
     "start_time": "2019-08-23T10:28:39.734935Z"
    }
   },
   "outputs": [],
   "source": [
    "repetitions_list = [\n",
    "    \"005k\",\n",
    "    \"01k\",\n",
    "    \"05k\",\n",
    "    \"2k\",\n",
    "    \"4k\",\n",
    "    \"8k\",\n",
    "    \"16k\",\n",
    "    \"20k\"\n",
    "]\n",
    "fig = create_scatter_plots_for_multiple_batches(dftotal,\n",
    "                                                list_batches=repetitions_list,\n",
    "                                                columns=[\"utime\", \"nivcsw\"],\n",
    "                                                title_scatter=\"Scatter plot different batches for utime and nivcsw\",\n",
    "                                                x_label=\"utime [s]\",\n",
    "                                                y_label=\"nivcsw\")\n",
    "\n",
    "py.iplot(fig)"
   ]
  },
  {
   "cell_type": "code",
   "execution_count": null,
   "metadata": {
    "ExecuteTime": {
     "end_time": "2019-08-19T15:03:22.410034Z",
     "start_time": "2019-08-19T15:03:22.305733Z"
    }
   },
   "outputs": [],
   "source": [
    "repetitions_list = [\n",
    "    \"005k\",\n",
    "    \"01k\",\n",
    "    \"05k\"\n",
    "]\n",
    "fig = create_scatter_plots_for_multiple_batches(dftotal,\n",
    "                                                list_batches=repetitions_list,\n",
    "                                                columns=[\"utime\", \"nivcsw\"],\n",
    "                                                title_scatter=\"Scatter plot different batches for utime and nivcsw\",\n",
    "                                                x_label=\"utime [s]\",\n",
    "                                                y_label=\"nivcsw\")\n",
    "\n",
    "py.iplot(fig)"
   ]
  },
  {
   "cell_type": "code",
   "execution_count": null,
   "metadata": {
    "ExecuteTime": {
     "end_time": "2019-08-19T15:04:28.194134Z",
     "start_time": "2019-08-19T15:04:28.076605Z"
    }
   },
   "outputs": [],
   "source": [
    "repetitions_list = [\n",
    "    \"2k\",\n",
    "    \"4k\",\n",
    "    \"8k\"\n",
    "]\n",
    "fig = create_scatter_plots_for_multiple_batches(dftotal,\n",
    "                                                list_batches=repetitions_list,\n",
    "                                                columns=[\"utime\", \"nivcsw\"],\n",
    "                                                title_scatter=\"Scatter plot different batches for utime and nivcsw\",\n",
    "                                                x_label=\"utime [s]\",\n",
    "                                                y_label=\"nivcsw\")\n",
    "\n",
    "py.iplot(fig)"
   ]
  },
  {
   "cell_type": "code",
   "execution_count": null,
   "metadata": {
    "ExecuteTime": {
     "end_time": "2019-08-19T15:03:35.750349Z",
     "start_time": "2019-08-19T15:03:35.644713Z"
    }
   },
   "outputs": [],
   "source": [
    "repetitions_list = [\n",
    "    \"8k\",\n",
    "    \"16k\",\n",
    "    \"20k\"\n",
    "]\n",
    "fig = create_scatter_plots_for_multiple_batches(dftotal,\n",
    "                                                list_batches=repetitions_list,\n",
    "                                                columns=[\"utime\", \"nivcsw\"],\n",
    "                                                title_scatter=\"Scatter plot different batches for utime and nivcsw\",\n",
    "                                                x_label=\"utime [s]\",\n",
    "                                                y_label=\"nivcsw\")\n",
    "\n",
    "py.iplot(fig)"
   ]
  },
  {
   "cell_type": "markdown",
   "metadata": {},
   "source": [
    "## Correlation between `ru_utime` and `ru_nvcsw`"
   ]
  },
  {
   "cell_type": "code",
   "execution_count": null,
   "metadata": {
    "ExecuteTime": {
     "end_time": "2019-08-22T09:27:33.410925Z",
     "start_time": "2019-08-22T09:27:32.808763Z"
    }
   },
   "outputs": [],
   "source": [
    "repetitions_list = [\n",
    "    \"005k\",\n",
    "    \"01k\",\n",
    "    \"05k\",\n",
    "    \"2k\",\n",
    "    \"4k\",\n",
    "    \"8k\",\n",
    "    \"16k\",\n",
    "    \"20k\"\n",
    "]\n",
    "fig = create_scatter_plots_for_multiple_batches(dftotal,\n",
    "                                                list_batches=repetitions_list,\n",
    "                                                columns=[\"utime\", \"nvcsw\"],\n",
    "                                                title_scatter=\"Scatter plot different batches for utime and nvcsw\",\n",
    "                                                x_label=\"utime [s]\",\n",
    "                                                y_label=\"nvcsw\")\n",
    "\n",
    "py.iplot(fig)"
   ]
  },
  {
   "cell_type": "code",
   "execution_count": null,
   "metadata": {
    "ExecuteTime": {
     "end_time": "2019-08-19T15:03:00.557113Z",
     "start_time": "2019-08-19T15:03:00.242003Z"
    }
   },
   "outputs": [],
   "source": [
    "repetitions_list = [\n",
    "    \"005k\",\n",
    "    \"01k\",\n",
    "    \"05k\"\n",
    "]\n",
    "fig = create_scatter_plots_for_multiple_batches(dftotal,\n",
    "                                                list_batches=repetitions_list,\n",
    "                                                columns=[\"utime\", \"nvcsw\"],\n",
    "                                                title_scatter=\"Scatter plot different batches for utime and nvcsw\",\n",
    "                                                x_label=\"utime [s]\",\n",
    "                                                y_label=\"nvcsw\")\n",
    "\n",
    "py.iplot(fig)"
   ]
  },
  {
   "cell_type": "code",
   "execution_count": null,
   "metadata": {
    "ExecuteTime": {
     "end_time": "2019-08-19T15:04:05.814652Z",
     "start_time": "2019-08-19T15:04:05.713763Z"
    }
   },
   "outputs": [],
   "source": [
    "repetitions_list = [\n",
    "    \"2k\",\n",
    "    \"4k\",\n",
    "    \"8k\"\n",
    "]\n",
    "fig = create_scatter_plots_for_multiple_batches(dftotal,\n",
    "                                                list_batches=repetitions_list,\n",
    "                                                columns=[\"utime\", \"nvcsw\"],\n",
    "                                                title_scatter=\"Scatter plot different batches for utime and nvcsw\",\n",
    "                                                x_label=\"utime [s]\",\n",
    "                                                y_label=\"nvcsw\")\n",
    "\n",
    "py.iplot(fig)"
   ]
  },
  {
   "cell_type": "code",
   "execution_count": null,
   "metadata": {
    "ExecuteTime": {
     "end_time": "2019-08-19T15:02:33.975887Z",
     "start_time": "2019-08-19T15:02:33.868132Z"
    }
   },
   "outputs": [],
   "source": [
    "repetitions_list = [\n",
    "    \"8k\",\n",
    "    \"16k\",\n",
    "    \"20k\"\n",
    "]\n",
    "fig = create_scatter_plots_for_multiple_batches(dftotal,\n",
    "                                                list_batches=repetitions_list,\n",
    "                                                columns=[\"utime\", \"nvcsw\"],\n",
    "                                                title_scatter=\"Scatter plot different batches for utime and nvcsw\",\n",
    "                                                x_label=\"utime [s]\",\n",
    "                                                y_label=\"nvcsw\")\n",
    "\n",
    "py.iplot(fig)"
   ]
  },
  {
   "cell_type": "markdown",
   "metadata": {},
   "source": [
    "# Inspection Time analysis"
   ]
  },
  {
   "cell_type": "code",
   "execution_count": 121,
   "metadata": {
    "ExecuteTime": {
     "end_time": "2019-08-23T10:49:06.376900Z",
     "start_time": "2019-08-23T10:49:06.364775Z"
    }
   },
   "outputs": [],
   "source": [
    "def estimated_time_inspections(df_inspection_batches_dict: dict, inspection_identifiers: List[str], n_parallel: int = 6) -> pd.DataFrame():\n",
    "    \"\"\"Create pd.Dataframe of time of inspections for build and job.\"\"\"\n",
    "    tot_time_builds = []\n",
    "    tot_time_jobs = []\n",
    "    tot_time_sum_builds_and_jobs = []\n",
    "\n",
    "    for identifier, dataframe in df_total.items():\n",
    "        tot_time_builds.append(sum(dataframe[\"build_duration\"])/3600/n_parallel)\n",
    "        tot_time_jobs.append(sum(dataframe[\"job_duration\"])/3600/n_parallel)\n",
    "        tot_time_sum_builds_and_jobs.append((sum(dataframe[\"build_duration\"])/3600/n_parallel) + (sum(dataframe[\"job_duration\"])/3600/n_parallel))\n",
    "\n",
    "    df_time = pd.DataFrame()\n",
    "    df_time[\"batches\"] = inspection_identifiers\n",
    "    df_time[\"builds_time\"] = tot_time_builds\n",
    "    df_time[\"jobs_time\"] = tot_time_jobs\n",
    "    df_time[\"tot_time\"] = tot_time_sum_builds_and_jobs\n",
    "\n",
    "    return df_time\n",
    "\n",
    "\n",
    "def create_plot_df_columns(data: pd.DataFrame,\n",
    "               x_axis_columns: str,\n",
    "               y_axis_columns: str,\n",
    "               title_plot: str = \" \",\n",
    "               x_label: str = \" \",\n",
    "               y_label: str = \"Variable [Measurement Unit]\"):\n",
    "    \"\"\"Create plot using two columns of the DataFrame.\"\"\"\n",
    "    figure = py.iplot(\n",
    "    {\n",
    "        'data': [\n",
    "            {\n",
    "                'x': data[x_axis_columns],\n",
    "                'y': data[y_axis_columns],\n",
    "                'mode': 'lines+markers',\n",
    "            } \n",
    "        ],\n",
    "        'layout': {\n",
    "            'title': title_plot,\n",
    "            'xaxis': {'title': x_label},\n",
    "            'yaxis': {'title': y_label}\n",
    "        }\n",
    "    })\n",
    "    \n",
    "    return figure"
   ]
  },
  {
   "cell_type": "code",
   "execution_count": null,
   "metadata": {
    "ExecuteTime": {
     "end_time": "2019-08-23T10:31:35.963988Z",
     "start_time": "2019-08-23T10:31:35.955382Z"
    }
   },
   "outputs": [],
   "source": [
    "df_tot_time = estimated_time_inspections(df_total, identifier_inspection)"
   ]
  },
  {
   "cell_type": "markdown",
   "metadata": {},
   "source": [
    "## Inspection Builds Time"
   ]
  },
  {
   "cell_type": "code",
   "execution_count": null,
   "metadata": {
    "ExecuteTime": {
     "end_time": "2019-08-23T10:31:37.977700Z",
     "start_time": "2019-08-23T10:31:37.962037Z"
    }
   },
   "outputs": [],
   "source": [
    "df_tot_time"
   ]
  },
  {
   "cell_type": "code",
   "execution_count": null,
   "metadata": {
    "ExecuteTime": {
     "end_time": "2019-08-23T10:31:40.310766Z",
     "start_time": "2019-08-23T10:31:40.190009Z"
    }
   },
   "outputs": [],
   "source": [
    "# plot_df = df_tot_time[[\"batches\", \"builds_time\"]].plot(\n",
    "#     marker='o',\n",
    "#     title=\"Time spent to evaluate all inspections builds in hours (ASSUMPTIONS ~6 in parallel)\")\n",
    "# plot_df = plot_df.set(xlabel=\"Batch Identifier\", ylabel=\"Tot Time for builds [h]\")\n",
    "\n",
    "create_plot_df_columns(df_tot_time, \n",
    "            x_axis_columns= \"batches\",\n",
    "            y_axis_columns= \"builds_time\",\n",
    "            title_plot=\"Time spent to evaluate all inspections builds in hours (ASSUMPTIONS ~6 in parallel)\",\n",
    "            x_label=\"Batch Identifier\", \n",
    "            y_label=\"Tot Time for builds [h]\")"
   ]
  },
  {
   "cell_type": "markdown",
   "metadata": {},
   "source": [
    "## Inspection Jobs Time"
   ]
  },
  {
   "cell_type": "code",
   "execution_count": null,
   "metadata": {
    "ExecuteTime": {
     "end_time": "2019-08-23T10:31:41.763604Z",
     "start_time": "2019-08-23T10:31:41.643208Z"
    }
   },
   "outputs": [],
   "source": [
    "create_plot_df_columns(df_tot_time, \n",
    "            x_axis_columns= \"batches\",\n",
    "            y_axis_columns= \"jobs_time\",\n",
    "            title_plot=\"Time spent to evaluate all inspections jobs in hours (ASSUMPTIONS ~6 in parallel)\",\n",
    "            x_label=\"Batch Identifier\", \n",
    "            y_label=\"Tot Time for jobs [h]\")"
   ]
  },
  {
   "cell_type": "markdown",
   "metadata": {},
   "source": [
    "## Inspection builds + Jobs Time"
   ]
  },
  {
   "cell_type": "code",
   "execution_count": null,
   "metadata": {
    "ExecuteTime": {
     "end_time": "2019-08-23T10:31:52.664086Z",
     "start_time": "2019-08-23T10:31:52.545743Z"
    }
   },
   "outputs": [],
   "source": [
    "create_plot_df_columns(df_tot_time, \n",
    "            x_axis_columns= \"batches\",\n",
    "            y_axis_columns= \"tot_time\",\n",
    "            title_plot=\"Time spent to evaluate all inspections buids + jobs in hours (ASSUMPTIONS ~6 in parallel)\",\n",
    "            x_label=\"Batch Identifier\", \n",
    "            y_label=\"Tot Time for builds + jobs [h]\")"
   ]
  },
  {
   "cell_type": "markdown",
   "metadata": {},
   "source": [
    "# Conclusions"
   ]
  },
  {
   "cell_type": "markdown",
   "metadata": {},
   "source": [
    "7 Batches with ~300 inspections jobs each have been created for this analysis. \n",
    "\n",
    "From the comparison analysis of the reports of each inspection batch [(Inspection batches feature comparison)](#Normal-mode) we identify differences in the inspection batches. If a particular feature doesn’t show results, it means the values are constant across all the inspection batches. \n",
    "Instead we can see there are two features that show results, therefore differences:\n",
    "\n",
    "- Performance Indicator (PI) feature shows differences in script and parameters sub-features which are expected. We changed script and number of repetitions 7 times.\n",
    "\n",
    "- Software stack features instead was “unexpected”, in particular 2 different versions of protobuf package have been used in this analysis. We were using in input only tensorflow version, but all the dependencies where not fixed, therefore in the period the analysis were scheduled a new version of that packages was released and therefore used, because pipenv install the latest version available on pypy if we don’t fix the version of the packages\n",
    "\n",
    "The function that creates the reports and analyze the comparisons has one optional parameter called `explanation` which would run more detailed analysis of the reports, showing exactly which features are used by each inspection batches. For example in the case of the software stack we can see exactly which batches are using which package version. [(Inspection batches feature comparison)](#Explanation-mode)\n",
    "\n",
    "From statistical and error analysis in this notebook, we identify the best solution to consider for the number of repetitions for MatMul PI that reduce the error on the results."
   ]
  },
  {
   "cell_type": "markdown",
   "metadata": {},
   "source": [
    "## Statistics"
   ]
  },
  {
   "cell_type": "markdown",
   "metadata": {},
   "source": [
    "From [Boxplot](#Boxplot-of-the-job_duration-batches) and [Interpolation](#Box-Plots-interpolated-for-job_duration) we can see that the error for `job_duration` is increasing with repetitions.\n",
    "\n",
    "Looking at the [Boxplot](#Boxplot-of-the-elapsed-batches) and [Interpolation](#Box-Plots-interpolated-for-elapsed_time) we can see that the error for the `elapsed time` for 2k reps give the lowest error."
   ]
  },
  {
   "cell_type": "markdown",
   "metadata": {
    "ExecuteTime": {
     "end_time": "2019-08-09T10:06:58.145116Z",
     "start_time": "2019-08-09T10:06:58.141245Z"
    }
   },
   "source": [
    "## Correlations"
   ]
  },
  {
   "cell_type": "markdown",
   "metadata": {},
   "source": [
    "Correlation between [`ru_utime` and `ru_nivcsw`](#Correlation-between-ru_utime-and-ru_nivcsw) do not show possible correlations\n",
    "\n",
    "Correlation between [`ru_utime` and `ru_nvcsw`](#Correlation-between-ru_utime-and-ru_nvcsw) shows expected behaviour."
   ]
  },
  {
   "cell_type": "markdown",
   "metadata": {},
   "source": [
    "## Time"
   ]
  },
  {
   "cell_type": "markdown",
   "metadata": {},
   "source": [
    "Estimated [time](#Time-analysis) for jobs is obtained assuming `number of builds and jobs running in parallel` according to the memory required, respectively 1Gb and 4Gb, for the available space in the namespace (32Gb). This is an approximation because in practice there are also graph-sync jobs running in the same namespace, therefore using resources of the namespace that should be used by the builds and jobs. \n",
    "It's also important to consider that Build time is also affected by the network."
   ]
  }
 ],
 "metadata": {
  "kernelspec": {
   "display_name": "Python 3",
   "language": "python",
   "name": "python3"
  },
  "language_info": {
   "codemirror_mode": {
    "name": "ipython",
    "version": 3
   },
   "file_extension": ".py",
   "mimetype": "text/x-python",
   "name": "python",
   "nbconvert_exporter": "python",
   "pygments_lexer": "ipython3",
   "version": "3.6.9"
  },
  "toc": {
   "base_numbering": 1,
   "nav_menu": {},
   "number_sections": true,
   "sideBar": true,
   "skip_h1_title": false,
   "title_cell": "Table of Contents",
   "title_sidebar": "Contents",
   "toc_cell": true,
   "toc_position": {
    "height": "calc(100% - 180px)",
    "left": "10px",
    "top": "150px",
    "width": "465.455px"
   },
   "toc_section_display": true,
   "toc_window_display": true
  }
 },
 "nbformat": 4,
 "nbformat_minor": 2
}
