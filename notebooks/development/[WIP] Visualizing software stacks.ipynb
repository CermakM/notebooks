{
 "cells": [
  {
   "cell_type": "code",
   "execution_count": 1,
   "metadata": {
    "ExecuteTime": {
     "end_time": "2019-03-25T23:45:41.846089Z",
     "start_time": "2019-03-25T23:45:41.765589Z"
    }
   },
   "outputs": [],
   "source": [
    "%load_ext autoreload\n",
    "%autoreload 2"
   ]
  },
  {
   "cell_type": "code",
   "execution_count": 2,
   "metadata": {
    "ExecuteTime": {
     "end_time": "2019-03-25T23:45:42.601280Z",
     "start_time": "2019-03-25T23:45:41.849909Z"
    }
   },
   "outputs": [],
   "source": [
    "import pandas as pd\n",
    "\n",
    "from jupyter_require import require\n",
    "from jupyter_require import notebook\n",
    "\n",
    "from thoth.lab.viz import init_notebook_mode\n",
    "from thoth.lab.viz import iplot, plot\n",
    "from thoth.lab.utils import str_join"
   ]
  },
  {
   "cell_type": "code",
   "execution_count": 3,
   "metadata": {
    "ExecuteTime": {
     "end_time": "2019-03-25T23:45:42.630684Z",
     "start_time": "2019-03-25T23:45:42.603063Z"
    }
   },
   "outputs": [],
   "source": [
    "require.reload()"
   ]
  },
  {
   "cell_type": "code",
   "execution_count": 4,
   "metadata": {
    "ExecuteTime": {
     "end_time": "2019-03-25T23:45:42.678592Z",
     "start_time": "2019-03-25T23:45:42.632961Z"
    },
    "require": []
   },
   "outputs": [
    {
     "data": {
      "application/javascript": [
       "\n",
       "        'use strict';\n",
       "        \n",
       "        const href = \"https://use.fontawesome.com/releases/v5.7.2/css/all.css\";\n",
       "        const attributes = {'integrity': 'sha384-fnmOCqbTlWIlj8LyTjo7mOUStjsKC4pOpQbqyi7RrhN7udi9RwhKkMHpvLbHG9Sr', 'crossorigin': 'anonymous'} || {};\n",
       "        \n",
       "        let link = document.createElement(\"link\");\n",
       "        link.rel = \"stylesheet\";\n",
       "        link.type = \"text/css\";\n",
       "        try {\n",
       "            link.href = requirejs.toUrl(href, 'css');\n",
       "        } catch (error) {\n",
       "            link.href = href;\n",
       "        }\n",
       "        \n",
       "        Object.entries(attributes)\n",
       "            .forEach( ([attr, val]) => $(link).attr(attr, val) );\n",
       "        \n",
       "        document.head.appendChild(link);\n",
       "    "
      ],
      "text/plain": [
       "<JupyterRequire.display.SafeScript object>"
      ]
     },
     "metadata": {
      "finalized": true
     },
     "output_type": "display_data"
    },
    {
     "data": {
      "application/javascript": [
       "\n",
       "        'use strict'\n",
       "        \n",
       "        const style = `/* d3.css */\n",
       "\n",
       "/* controls */\n",
       "\n",
       ".controls {\n",
       "    padding: 10px\n",
       "}\n",
       "\n",
       ".icon {\n",
       "    cursor: pointer;\n",
       "}\n",
       "\n",
       ".tooltip {\n",
       "    margin: 0.25rem 0;\n",
       "\n",
       "    top: 4rem;\n",
       "    text-align: center;\n",
       "\n",
       "    transform: translateX(-40%);\n",
       "}\n",
       "\n",
       "/* links */\n",
       "\n",
       ".links {\n",
       "    fill: none;\n",
       "    stroke: #ccc;\n",
       "    stroke-width: 1px;\n",
       "\n",
       "}\n",
       "\n",
       "/* nodes */\n",
       "\n",
       ".nodes {\n",
       "    fill: darkslateblue;\n",
       "    stroke: none;\n",
       "\n",
       "    cursor: pointer;\n",
       "}\n",
       "\n",
       ".nodes circle.is-leaf {\n",
       "    fill-opacity: 0;  /* transparent fill */\n",
       "\n",
       "    stroke: darkslateblue;\n",
       "    stroke-width: 2px;\n",
       "\n",
       "    cursor: default;\n",
       "}\n",
       "\n",
       ".nodes text {\n",
       "    font: 13px sans-serif;\n",
       "\n",
       "    z-index: 1 !important;\n",
       "}\n",
       "\n",
       "\n",
       ".filters circle.focus-node {\n",
       "    fill: none;\n",
       "\n",
       "    stroke: cornflowerblue;\n",
       "    stroke-opacity: 0.6;\n",
       "    stroke-width: 3px;\n",
       "}\n",
       "`;\n",
       "        const attributes = {'id': 'thoth-lab-stylesheet'} || {};\n",
       "        \n",
       "        let id = attributes.id;\n",
       "        let elem_exists = id ? $(`style#${id}`).length > 0 : false;\n",
       "        \n",
       "        let e = elem_exists ? document.querySelector(`style#${id}`)\n",
       "                            : document.createElement(\"style\");\n",
       "        \n",
       "        $(e).text(`${style}`).attr('type', 'text/css');\n",
       "        \n",
       "        Object.entries(attributes)\n",
       "            .forEach( ([attr, val]) => $(e).attr(attr, val) );\n",
       "\n",
       "        if (!elem_exists) document.head.appendChild(e);\n",
       "    "
      ],
      "text/plain": [
       "<JupyterRequire.display.SafeScript object>"
      ]
     },
     "metadata": {
      "finalized": true
     },
     "output_type": "display_data"
    }
   ],
   "source": [
    "init_notebook_mode(reload=True)"
   ]
  },
  {
   "cell_type": "markdown",
   "metadata": {},
   "source": [
    "---"
   ]
  },
  {
   "cell_type": "code",
   "execution_count": 5,
   "metadata": {
    "ExecuteTime": {
     "end_time": "2019-03-25T23:45:42.770719Z",
     "start_time": "2019-03-25T23:45:42.681386Z"
    }
   },
   "outputs": [
    {
     "data": {
      "text/html": [
       "<div>\n",
       "<style scoped>\n",
       "    .dataframe tbody tr th:only-of-type {\n",
       "        vertical-align: middle;\n",
       "    }\n",
       "\n",
       "    .dataframe tbody tr th {\n",
       "        vertical-align: top;\n",
       "    }\n",
       "\n",
       "    .dataframe thead th {\n",
       "        text-align: right;\n",
       "    }\n",
       "</style>\n",
       "<table border=\"1\" class=\"dataframe\">\n",
       "  <thead>\n",
       "    <tr style=\"text-align: right;\">\n",
       "      <th></th>\n",
       "      <th>name</th>\n",
       "      <th>package_version</th>\n",
       "      <th>parent</th>\n",
       "      <th>parent_version</th>\n",
       "      <th>source</th>\n",
       "      <th>target</th>\n",
       "    </tr>\n",
       "  </thead>\n",
       "  <tbody>\n",
       "    <tr>\n",
       "      <th>0</th>\n",
       "      <td>root</td>\n",
       "      <td>NaN</td>\n",
       "      <td>NaN</td>\n",
       "      <td>NaN</td>\n",
       "      <td></td>\n",
       "      <td>root</td>\n",
       "    </tr>\n",
       "    <tr>\n",
       "      <th>1</th>\n",
       "      <td>tensorflow</td>\n",
       "      <td>1.4.0</td>\n",
       "      <td>root</td>\n",
       "      <td>NaN</td>\n",
       "      <td>root</td>\n",
       "      <td>tensorflow==1.4.0</td>\n",
       "    </tr>\n",
       "    <tr>\n",
       "      <th>2</th>\n",
       "      <td>tensorflow</td>\n",
       "      <td>1.5.0</td>\n",
       "      <td>root</td>\n",
       "      <td>NaN</td>\n",
       "      <td>root</td>\n",
       "      <td>tensorflow==1.5.0</td>\n",
       "    </tr>\n",
       "    <tr>\n",
       "      <th>3</th>\n",
       "      <td>numpy</td>\n",
       "      <td>1.0.0</td>\n",
       "      <td>tensorflow</td>\n",
       "      <td>1.4.0</td>\n",
       "      <td>tensorflow==1.4.0</td>\n",
       "      <td>numpy==1.0.0</td>\n",
       "    </tr>\n",
       "    <tr>\n",
       "      <th>4</th>\n",
       "      <td>numpy</td>\n",
       "      <td>1.1.0</td>\n",
       "      <td>tensorflow</td>\n",
       "      <td>1.4.0</td>\n",
       "      <td>tensorflow==1.4.0</td>\n",
       "      <td>numpy==1.1.0</td>\n",
       "    </tr>\n",
       "    <tr>\n",
       "      <th>5</th>\n",
       "      <td>numpy</td>\n",
       "      <td>1.2.0</td>\n",
       "      <td>tensorflow</td>\n",
       "      <td>1.5.0</td>\n",
       "      <td>tensorflow==1.5.0</td>\n",
       "      <td>numpy==1.2.0</td>\n",
       "    </tr>\n",
       "  </tbody>\n",
       "</table>\n",
       "</div>"
      ],
      "text/plain": [
       "         name package_version      parent parent_version             source  \\\n",
       "0        root             NaN         NaN            NaN                      \n",
       "1  tensorflow           1.4.0        root            NaN               root   \n",
       "2  tensorflow           1.5.0        root            NaN               root   \n",
       "3       numpy           1.0.0  tensorflow          1.4.0  tensorflow==1.4.0   \n",
       "4       numpy           1.1.0  tensorflow          1.4.0  tensorflow==1.4.0   \n",
       "5       numpy           1.2.0  tensorflow          1.5.0  tensorflow==1.5.0   \n",
       "\n",
       "              target  \n",
       "0               root  \n",
       "1  tensorflow==1.4.0  \n",
       "2  tensorflow==1.5.0  \n",
       "3       numpy==1.0.0  \n",
       "4       numpy==1.1.0  \n",
       "5       numpy==1.2.0  "
      ]
     },
     "execution_count": 5,
     "metadata": {},
     "output_type": "execute_result"
    }
   ],
   "source": [
    "df = pd.DataFrame([\n",
    "    {'name': \"root\",},\n",
    "    {'name': \"tensorflow\", 'parent': \"root\", 'package_version': '1.4.0'},\n",
    "    {'name': \"tensorflow\", 'parent': \"root\", 'package_version': '1.5.0'},\n",
    "    {'name': \"numpy\", 'parent': \"tensorflow\", 'parent_version': '1.4.0', 'package_version': '1.0.0'},\n",
    "    {'name': \"numpy\", 'parent': \"tensorflow\", 'parent_version': '1.4.0', 'package_version': '1.1.0'},\n",
    "    {'name': \"numpy\", 'parent': \"tensorflow\", 'parent_version': '1.5.0', 'package_version': '1.2.0'},\n",
    "])\n",
    "\n",
    "df['source'] = str_join(df, ['parent', 'parent_version'], '==')\n",
    "df['target'] = str_join(df, ['name', 'package_version'], '==')\n",
    "df"
   ]
  },
  {
   "cell_type": "markdown",
   "metadata": {},
   "source": [
    "# Static plot"
   ]
  },
  {
   "cell_type": "code",
   "execution_count": 6,
   "metadata": {
    "ExecuteTime": {
     "end_time": "2019-03-25T23:45:42.802956Z",
     "start_time": "2019-03-25T23:45:42.773741Z"
    },
    "require": [
     "d3"
    ]
   },
   "outputs": [
    {
     "data": {
      "text/html": [
       "<svg width=\"898\" height=\"640\"><g transform=\"translate(0, 80)\"><g class=\"nodes\"><circle class=\"node\" cx=\"471.9\" cy=\"0\" r=\"11\"></circle><circle class=\"node\" cx=\"257.4\" cy=\"240\" r=\"11\"></circle><circle class=\"node\" cx=\"686.4\" cy=\"240\" r=\"11\"></circle><circle class=\"node\" cx=\"171.6\" cy=\"480\" r=\"11\"></circle><circle class=\"node\" cx=\"343.2\" cy=\"480\" r=\"11\"></circle><circle class=\"node\" cx=\"686.4\" cy=\"480\" r=\"11\"></circle><text class=\"node\" x=\"471.9\" y=\"0\" dx=\"22.247500000000002\" dy=\".25em\" text-anchor=\"right\">root</text><text class=\"node\" x=\"257.4\" y=\"240\" dx=\"22.247500000000002\" dy=\".25em\" text-anchor=\"right\">tensorflow==1.4.0</text><text class=\"node\" x=\"686.4\" y=\"240\" dx=\"22.247500000000002\" dy=\".25em\" text-anchor=\"right\">tensorflow==1.5.0</text><text class=\"node\" x=\"171.6\" y=\"480\" dx=\"\" dy=\"33.2475\" text-anchor=\"middle\">numpy==1.0.0</text><text class=\"node\" x=\"343.2\" y=\"480\" dx=\"\" dy=\"33.2475\" text-anchor=\"middle\">numpy==1.1.0</text><text class=\"node\" x=\"686.4\" y=\"480\" dx=\"\" dy=\"33.2475\" text-anchor=\"middle\">numpy==1.2.0</text></g><g class=\"links\"><line class=\"link\" x1=\"471.9\" y1=\"17.798000000000002\" x2=\"257.4\" y2=\"222.202\"></line><line class=\"link\" x1=\"471.9\" y1=\"17.798000000000002\" x2=\"686.4\" y2=\"222.202\"></line><line class=\"link\" x1=\"257.4\" y1=\"257.798\" x2=\"171.6\" y2=\"462.202\"></line><line class=\"link\" x1=\"257.4\" y1=\"257.798\" x2=\"343.2\" y2=\"462.202\"></line><line class=\"link\" x1=\"686.4\" y1=\"257.798\" x2=\"686.4\" y2=\"462.202\"></line></g></g></svg>"
      ],
      "text/plain": [
       "<JupyterRequire.display.FrozenOutput object>"
      ]
     },
     "metadata": {
      "frozen": true
     },
     "output_type": "display_data"
    }
   ],
   "source": [
    "plot(df)"
   ]
  },
  {
   "cell_type": "markdown",
   "metadata": {},
   "source": [
    "# Dynamic (interactive) plot"
   ]
  },
  {
   "cell_type": "markdown",
   "metadata": {},
   "source": [
    "### Highlights\n",
    "\n",
    "| feature | action |\n",
    "| --- | --- |\n",
    "| `pan & zoom` | mouse and mousewheel events\n",
    "| `focus` by balancing to the center of mass | _first_ mouse click\n",
    "| `collapsible`  | _second_ mouse click on the focused node\n",
    "| `reset button` | icon click in the top left corner"
   ]
  },
  {
   "cell_type": "code",
   "execution_count": 7,
   "metadata": {
    "ExecuteTime": {
     "end_time": "2019-03-25T23:45:42.841150Z",
     "start_time": "2019-03-25T23:45:42.806550Z"
    },
    "require": [
     "d3"
    ]
   },
   "outputs": [
    {
     "data": {
      "text/html": [
       "<div height=\"80\" class=\"controls\"><a class=\"button btn-home\"><span class=\"icon\"><i class=\"fas fa-home\"><span class=\"tooltip\">Default view</span></i></span></a></div><svg style=\"width: 898px; height: 640px;\"><g transform=\"translate(-47.14999999999998, 28.09375) scale(1)\"><g class=\"filters\"><circle cx=\"471.9\" cy=\"0\" r=\"17.798000000000002\" class=\"focus-node\"></circle></g><g class=\"nodes\"><circle cx=\"471.9\" cy=\"0\" r=\"11\" class=\"node\"></circle><circle cx=\"257.4\" cy=\"240\" r=\"11\" class=\"node\"></circle><circle cx=\"686.4\" cy=\"240\" r=\"11\" class=\"node\"></circle><circle cx=\"171.6\" cy=\"480\" r=\"11\" class=\"node is-leaf\"></circle><circle cx=\"343.2\" cy=\"480\" r=\"11\" class=\"node is-leaf\"></circle><circle cx=\"686.4\" cy=\"480\" r=\"11\" class=\"node is-leaf\"></circle><text class=\"node\" x=\"471.9\" y=\"0\" dx=\"22.247500000000002\" dy=\".25em\" text-anchor=\"right\">root</text><text class=\"node\" x=\"257.4\" y=\"240\" dx=\"22.247500000000002\" dy=\".25em\" text-anchor=\"right\">tensorflow==1.4.0</text><text class=\"node\" x=\"686.4\" y=\"240\" dx=\"22.247500000000002\" dy=\".25em\" text-anchor=\"right\">tensorflow==1.5.0</text><text class=\"node\" x=\"171.6\" y=\"480\" dx=\"\" dy=\"33.2475\" text-anchor=\"middle\">numpy==1.0.0</text><text class=\"node\" x=\"343.2\" y=\"480\" dx=\"\" dy=\"33.2475\" text-anchor=\"middle\">numpy==1.1.0</text><text class=\"node\" x=\"686.4\" y=\"480\" dx=\"\" dy=\"33.2475\" text-anchor=\"middle\">numpy==1.2.0</text></g><g class=\"links\"><line class=\"link\" x1=\"471.9\" y1=\"17.798000000000002\" x2=\"257.4\" y2=\"222.202\"></line><line class=\"link\" x1=\"471.9\" y1=\"17.798000000000002\" x2=\"686.4\" y2=\"222.202\"></line><line class=\"link\" x1=\"257.4\" y1=\"257.798\" x2=\"171.6\" y2=\"462.202\"></line><line class=\"link\" x1=\"257.4\" y1=\"257.798\" x2=\"343.2\" y2=\"462.202\"></line><line class=\"link\" x1=\"686.4\" y1=\"257.798\" x2=\"686.4\" y2=\"462.202\"></line></g></g></svg>"
      ],
      "text/plain": [
       "<JupyterRequire.display.FrozenOutput object>"
      ]
     },
     "metadata": {
      "frozen": true
     },
     "output_type": "display_data"
    }
   ],
   "source": [
    "iplot(df)"
   ]
  },
  {
   "cell_type": "code",
   "execution_count": 8,
   "metadata": {
    "ExecuteTime": {
     "end_time": "2019-03-25T23:45:42.894680Z",
     "start_time": "2019-03-25T23:45:42.846596Z"
    }
   },
   "outputs": [
    {
     "data": {
      "text/html": [
       "<div>\n",
       "<style scoped>\n",
       "    .dataframe tbody tr th:only-of-type {\n",
       "        vertical-align: middle;\n",
       "    }\n",
       "\n",
       "    .dataframe tbody tr th {\n",
       "        vertical-align: top;\n",
       "    }\n",
       "\n",
       "    .dataframe thead th {\n",
       "        text-align: right;\n",
       "    }\n",
       "</style>\n",
       "<table border=\"1\" class=\"dataframe\">\n",
       "  <thead>\n",
       "    <tr style=\"text-align: right;\">\n",
       "      <th></th>\n",
       "      <th>name</th>\n",
       "      <th>package_version</th>\n",
       "      <th>parent</th>\n",
       "      <th>parent_version</th>\n",
       "      <th>source</th>\n",
       "      <th>target</th>\n",
       "    </tr>\n",
       "  </thead>\n",
       "  <tbody>\n",
       "    <tr>\n",
       "      <th>0</th>\n",
       "      <td>root</td>\n",
       "      <td>NaN</td>\n",
       "      <td>NaN</td>\n",
       "      <td>NaN</td>\n",
       "      <td></td>\n",
       "      <td>root</td>\n",
       "    </tr>\n",
       "    <tr>\n",
       "      <th>1</th>\n",
       "      <td>tensorflow</td>\n",
       "      <td>1.4.0</td>\n",
       "      <td>root</td>\n",
       "      <td>NaN</td>\n",
       "      <td>root</td>\n",
       "      <td>tensorflow==1.4.0</td>\n",
       "    </tr>\n",
       "    <tr>\n",
       "      <th>2</th>\n",
       "      <td>tensorflow</td>\n",
       "      <td>1.5.0</td>\n",
       "      <td>root</td>\n",
       "      <td>NaN</td>\n",
       "      <td>root</td>\n",
       "      <td>tensorflow==1.5.0</td>\n",
       "    </tr>\n",
       "    <tr>\n",
       "      <th>3</th>\n",
       "      <td>bleach</td>\n",
       "      <td>3.1.0</td>\n",
       "      <td>tensorflow</td>\n",
       "      <td>1.5.0</td>\n",
       "      <td>tensorflow==1.5.0</td>\n",
       "      <td>bleach==3.1.0</td>\n",
       "    </tr>\n",
       "    <tr>\n",
       "      <th>4</th>\n",
       "      <td>numpy</td>\n",
       "      <td>1.0.0</td>\n",
       "      <td>tensorflow</td>\n",
       "      <td>1.4.0</td>\n",
       "      <td>tensorflow==1.4.0</td>\n",
       "      <td>numpy==1.0.0</td>\n",
       "    </tr>\n",
       "    <tr>\n",
       "      <th>5</th>\n",
       "      <td>numpy</td>\n",
       "      <td>1.1.0</td>\n",
       "      <td>tensorflow</td>\n",
       "      <td>1.4.0</td>\n",
       "      <td>tensorflow==1.4.0</td>\n",
       "      <td>numpy==1.1.0</td>\n",
       "    </tr>\n",
       "    <tr>\n",
       "      <th>6</th>\n",
       "      <td>numpy</td>\n",
       "      <td>1.2.0</td>\n",
       "      <td>tensorflow</td>\n",
       "      <td>1.5.0</td>\n",
       "      <td>tensorflow==1.5.0</td>\n",
       "      <td>numpy==1.2.0</td>\n",
       "    </tr>\n",
       "    <tr>\n",
       "      <th>7</th>\n",
       "      <td>six</td>\n",
       "      <td>1.9.0</td>\n",
       "      <td>bleach</td>\n",
       "      <td>3.1.0</td>\n",
       "      <td>bleach==3.1.0</td>\n",
       "      <td>six==1.9.0</td>\n",
       "    </tr>\n",
       "    <tr>\n",
       "      <th>8</th>\n",
       "      <td>webencodings</td>\n",
       "      <td>*</td>\n",
       "      <td>bleach</td>\n",
       "      <td>3.1.0</td>\n",
       "      <td>bleach==3.1.0</td>\n",
       "      <td>webencodings==*</td>\n",
       "    </tr>\n",
       "  </tbody>\n",
       "</table>\n",
       "</div>"
      ],
      "text/plain": [
       "           name package_version      parent parent_version             source  \\\n",
       "0          root             NaN         NaN            NaN                      \n",
       "1    tensorflow           1.4.0        root            NaN               root   \n",
       "2    tensorflow           1.5.0        root            NaN               root   \n",
       "3        bleach           3.1.0  tensorflow          1.5.0  tensorflow==1.5.0   \n",
       "4         numpy           1.0.0  tensorflow          1.4.0  tensorflow==1.4.0   \n",
       "5         numpy           1.1.0  tensorflow          1.4.0  tensorflow==1.4.0   \n",
       "6         numpy           1.2.0  tensorflow          1.5.0  tensorflow==1.5.0   \n",
       "7           six           1.9.0      bleach          3.1.0      bleach==3.1.0   \n",
       "8  webencodings               *      bleach          3.1.0      bleach==3.1.0   \n",
       "\n",
       "              target  \n",
       "0               root  \n",
       "1  tensorflow==1.4.0  \n",
       "2  tensorflow==1.5.0  \n",
       "3      bleach==3.1.0  \n",
       "4       numpy==1.0.0  \n",
       "5       numpy==1.1.0  \n",
       "6       numpy==1.2.0  \n",
       "7         six==1.9.0  \n",
       "8    webencodings==*  "
      ]
     },
     "execution_count": 8,
     "metadata": {},
     "output_type": "execute_result"
    }
   ],
   "source": [
    "## Bigger tree\n",
    "\n",
    "df = pd.DataFrame([\n",
    "    {'name': \"root\",},\n",
    "    {'name': \"tensorflow\", 'parent': \"root\", 'package_version': '1.4.0'},\n",
    "    {'name': \"tensorflow\", 'parent': \"root\", 'package_version': '1.5.0'},\n",
    "    {'name': \"bleach\", 'parent': \"tensorflow\", 'parent_version': '1.5.0', 'package_version': '3.1.0'},\n",
    "    {'name': \"numpy\", 'parent': \"tensorflow\", 'parent_version': '1.4.0', 'package_version': '1.0.0'},\n",
    "    {'name': \"numpy\", 'parent': \"tensorflow\", 'parent_version': '1.4.0', 'package_version': '1.1.0'},\n",
    "    {'name': \"numpy\", 'parent': \"tensorflow\", 'parent_version': '1.5.0', 'package_version': '1.2.0'},\n",
    "    {'name': \"six\", 'parent': \"bleach\", 'parent_version': '3.1.0', 'package_version': '1.9.0'},\n",
    "    {'name': \"webencodings\", 'parent': \"bleach\", 'parent_version': '3.1.0', 'package_version': '*'},\n",
    "])\n",
    "\n",
    "df['source'] = str_join(df, ['parent', 'parent_version'], '==')\n",
    "df['target'] = str_join(df, ['name', 'package_version'], '==')\n",
    "df"
   ]
  },
  {
   "cell_type": "code",
   "execution_count": 9,
   "metadata": {
    "ExecuteTime": {
     "end_time": "2019-03-25T23:45:42.926945Z",
     "start_time": "2019-03-25T23:45:42.898030Z"
    },
    "require": [
     "d3"
    ]
   },
   "outputs": [
    {
     "data": {
      "text/html": [
       "<svg width=\"898\" height=\"640\"><g transform=\"translate(0, 80)\"><g class=\"nodes\"><circle class=\"node\" cx=\"429\" cy=\"0\" r=\"11\"></circle><circle class=\"node\" cx=\"214.5\" cy=\"160\" r=\"11\"></circle><circle class=\"node\" cx=\"643.5\" cy=\"160\" r=\"11\"></circle><circle class=\"node\" cx=\"143\" cy=\"320\" r=\"11\"></circle><circle class=\"node\" cx=\"286\" cy=\"320\" r=\"11\"></circle><circle class=\"node\" cx=\"572\" cy=\"320\" r=\"11\"></circle><circle class=\"node\" cx=\"715\" cy=\"320\" r=\"11\"></circle><circle class=\"node\" cx=\"500.5\" cy=\"480\" r=\"11\"></circle><circle class=\"node\" cx=\"643.5\" cy=\"480\" r=\"11\"></circle><text class=\"node\" x=\"429\" y=\"0\" dx=\"22.247500000000002\" dy=\".25em\" text-anchor=\"right\">root</text><text class=\"node\" x=\"214.5\" y=\"160\" dx=\"22.247500000000002\" dy=\".25em\" text-anchor=\"right\">tensorflow==1.4.0</text><text class=\"node\" x=\"643.5\" y=\"160\" dx=\"22.247500000000002\" dy=\".25em\" text-anchor=\"right\">tensorflow==1.5.0</text><text class=\"node\" x=\"143\" y=\"320\" dx=\"\" dy=\"33.2475\" text-anchor=\"middle\">numpy==1.0.0</text><text class=\"node\" x=\"286\" y=\"320\" dx=\"\" dy=\"33.2475\" text-anchor=\"middle\">numpy==1.1.0</text><text class=\"node\" x=\"572\" y=\"320\" dx=\"22.247500000000002\" dy=\".25em\" text-anchor=\"right\">bleach==3.1.0</text><text class=\"node\" x=\"715\" y=\"320\" dx=\"\" dy=\"33.2475\" text-anchor=\"middle\">numpy==1.2.0</text><text class=\"node\" x=\"500.5\" y=\"480\" dx=\"\" dy=\"33.2475\" text-anchor=\"middle\">six==1.9.0</text><text class=\"node\" x=\"643.5\" y=\"480\" dx=\"\" dy=\"33.2475\" text-anchor=\"middle\">webencodings==*</text></g><g class=\"links\"><line class=\"link\" x1=\"429\" y1=\"17.798000000000002\" x2=\"214.5\" y2=\"142.202\"></line><line class=\"link\" x1=\"429\" y1=\"17.798000000000002\" x2=\"643.5\" y2=\"142.202\"></line><line class=\"link\" x1=\"214.5\" y1=\"177.798\" x2=\"143\" y2=\"302.202\"></line><line class=\"link\" x1=\"214.5\" y1=\"177.798\" x2=\"286\" y2=\"302.202\"></line><line class=\"link\" x1=\"643.5\" y1=\"177.798\" x2=\"572\" y2=\"302.202\"></line><line class=\"link\" x1=\"643.5\" y1=\"177.798\" x2=\"715\" y2=\"302.202\"></line><line class=\"link\" x1=\"572\" y1=\"337.798\" x2=\"500.5\" y2=\"462.202\"></line><line class=\"link\" x1=\"572\" y1=\"337.798\" x2=\"643.5\" y2=\"462.202\"></line></g></g></svg>"
      ],
      "text/plain": [
       "<JupyterRequire.display.FrozenOutput object>"
      ]
     },
     "metadata": {
      "frozen": true
     },
     "output_type": "display_data"
    }
   ],
   "source": [
    "plot(df)"
   ]
  },
  {
   "cell_type": "code",
   "execution_count": 10,
   "metadata": {
    "ExecuteTime": {
     "end_time": "2019-03-25T23:45:42.953565Z",
     "start_time": "2019-03-25T23:45:42.928598Z"
    },
    "require": [
     "d3"
    ]
   },
   "outputs": [
    {
     "data": {
      "text/html": [
       "<div height=\"80\" class=\"controls\"><a class=\"button btn-home\"><span class=\"icon\"><i class=\"fas fa-home\"><span class=\"tooltip\">Default view</span></i></span></a></div><svg style=\"width: 898px; height: 640px;\"><g transform=\"translate(-71.77777777777777, 63.6493055555556) scale(1)\"><g class=\"filters\"><circle cx=\"429\" cy=\"0\" r=\"17.798000000000002\" class=\"focus-node\"></circle></g><g class=\"nodes\"><circle cx=\"429\" cy=\"0\" r=\"11\" class=\"node\"></circle><circle cx=\"214.5\" cy=\"160\" r=\"11\" class=\"node\"></circle><circle cx=\"643.5\" cy=\"160\" r=\"11\" class=\"node\"></circle><circle cx=\"143\" cy=\"320\" r=\"11\" class=\"node is-leaf\"></circle><circle cx=\"286\" cy=\"320\" r=\"11\" class=\"node is-leaf\"></circle><circle cx=\"572\" cy=\"320\" r=\"11\" class=\"node\"></circle><circle cx=\"715\" cy=\"320\" r=\"11\" class=\"node is-leaf\"></circle><circle cx=\"500.5\" cy=\"480\" r=\"11\" class=\"node is-leaf\"></circle><circle cx=\"643.5\" cy=\"480\" r=\"11\" class=\"node is-leaf\"></circle><text class=\"node\" x=\"429\" y=\"0\" dx=\"22.247500000000002\" dy=\".25em\" text-anchor=\"right\">root</text><text class=\"node\" x=\"214.5\" y=\"160\" dx=\"22.247500000000002\" dy=\".25em\" text-anchor=\"right\">tensorflow==1.4.0</text><text class=\"node\" x=\"643.5\" y=\"160\" dx=\"22.247500000000002\" dy=\".25em\" text-anchor=\"right\">tensorflow==1.5.0</text><text class=\"node\" x=\"143\" y=\"320\" dx=\"\" dy=\"33.2475\" text-anchor=\"middle\">numpy==1.0.0</text><text class=\"node\" x=\"286\" y=\"320\" dx=\"\" dy=\"33.2475\" text-anchor=\"middle\">numpy==1.1.0</text><text class=\"node\" x=\"572\" y=\"320\" dx=\"22.247500000000002\" dy=\".25em\" text-anchor=\"right\">bleach==3.1.0</text><text class=\"node\" x=\"715\" y=\"320\" dx=\"\" dy=\"33.2475\" text-anchor=\"middle\">numpy==1.2.0</text><text class=\"node\" x=\"500.5\" y=\"480\" dx=\"\" dy=\"33.2475\" text-anchor=\"middle\">six==1.9.0</text><text class=\"node\" x=\"643.5\" y=\"480\" dx=\"\" dy=\"33.2475\" text-anchor=\"middle\">webencodings==*</text></g><g class=\"links\"><line class=\"link\" x1=\"429\" y1=\"17.798000000000002\" x2=\"214.5\" y2=\"142.202\"></line><line class=\"link\" x1=\"429\" y1=\"17.798000000000002\" x2=\"643.5\" y2=\"142.202\"></line><line class=\"link\" x1=\"214.5\" y1=\"177.798\" x2=\"143\" y2=\"302.202\"></line><line class=\"link\" x1=\"214.5\" y1=\"177.798\" x2=\"286\" y2=\"302.202\"></line><line class=\"link\" x1=\"643.5\" y1=\"177.798\" x2=\"572\" y2=\"302.202\"></line><line class=\"link\" x1=\"643.5\" y1=\"177.798\" x2=\"715\" y2=\"302.202\"></line><line class=\"link\" x1=\"572\" y1=\"337.798\" x2=\"500.5\" y2=\"462.202\"></line><line class=\"link\" x1=\"572\" y1=\"337.798\" x2=\"643.5\" y2=\"462.202\"></line></g></g></svg>"
      ],
      "text/plain": [
       "<JupyterRequire.display.FrozenOutput object>"
      ]
     },
     "metadata": {
      "frozen": true
     },
     "output_type": "display_data"
    }
   ],
   "source": [
    "iplot(df)"
   ]
  }
 ],
 "metadata": {
  "finalized": {
   "timestamp": 1553557558771,
   "trusted": true
  },
  "hide_input": false,
  "kernelspec": {
   "display_name": "thoth-lab",
   "language": "python",
   "name": "thoth-lab"
  },
  "language_info": {
   "codemirror_mode": {
    "name": "ipython",
    "version": 3
   },
   "file_extension": ".py",
   "mimetype": "text/x-python",
   "name": "python",
   "nbconvert_exporter": "python",
   "pygments_lexer": "ipython3",
   "version": "3.6.6"
  },
  "require": {
   "paths": {
    "d3": "https://d3js.org/d3.v5.min"
   },
   "shim": {}
  },
  "toc": {
   "base_numbering": 1,
   "nav_menu": {},
   "number_sections": true,
   "sideBar": true,
   "skip_h1_title": false,
   "title_cell": "Table of Contents",
   "title_sidebar": "Contents",
   "toc_cell": false,
   "toc_position": {},
   "toc_section_display": true,
   "toc_window_display": false
  },
  "varInspector": {
   "cols": {
    "lenName": 16,
    "lenType": 16,
    "lenVar": 40
   },
   "kernels_config": {
    "python": {
     "delete_cmd_postfix": "",
     "delete_cmd_prefix": "del ",
     "library": "var_list.py",
     "varRefreshCmd": "print(var_dic_list())"
    },
    "r": {
     "delete_cmd_postfix": ") ",
     "delete_cmd_prefix": "rm(",
     "library": "var_list.r",
     "varRefreshCmd": "cat(var_dic_list()) "
    }
   },
   "types_to_exclude": [
    "module",
    "function",
    "builtin_function_or_method",
    "instance",
    "_Feature"
   ],
   "window_display": false
  }
 },
 "nbformat": 4,
 "nbformat_minor": 2
}
