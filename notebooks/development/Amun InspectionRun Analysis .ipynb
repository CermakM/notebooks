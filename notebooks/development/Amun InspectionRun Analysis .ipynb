{
 "cells": [
  {
   "cell_type": "markdown",
   "metadata": {
    "toc": true
   },
   "source": [
    "<h1>Table of Contents<span class=\"tocSkip\"></span></h1>\n",
    "<div class=\"toc\"><ul class=\"toc-item\"><li><span><a href=\"#Retrieve-inspection-jobs-from-Ceph\" data-toc-modified-id=\"Retrieve-inspection-jobs-from-Ceph-1\"><span class=\"toc-item-num\">1&nbsp;&nbsp;</span>Retrieve inspection jobs from Ceph</a></span></li><li><span><a href=\"#Describe-the-structure-of-an-inspection-job-result\" data-toc-modified-id=\"Describe-the-structure-of-an-inspection-job-result-2\"><span class=\"toc-item-num\">2&nbsp;&nbsp;</span>Describe the structure of an inspection job result</a></span></li><li><span><a href=\"#Mapping-InspectionRun-JSON-to-pandas-DataFrame\" data-toc-modified-id=\"Mapping-InspectionRun-JSON-to-pandas-DataFrame-3\"><span class=\"toc-item-num\">3&nbsp;&nbsp;</span>Mapping InspectionRun JSON to pandas DataFrame</a></span><ul class=\"toc-item\"><li><span><a href=\"#Feature-importance-analysis\" data-toc-modified-id=\"Feature-importance-analysis-3.1\"><span class=\"toc-item-num\">3.1&nbsp;&nbsp;</span>Feature importance analysis</a></span><ul class=\"toc-item\"><li><span><a href=\"#Status\" data-toc-modified-id=\"Status-3.1.1\"><span class=\"toc-item-num\">3.1.1&nbsp;&nbsp;</span>Status</a></span></li><li><span><a href=\"#Specification\" data-toc-modified-id=\"Specification-3.1.2\"><span class=\"toc-item-num\">3.1.2&nbsp;&nbsp;</span>Specification</a></span></li><li><span><a href=\"#Job-log\" data-toc-modified-id=\"Job-log-3.1.3\"><span class=\"toc-item-num\">3.1.3&nbsp;&nbsp;</span>Job log</a></span></li></ul></li></ul></li><li><span><a href=\"#Plot-InspectionRun\" data-toc-modified-id=\"Plot-InspectionRun-4\"><span class=\"toc-item-num\">4&nbsp;&nbsp;</span>Plot InspectionRun</a></span></li><li><span><a href=\"#Wrapper\" data-toc-modified-id=\"Wrapper-5\"><span class=\"toc-item-num\">5&nbsp;&nbsp;</span>Wrapper</a></span></li></ul></div>"
   ]
  },
  {
   "cell_type": "markdown",
   "metadata": {},
   "source": [
    "# Amun InspectionRun Analysis"
   ]
  },
  {
   "cell_type": "markdown",
   "metadata": {},
   "source": [
    "**Introduction**\n",
    "\n",
    "The goal of this notebook is to..."
   ]
  },
  {
   "cell_type": "markdown",
   "metadata": {},
   "source": [
    "---"
   ]
  },
  {
   "cell_type": "markdown",
   "metadata": {},
   "source": [
    "## Retrieve inspection jobs from Ceph"
   ]
  },
  {
   "cell_type": "code",
   "execution_count": null,
   "metadata": {
    "ExecuteTime": {
     "end_time": "2019-05-14T19:40:38.490209Z",
     "start_time": "2019-05-14T19:40:38.471538Z"
    }
   },
   "outputs": [],
   "source": [
    "%env THOTH_DEPLOYMENT_NAME     thoth-core-upshift-stage\n",
    "%env THOTH_CEPH_BUCKET         thoth\n",
    "%env THOTH_CEPH_BUCKET_PREFIX  data/thoth\n",
    "%env THOTH_S3_ENDPOINT_URL     https://s3.upshift.redhat.com/"
   ]
  },
  {
   "cell_type": "code",
   "execution_count": null,
   "metadata": {
    "ExecuteTime": {
     "end_time": "2019-05-14T19:44:07.733212Z",
     "start_time": "2019-05-14T19:44:07.555350Z"
    }
   },
   "outputs": [],
   "source": [
    "from thoth.storages import InspectionResultsStore\n",
    "\n",
    "inspection_store = InspectionResultsStore()\n",
    "inspection_store.connect()"
   ]
  },
  {
   "cell_type": "code",
   "execution_count": null,
   "metadata": {
    "ExecuteTime": {
     "end_time": "2019-05-14T19:48:39.753674Z",
     "start_time": "2019-05-14T19:48:38.633702Z"
    }
   },
   "outputs": [],
   "source": [
    "doc_id, doc = next(inspection_store.iterate_results())  # sample\n",
    "\n",
    "# build log is unnecessary for our purposes and it is demanding to display it\n",
    "doc['build_log'] = None\n",
    "doc"
   ]
  },
  {
   "cell_type": "markdown",
   "metadata": {},
   "source": [
    "---"
   ]
  },
  {
   "cell_type": "markdown",
   "metadata": {},
   "source": [
    "## Describe the structure of an inspection job result"
   ]
  },
  {
   "cell_type": "code",
   "execution_count": null,
   "metadata": {
    "ExecuteTime": {
     "end_time": "2019-05-14T19:48:49.748206Z",
     "start_time": "2019-05-14T19:48:49.178922Z"
    }
   },
   "outputs": [],
   "source": [
    "import pandas as pd\n",
    "pd.set_option('max_colwidth', 800)"
   ]
  },
  {
   "cell_type": "code",
   "execution_count": null,
   "metadata": {
    "ExecuteTime": {
     "end_time": "2019-05-14T19:48:49.764878Z",
     "start_time": "2019-05-14T19:48:49.751653Z"
    }
   },
   "outputs": [],
   "source": [
    "def extract_structure_json(input_json, upper_key: str, level: int, json_structure):\n",
    "    \"\"\"Convert a json file structure into a nested list showing keys depths\"\"\"\n",
    "    level += 1\n",
    "    for key in input_json.keys():\n",
    "        if type(input_json[key]) is dict:\n",
    "            json_structure.append([level, upper_key, key, [k for k in input_json[key].keys()]])\n",
    "            \n",
    "            extract_structure_json(input_json[key], f\"{upper_key}__{key}\", level, json_structure)\n",
    "        else:\n",
    "            json_structure.append([level, upper_key, key, input_json[key]])\n",
    "    return json_structure\n",
    "\n",
    "def filter_dataframe(json_pandas, filter_df):\n",
    "    \"\"\"Filter the dataframe for a certain key, combination of keys or for a tree depth\"\"\"\n",
    "    if type(filter_df) is str:\n",
    "        available_keys = set(df[\"Current_key\"].values)\n",
    "        available_combined_keys = set(df[\"Upper_keys\"].values)\n",
    "        if filter_df in available_keys or filter_df in available_combined_keys:\n",
    "            ndf = df[df[\"Upper_keys\"].str.contains(filter_df)]\n",
    "        else:\n",
    "            print(\"The key is not in the json\")\n",
    "            ndf = \"\". join([f\"The available keys are (WARNING: Some of the keys have no leafs): {available_keys} \", f\"The available combined keys are: {available_combined_keys}\"])\n",
    "            \n",
    "    elif type(filter_df) is int:\n",
    "        max_depth = df[\"Tree_depth\"].max()\n",
    "        if filter_df <= max_depth:\n",
    "            ndf = df[df[\"Tree_depth\"] == filter_df]\n",
    "        else:\n",
    "            ndf = f\"The maximum tree depth available is: {max_depth}\"\n",
    "    return ndf"
   ]
  },
  {
   "cell_type": "code",
   "execution_count": null,
   "metadata": {
    "ExecuteTime": {
     "end_time": "2019-05-14T19:48:49.783530Z",
     "start_time": "2019-05-14T19:48:49.766959Z"
    }
   },
   "outputs": [],
   "source": [
    "#Create the dataframe\n",
    "df_structure = pd.DataFrame(extract_structure_json(doc,\"\", 0, []))\n",
    "df_structure.columns = [\"Tree_depth\", \"Upper_keys\", \"Current_key\", \"Value\"]"
   ]
  },
  {
   "cell_type": "markdown",
   "metadata": {},
   "source": [
    "We can take a look at the inspection job structure from the point of view of the tree depth, considering a key or a combination of keys."
   ]
  },
  {
   "cell_type": "code",
   "execution_count": null,
   "metadata": {},
   "outputs": [],
   "source": [
    "filter_dataframe(df_structure, 1)"
   ]
  },
  {
   "cell_type": "code",
   "execution_count": null,
   "metadata": {},
   "outputs": [],
   "source": [
    "filter_dataframe(df_structure, 2)"
   ]
  },
  {
   "cell_type": "code",
   "execution_count": null,
   "metadata": {},
   "outputs": [],
   "source": [
    "filter_dataframe(df_structure, 3)"
   ]
  },
  {
   "cell_type": "code",
   "execution_count": null,
   "metadata": {},
   "outputs": [],
   "source": [
    "filter_dataframe(df_structure, 4)"
   ]
  },
  {
   "cell_type": "code",
   "execution_count": null,
   "metadata": {},
   "outputs": [],
   "source": [
    "filter_dataframe(df_structure, 5)"
   ]
  },
  {
   "cell_type": "code",
   "execution_count": null,
   "metadata": {},
   "outputs": [],
   "source": [
    "filter_dataframe(df_structure, 6)"
   ]
  },
  {
   "cell_type": "markdown",
   "metadata": {},
   "source": [
    "---"
   ]
  },
  {
   "cell_type": "markdown",
   "metadata": {},
   "source": [
    "## Mapping InspectionRun JSON to pandas DataFrame"
   ]
  },
  {
   "cell_type": "code",
   "execution_count": null,
   "metadata": {
    "ExecuteTime": {
     "end_time": "2019-05-14T19:48:54.582163Z",
     "start_time": "2019-05-14T19:48:54.144405Z"
    },
    "require": [
     "notebook/js/codecell"
    ]
   },
   "outputs": [],
   "source": [
    "import pandas as pd\n",
    "\n",
    "from pandas_profiling import ProfileReport as profile\n",
    "from pandas.io.json import json_normalize"
   ]
  },
  {
   "cell_type": "code",
   "execution_count": null,
   "metadata": {
    "ExecuteTime": {
     "end_time": "2019-05-14T19:51:13.728129Z",
     "start_time": "2019-05-14T19:48:54.584310Z"
    }
   },
   "outputs": [],
   "source": [
    "inspection_results = []\n",
    "\n",
    "for document_id, document in inspection_store.iterate_results():\n",
    "    # pop build logs to save some memory (not necessary for now)\n",
    "    document['build_log'] = None\n",
    "    \n",
    "    inspection_results.append(document)"
   ]
  },
  {
   "cell_type": "code",
   "execution_count": null,
   "metadata": {
    "ExecuteTime": {
     "end_time": "2019-05-14T19:56:44.414235Z",
     "start_time": "2019-05-14T19:56:43.560183Z"
    }
   },
   "outputs": [],
   "source": [
    "df = json_normalize(inspection_results, sep = \"__\")  # each row resembles InspectionResult"
   ]
  },
  {
   "cell_type": "markdown",
   "metadata": {},
   "source": [
    "### Feature importance analysis\n",
    "\n",
    "For the purposes of the performance analysis we take under consideration the impact of a variable on the performance score, the variance of the features is therefore an important indicator. We can assume that the more variance feature evinces, the higher is its impact on the performance measure stability.\n",
    "\n",
    "We can perform profiling as the first stage of this analysis to identify constants which won't affect the prediction."
   ]
  },
  {
   "cell_type": "code",
   "execution_count": null,
   "metadata": {
    "ExecuteTime": {
     "end_time": "2019-05-14T19:51:14.477303Z",
     "start_time": "2019-05-14T19:51:14.470432Z"
    }
   },
   "outputs": [],
   "source": [
    "f\"The original DataFrame contains  {len(df.columns)}  columns\""
   ]
  },
  {
   "cell_type": "markdown",
   "metadata": {},
   "source": [
    "These are the top-level keys:"
   ]
  },
  {
   "cell_type": "code",
   "execution_count": null,
   "metadata": {
    "ExecuteTime": {
     "end_time": "2019-05-14T19:51:14.489126Z",
     "start_time": "2019-05-14T19:51:14.478936Z"
    }
   },
   "outputs": [],
   "source": [
    "inspection_results[0].keys()"
   ]
  },
  {
   "cell_type": "code",
   "execution_count": null,
   "metadata": {
    "ExecuteTime": {
     "end_time": "2019-05-14T19:51:14.542343Z",
     "start_time": "2019-05-14T19:51:14.492422Z"
    }
   },
   "outputs": [],
   "source": [
    "df_structure"
   ]
  },
  {
   "cell_type": "markdown",
   "metadata": {},
   "source": [
    "#### Status"
   ]
  },
  {
   "cell_type": "code",
   "execution_count": null,
   "metadata": {
    "ExecuteTime": {
     "end_time": "2019-05-14T19:56:49.274603Z",
     "start_time": "2019-05-14T19:56:48.741522Z"
    },
    "require": [
     "base/js/events",
     "datatables.net",
     "d3",
     "jupyter-datatables"
    ]
   },
   "outputs": [],
   "source": [
    "df_status = df.filter(regex='status')\n",
    "\n",
    "date_columns = df_status.filter(regex=\"started_at|finished_at\").columns\n",
    "for col in date_columns:\n",
    "    df_status[col] = df[col].apply(pd.to_datetime)"
   ]
  },
  {
   "cell_type": "code",
   "execution_count": null,
   "metadata": {
    "ExecuteTime": {
     "end_time": "2019-05-14T19:56:55.547305Z",
     "start_time": "2019-05-14T19:56:54.150298Z"
    }
   },
   "outputs": [],
   "source": [
    "p = profile(df_status)\n",
    "p"
   ]
  },
  {
   "cell_type": "markdown",
   "metadata": {},
   "source": [
    "According to the profiling, we can drop the values with the constant value:"
   ]
  },
  {
   "cell_type": "code",
   "execution_count": null,
   "metadata": {
    "ExecuteTime": {
     "end_time": "2019-05-14T19:56:58.088795Z",
     "start_time": "2019-05-14T19:56:58.062800Z"
    }
   },
   "outputs": [],
   "source": [
    "rejected = p.description_set['variables'].query(\"distinct_count <= 1 & type != 'UNSUPPORTED'\")\n",
    "rejected"
   ]
  },
  {
   "cell_type": "code",
   "execution_count": null,
   "metadata": {
    "ExecuteTime": {
     "end_time": "2019-05-14T19:51:16.840553Z",
     "start_time": "2019-05-14T19:51:16.834117Z"
    }
   },
   "outputs": [],
   "source": [
    "df.drop(rejected.index, axis=1, inplace=True)"
   ]
  },
  {
   "cell_type": "markdown",
   "metadata": {
    "ExecuteTime": {
     "end_time": "2019-05-14T14:52:31.626651Z",
     "start_time": "2019-05-14T14:52:31.615908Z"
    }
   },
   "source": [
    "#### Specification"
   ]
  },
  {
   "cell_type": "code",
   "execution_count": null,
   "metadata": {
    "ExecuteTime": {
     "end_time": "2019-05-14T19:51:16.854984Z",
     "start_time": "2019-05-14T19:51:16.842786Z"
    }
   },
   "outputs": [],
   "source": [
    "df_spec = df.filter(regex='specification')"
   ]
  },
  {
   "cell_type": "code",
   "execution_count": null,
   "metadata": {
    "ExecuteTime": {
     "end_time": "2019-05-14T19:51:18.292628Z",
     "start_time": "2019-05-14T19:51:16.896229Z"
    },
    "scrolled": true
   },
   "outputs": [],
   "source": [
    "p = profile(df_spec)\n",
    "p"
   ]
  },
  {
   "cell_type": "code",
   "execution_count": null,
   "metadata": {
    "ExecuteTime": {
     "end_time": "2019-05-14T19:51:18.330853Z",
     "start_time": "2019-05-14T19:51:18.295052Z"
    },
    "scrolled": true
   },
   "outputs": [],
   "source": [
    "rejected = p.description_set['variables'].query(\"distinct_count <= 1 & type != 'UNSUPPORTED'\")\n",
    "rejected"
   ]
  },
  {
   "cell_type": "markdown",
   "metadata": {},
   "source": [
    "exclude versions, we might wanna use them later on"
   ]
  },
  {
   "cell_type": "code",
   "execution_count": null,
   "metadata": {
    "ExecuteTime": {
     "end_time": "2019-05-14T19:51:18.362911Z",
     "start_time": "2019-05-14T19:51:18.332911Z"
    },
    "scrolled": true
   },
   "outputs": [],
   "source": [
    "rejected = rejected.filter(regex=\"^((?!version).)*$\", axis=0)\n",
    "rejected"
   ]
  },
  {
   "cell_type": "code",
   "execution_count": null,
   "metadata": {
    "ExecuteTime": {
     "end_time": "2019-05-14T19:51:18.370982Z",
     "start_time": "2019-05-14T19:51:18.365166Z"
    }
   },
   "outputs": [],
   "source": [
    "df.drop(rejected.index, axis=1, inplace=True)"
   ]
  },
  {
   "cell_type": "markdown",
   "metadata": {},
   "source": [
    "#### Job log"
   ]
  },
  {
   "cell_type": "code",
   "execution_count": null,
   "metadata": {
    "ExecuteTime": {
     "end_time": "2019-05-14T19:57:30.884164Z",
     "start_time": "2019-05-14T19:57:30.870242Z"
    }
   },
   "outputs": [],
   "source": [
    "df_job = df.filter(regex='job_log')"
   ]
  },
  {
   "cell_type": "code",
   "execution_count": null,
   "metadata": {
    "ExecuteTime": {
     "end_time": "2019-05-14T19:57:34.644232Z",
     "start_time": "2019-05-14T19:57:30.933391Z"
    },
    "scrolled": true
   },
   "outputs": [],
   "source": [
    "p = profile(df_job)\n",
    "p"
   ]
  },
  {
   "cell_type": "code",
   "execution_count": null,
   "metadata": {
    "ExecuteTime": {
     "end_time": "2019-05-14T19:57:34.706878Z",
     "start_time": "2019-05-14T19:57:34.646819Z"
    },
    "scrolled": true
   },
   "outputs": [],
   "source": [
    "rejected = p.description_set['variables'].query(\"distinct_count <= 1 & type != 'UNSUPPORTED'\")\n",
    "    \n",
    "rejected"
   ]
  },
  {
   "cell_type": "code",
   "execution_count": null,
   "metadata": {
    "ExecuteTime": {
     "end_time": "2019-05-14T19:57:34.715017Z",
     "start_time": "2019-05-14T19:57:34.709359Z"
    }
   },
   "outputs": [],
   "source": [
    "df.drop(rejected.index, axis=1, inplace=True)"
   ]
  },
  {
   "cell_type": "markdown",
   "metadata": {},
   "source": [
    "---"
   ]
  },
  {
   "cell_type": "code",
   "execution_count": null,
   "metadata": {
    "ExecuteTime": {
     "end_time": "2019-05-14T20:26:32.999633Z",
     "start_time": "2019-05-14T20:26:32.973417Z"
    }
   },
   "outputs": [],
   "source": [
    "from typing import Callable, Dict, List, Tuple, Union\n",
    "\n",
    "def process_inspection_results(\n",
    "    inspection_results: List[dict],\n",
    "    exclude: Union[list, set] = None,\n",
    "    apply: List[Tuple] = None,\n",
    "    verbose: bool = False\n",
    ") -> pd.DataFrame:\n",
    "    \"\"\"Process inspection result into pd.DataFrame.\"\"\"\n",
    "    if not inspection_results:\n",
    "        return ValueError(\"Empty iterable provided.\")\n",
    "    \n",
    "    exclude = exclude or []\n",
    "    apply = apply or ()\n",
    "    \n",
    "    df = json_normalize(inspection_results, sep = \"__\")  # each row resembles InspectionResult\n",
    "    \n",
    "    if len(df) <= 1:\n",
    "        return df\n",
    "    \n",
    "    for regex, func in apply:\n",
    "        for col in df.filter(regex=regex).columns:\n",
    "            df[col] = df[col].apply(func)\n",
    "    \n",
    "    keys = [k for k in inspection_results[0] if not k in exclude]\n",
    "    for k in keys:\n",
    "        if k in exclude:\n",
    "            continue\n",
    "        d = df.filter(regex=k)\n",
    "        p = profile(d)\n",
    "        \n",
    "        rejected = p.description_set['variables'] \\\n",
    "            .query(\"distinct_count <= 1 & type != 'UNSUPPORTED'\") \\\n",
    "            .filter(regex=\"^((?!version).)*$\", axis=0)  # explicitly include versions\n",
    "        \n",
    "        if verbose:\n",
    "            print(\"Rejected columns: \", rejected.index)\n",
    "        \n",
    "        df.drop(rejected.index, axis=1, inplace=True)\n",
    "        \n",
    "    df = df \\\n",
    "        .eval(\"status__job__duration = status__job__finished_at - status__job__started_at\", engine='python') \\\n",
    "        .eval(\"status__build__duration = status__build__finished_at - status__build__started_at\", engine='python')\n",
    "        \n",
    "    return df"
   ]
  },
  {
   "cell_type": "code",
   "execution_count": null,
   "metadata": {
    "ExecuteTime": {
     "end_time": "2019-05-14T20:26:41.689846Z",
     "start_time": "2019-05-14T20:26:34.068605Z"
    },
    "scrolled": true
   },
   "outputs": [],
   "source": [
    "df = process_inspection_results(\n",
    "    inspection_results,\n",
    "    exclude=['build_log', 'created', 'inspection_id'],\n",
    "    apply=[\n",
    "        (\"created|started_at|finished_at\", pd.to_datetime)\n",
    "    ]\n",
    ")"
   ]
  },
  {
   "cell_type": "code",
   "execution_count": null,
   "metadata": {
    "ExecuteTime": {
     "end_time": "2019-05-14T20:40:56.410558Z",
     "start_time": "2019-05-14T20:40:56.369334Z"
    }
   },
   "outputs": [],
   "source": [
    "df.head()"
   ]
  },
  {
   "cell_type": "markdown",
   "metadata": {},
   "source": [
    "---"
   ]
  },
  {
   "cell_type": "markdown",
   "metadata": {},
   "source": [
    "## Plot InspectionRun"
   ]
  },
  {
   "cell_type": "code",
   "execution_count": null,
   "metadata": {},
   "outputs": [],
   "source": []
  },
  {
   "cell_type": "markdown",
   "metadata": {},
   "source": [
    "---"
   ]
  },
  {
   "cell_type": "markdown",
   "metadata": {
    "lines_to_next_cell": 2
   },
   "source": [
    "## Wrapper"
   ]
  }
 ],
 "metadata": {
  "hide_input": false,
  "jupytext": {
   "formats": "ipynb,py:hydrogen"
  },
  "kernelspec": {
   "display_name": "thoth-notebooks",
   "language": "python",
   "name": "thoth-notebooks"
  },
  "language_info": {
   "codemirror_mode": {
    "name": "ipython",
    "version": 3
   },
   "file_extension": ".py",
   "mimetype": "text/x-python",
   "name": "python",
   "nbconvert_exporter": "python",
   "pygments_lexer": "ipython3",
   "version": "3.6.8"
  },
  "toc": {
   "base_numbering": 1,
   "nav_menu": {},
   "number_sections": true,
   "sideBar": true,
   "skip_h1_title": true,
   "title_cell": "Table of Contents",
   "title_sidebar": "Contents",
   "toc_cell": true,
   "toc_position": {},
   "toc_section_display": true,
   "toc_window_display": false
  }
 },
 "nbformat": 4,
 "nbformat_minor": 2
}
