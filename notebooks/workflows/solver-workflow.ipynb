{
 "cells": [
  {
   "cell_type": "markdown",
   "metadata": {
    "toc": true
   },
   "source": [
    "<h1>Table of Contents<span class=\"tocSkip\"></span></h1>\n",
    "<div class=\"toc\"><ul class=\"toc-item\"></ul></div>"
   ]
  },
  {
   "cell_type": "code",
   "execution_count": null,
   "metadata": {
    "ExecuteTime": {
     "end_time": "2020-01-16T08:08:32.864040Z",
     "start_time": "2020-01-16T08:08:32.834212Z"
    }
   },
   "outputs": [],
   "source": [
    "%load_ext autoreload\n",
    "%autoreload 2"
   ]
  },
  {
   "cell_type": "code",
   "execution_count": null,
   "metadata": {
    "ExecuteTime": {
     "end_time": "2020-01-16T08:08:39.666378Z",
     "start_time": "2020-01-16T08:08:39.628333Z"
    }
   },
   "outputs": [],
   "source": [
    "import json\n",
    "import sys\n",
    "import os \n",
    "\n",
    "from datetime import datetime as dt"
   ]
  },
  {
   "cell_type": "code",
   "execution_count": null,
   "metadata": {
    "ExecuteTime": {
     "end_time": "2020-01-16T08:12:21.564857Z",
     "start_time": "2020-01-16T08:12:21.550053Z"
    }
   },
   "outputs": [],
   "source": [
    "from thoth.common.openshift import OpenShift"
   ]
  },
  {
   "cell_type": "code",
   "execution_count": null,
   "metadata": {
    "ExecuteTime": {
     "end_time": "2020-01-16T08:11:13.269913Z",
     "start_time": "2020-01-16T08:11:13.253841Z"
    }
   },
   "outputs": [],
   "source": [
    "from thoth.common import Workflow\n",
    "from thoth.common import WorkflowManager"
   ]
  },
  {
   "cell_type": "code",
   "execution_count": null,
   "metadata": {
    "ExecuteTime": {
     "end_time": "2020-01-16T08:08:53.215886Z",
     "start_time": "2020-01-16T08:08:53.199659Z"
    }
   },
   "outputs": [],
   "source": [
    "from thoth.common.logging import init_logging"
   ]
  },
  {
   "cell_type": "code",
   "execution_count": null,
   "metadata": {
    "ExecuteTime": {
     "end_time": "2020-01-16T08:09:00.629382Z",
     "start_time": "2020-01-16T08:09:00.595924Z"
    }
   },
   "outputs": [],
   "source": [
    "init_logging({'thoth.common.workflows': 'INFO'})"
   ]
  },
  {
   "cell_type": "code",
   "execution_count": null,
   "metadata": {
    "ExecuteTime": {
     "end_time": "2020-01-16T08:09:07.813901Z",
     "start_time": "2020-01-16T08:09:07.790792Z"
    }
   },
   "outputs": [],
   "source": [
    "namespace = \"thoth-test-core\""
   ]
  },
  {
   "cell_type": "code",
   "execution_count": null,
   "metadata": {
    "ExecuteTime": {
     "end_time": "2020-01-16T08:09:29.066711Z",
     "start_time": "2020-01-16T08:09:29.046875Z"
    }
   },
   "outputs": [],
   "source": [
    "%env THOTH_WORKFLOW_CONTEXT             true\n",
    "%env THOTH_INFRA_NAMESPACE              $namespace\n",
    "%env THOTH_MIDDLETIER_NAMESPACE         $namespace"
   ]
  },
  {
   "cell_type": "code",
   "execution_count": null,
   "metadata": {
    "ExecuteTime": {
     "end_time": "2020-01-16T08:21:38.512827Z",
     "start_time": "2020-01-16T08:21:37.384994Z"
    }
   },
   "outputs": [],
   "source": [
    "workflow_manager = WorkflowManager(openshift=OpenShift(kubernetes_verify_tls=False))"
   ]
  },
  {
   "cell_type": "code",
   "execution_count": null,
   "metadata": {
    "ExecuteTime": {
     "end_time": "2020-01-16T08:22:25.518750Z",
     "start_time": "2020-01-16T08:22:25.499432Z"
    }
   },
   "outputs": [],
   "source": [
    "solver_name = \"rhel-8.0-py36\"\n",
    "solver_id = f\"{int(dt.now().timestamp())}\"\n",
    "\n",
    "template_parameters = {\n",
    "    \"THOTH_SOLVER_WORKFLOW_ID\": solver_id,\n",
    "    \"THOTH_SOLVER_NAME\": solver_name,\n",
    "    \"THOTH_SOLVER_PACKAGES\":\"html5lib==0.10\",\n",
    "    \"THOTH_SOLVER_NO_TRANSITIVE\": \"1\",\n",
    "    \"THOTH_SOLVER_INDEXES\": \"https://pypi.org/simple\"\n",
    "\n",
    "}\n",
    "\n",
    "workflow_parameters = {}\n"
   ]
  },
  {
   "cell_type": "code",
   "execution_count": null,
   "metadata": {
    "ExecuteTime": {
     "end_time": "2020-01-16T08:23:08.818210Z",
     "start_time": "2020-01-16T08:23:06.414591Z"
    }
   },
   "outputs": [],
   "source": [
    "workflow_id = workflow_manager.submit_solver_workflow(\n",
    "    solver_id,\n",
    "    template_parameters=template_parameters,\n",
    "    workflow_parameters=workflow_parameters\n",
    ")\n",
    "\n",
    "workflow_id"
   ]
  },
  {
   "cell_type": "code",
   "execution_count": null,
   "metadata": {
    "ExecuteTime": {
     "end_time": "2020-01-16T08:24:12.321502Z",
     "start_time": "2020-01-16T08:23:55.319514Z"
    }
   },
   "outputs": [],
   "source": [
    "!argo watch $workflow_id"
   ]
  }
 ],
 "metadata": {
  "kernelspec": {
   "display_name": "Python 3",
   "language": "python",
   "name": "python3"
  },
  "language_info": {
   "codemirror_mode": {
    "name": "ipython",
    "version": 3
   },
   "file_extension": ".py",
   "mimetype": "text/x-python",
   "name": "python",
   "nbconvert_exporter": "python",
   "pygments_lexer": "ipython3",
   "version": "3.6.9"
  },
  "toc": {
   "base_numbering": 1,
   "nav_menu": {},
   "number_sections": true,
   "sideBar": true,
   "skip_h1_title": false,
   "title_cell": "Table of Contents",
   "title_sidebar": "Contents",
   "toc_cell": true,
   "toc_position": {},
   "toc_section_display": true,
   "toc_window_display": false
  }
 },
 "nbformat": 4,
 "nbformat_minor": 2
}
