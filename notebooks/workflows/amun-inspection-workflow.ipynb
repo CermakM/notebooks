{
 "cells": [
  {
   "cell_type": "markdown",
   "metadata": {
    "slideshow": {
     "slide_type": "fragment"
    },
    "toc": true
   },
   "source": [
    "<h1>Table of Contents<span class=\"tocSkip\"></span></h1>\n",
    "<div class=\"toc\"><ul class=\"toc-item\"></ul></div>"
   ]
  },
  {
   "cell_type": "markdown",
   "metadata": {},
   "source": [
    "# Amun Inspection Workflow"
   ]
  },
  {
   "cell_type": "code",
   "execution_count": 1,
   "metadata": {
    "ExecuteTime": {
     "end_time": "2019-11-28T10:23:00.123389Z",
     "start_time": "2019-11-28T10:23:00.079807Z"
    }
   },
   "outputs": [],
   "source": [
    "%load_ext autoreload\n",
    "%autoreload 2"
   ]
  },
  {
   "cell_type": "code",
   "execution_count": 2,
   "metadata": {
    "ExecuteTime": {
     "end_time": "2019-11-28T10:23:00.187906Z",
     "start_time": "2019-11-28T10:23:00.143126Z"
    }
   },
   "outputs": [],
   "source": [
    "import json\n",
    "import sys"
   ]
  },
  {
   "cell_type": "code",
   "execution_count": 3,
   "metadata": {
    "ExecuteTime": {
     "end_time": "2019-11-28T10:23:00.472793Z",
     "start_time": "2019-11-28T10:23:00.213632Z"
    }
   },
   "outputs": [],
   "source": [
    "USER, = !echo \"$$USER\"\n",
    "\n",
    "sys.path.insert(0, f\"/home/{USER}/code/amun-api/\")\n",
    "sys.path.insert(0, f\"/home/{USER}/code/argo-python-client/\")\n",
    "sys.path.insert(0, f\"/home/{USER}/code/common/\")"
   ]
  },
  {
   "cell_type": "markdown",
   "metadata": {},
   "source": [
    "---"
   ]
  },
  {
   "cell_type": "code",
   "execution_count": 4,
   "metadata": {
    "ExecuteTime": {
     "end_time": "2019-11-28T10:23:00.740485Z",
     "start_time": "2019-11-28T10:23:00.482243Z"
    }
   },
   "outputs": [],
   "source": [
    "# Provided via https://github.com/thoth-station/amun-api\n",
    "\n",
    "from amun.dockerfile import create_dockerfile"
   ]
  },
  {
   "cell_type": "code",
   "execution_count": 5,
   "metadata": {
    "ExecuteTime": {
     "end_time": "2019-11-28T10:23:03.357411Z",
     "start_time": "2019-11-28T10:23:00.747282Z"
    }
   },
   "outputs": [],
   "source": [
    "from thoth.common.workflows import Workflow\n",
    "from thoth.common.workflows import WorkflowManager"
   ]
  },
  {
   "cell_type": "code",
   "execution_count": 6,
   "metadata": {
    "ExecuteTime": {
     "end_time": "2019-11-28T10:23:03.417394Z",
     "start_time": "2019-11-28T10:23:03.362623Z"
    }
   },
   "outputs": [],
   "source": [
    "from thoth.common.logging import init_logging"
   ]
  },
  {
   "cell_type": "code",
   "execution_count": 7,
   "metadata": {
    "ExecuteTime": {
     "end_time": "2019-11-28T10:23:03.504046Z",
     "start_time": "2019-11-28T10:23:03.429675Z"
    }
   },
   "outputs": [
    {
     "name": "stderr",
     "output_type": "stream",
     "text": [
      "2019-11-28 10:23:03,487 [11479] WARNING  root:188: Logging to a Sentry instance is turned off\n",
      "2019-11-28 10:23:03,491 [11479] INFO     root:210: Logging to rsyslog endpoint is turned off\n"
     ]
    }
   ],
   "source": [
    "init_logging({'thoth.common.workflows': 'INFO'})"
   ]
  },
  {
   "cell_type": "markdown",
   "metadata": {},
   "source": [
    "---"
   ]
  },
  {
   "cell_type": "code",
   "execution_count": 8,
   "metadata": {
    "ExecuteTime": {
     "end_time": "2019-11-28T10:23:06.327385Z",
     "start_time": "2019-11-28T10:23:06.259268Z"
    }
   },
   "outputs": [],
   "source": [
    "namespace = \"macermak-thoth-dev\""
   ]
  },
  {
   "cell_type": "code",
   "execution_count": 9,
   "metadata": {
    "ExecuteTime": {
     "end_time": "2019-11-28T10:23:06.454337Z",
     "start_time": "2019-11-28T10:23:06.333616Z"
    }
   },
   "outputs": [
    {
     "name": "stdout",
     "output_type": "stream",
     "text": [
      "env: THOTH_AMUN_INFRA_NAMESPACE=macermak-thoth-dev\n",
      "env: THOTH_AMUN_INSPECTION_NAMESPACE=macermak-thoth-dev\n",
      "env: THOTH_WORKFLOW_CONTEXT=true\n"
     ]
    }
   ],
   "source": [
    "%env THOTH_AMUN_INFRA_NAMESPACE      $namespace \n",
    "%env THOTH_AMUN_INSPECTION_NAMESPACE $namespace\n",
    "%env THOTH_WORKFLOW_CONTEXT          true"
   ]
  },
  {
   "cell_type": "code",
   "execution_count": 10,
   "metadata": {
    "ExecuteTime": {
     "end_time": "2019-11-28T10:23:07.635264Z",
     "start_time": "2019-11-28T10:23:06.474702Z"
    },
    "scrolled": true
   },
   "outputs": [
    {
     "name": "stderr",
     "output_type": "stream",
     "text": [
      "2019-11-28 10:23:06,588 [11479] WARNING  thoth.common.openshift:103: Failed to load in cluster configuration, fallback to a local development setup: Service host/port is not set.\n",
      "2019-11-28 10:23:07,621 [11479] WARNING  thoth.common.openshift:140: TLS verification when communicating with k8s/okd master is disabled\n"
     ]
    }
   ],
   "source": [
    "workflow_manager = WorkflowManager(ocp_config={\n",
    "    \"kubernetes_verify_tls\": False\n",
    "})"
   ]
  },
  {
   "cell_type": "markdown",
   "metadata": {},
   "source": [
    "---"
   ]
  },
  {
   "cell_type": "code",
   "execution_count": 11,
   "metadata": {
    "ExecuteTime": {
     "end_time": "2019-11-28T10:23:18.796532Z",
     "start_time": "2019-11-28T10:23:18.718223Z"
    }
   },
   "outputs": [],
   "source": [
    "specification = {\n",
    "  \"base\": \"registry.access.redhat.com/ubi8/python-36\",\n",
    "  \"build\": {\n",
    "    \"requests\": {\n",
    "      \"cpu\": \"500m\",\n",
    "      \"hardware\": {\n",
    "        \"cpu_family\": 6,\n",
    "        \"cpu_model\": 94,\n",
    "        \"physical_cpus\": 32, \"processor\": \"Intel-Xeon-Processor-Skylake-IBRS\"\n",
    "      },\n",
    "      \"memory\": \"1Gi\"\n",
    "    }\n",
    "  },\n",
    "  \"identifier\": \"test-inspection\",\n",
    "  \"python_packages\": [\n",
    "    \"pipenv\"\n",
    "  ],\n",
    "  \"run\": {\n",
    "    \"requests\": {\n",
    "      \"cpu\": \"500m\",\n",
    "      \"hardware\": {\n",
    "        \"cpu_family\": 6,\n",
    "        \"cpu_model\": 94,\n",
    "        \"physical_cpus\": 32,\n",
    "        \"processor\": \"Intel-Xeon-Processor-Skylake-IBRS\"\n",
    "      },\n",
    "      \"memory\": \"256Mi\"\n",
    "    }\n",
    "  },\n",
    "  \"script\": \"#!/usr/bin/bash\\necho \\\"Here should be run tests...\\\"\\n\",\n",
    "}"
   ]
  },
  {
   "cell_type": "code",
   "execution_count": 12,
   "metadata": {
    "ExecuteTime": {
     "end_time": "2019-11-28T10:23:18.907164Z",
     "start_time": "2019-11-28T10:23:18.806302Z"
    }
   },
   "outputs": [],
   "source": [
    "dockerfile, _ = create_dockerfile(specification)"
   ]
  },
  {
   "cell_type": "code",
   "execution_count": 13,
   "metadata": {
    "ExecuteTime": {
     "end_time": "2019-11-28T10:23:19.038536Z",
     "start_time": "2019-11-28T10:23:18.959697Z"
    }
   },
   "outputs": [],
   "source": [
    "inspection_id = \"test-inspection-v2\"\n",
    "\n",
    "template_parameters = {\n",
    "    \"AMUN_INSPECTION_ID\": inspection_id,\n",
    "    \"THOTH_INFRA_NAMESPACE\": namespace\n",
    "}\n",
    "\n",
    "workflow_parameters=dict(\n",
    "    dockerfile=dockerfile,\n",
    "    specification=json.dumps(specification)\n",
    ")"
   ]
  },
  {
   "cell_type": "code",
   "execution_count": 14,
   "metadata": {
    "ExecuteTime": {
     "end_time": "2019-11-28T10:23:23.683124Z",
     "start_time": "2019-11-28T10:23:22.240813Z"
    }
   },
   "outputs": [],
   "source": [
    "# !argo delete --all\n",
    "\n",
    "workflow_id = workflow_manager.submit_inspection_workflow(\n",
    "    inspection_id,\n",
    "    template_parameters=template_parameters,\n",
    "    workflow_parameters=workflow_parameters,\n",
    ")\n",
    "\n",
    "workflow_id"
   ]
  },
  {
   "cell_type": "code",
   "execution_count": 16,
   "metadata": {
    "ExecuteTime": {
     "end_time": "2019-11-28T10:23:29.910741Z",
     "start_time": "2019-11-28T10:23:29.032646Z"
    },
    "scrolled": true
   },
   "outputs": [
    {
     "name": "stdout",
     "output_type": "stream",
     "text": [
      "\u001b[31mFATA\u001b[0m[0000] workflows.argoproj.io \"None\" not found       \r\n"
     ]
    }
   ],
   "source": [
    "!argo watch $workflow_id"
   ]
  },
  {
   "cell_type": "markdown",
   "metadata": {},
   "source": [
    "---"
   ]
  }
 ],
 "metadata": {
  "finalized": {
   "timestamp": 1573826024043,
   "trusted": true
  },
  "follow_output": true,
  "hide_input": false,
  "kernelspec": {
   "display_name": "Python3.6",
   "language": "python",
   "name": "python3.6"
  },
  "language_info": {
   "codemirror_mode": {
    "name": "ipython",
    "version": 3
   },
   "file_extension": ".py",
   "mimetype": "text/x-python",
   "name": "python",
   "nbconvert_exporter": "python",
   "pygments_lexer": "ipython3",
   "version": "3.6.8"
  },
  "requirements": {
   "aliases": {},
   "dev-packages": {},
   "packages": {
    "argo-workflows": "==2.1.1",
    "thoth-common": "==0.9.16"
   },
   "requires": {
    "python_version": "3.6"
   },
   "sources": [
    {
     "name": "pypi",
     "url": "https://pypi.org/simple",
     "verify_ssl": true
    }
   ]
  },
  "toc": {
   "base_numbering": 1,
   "nav_menu": {},
   "number_sections": true,
   "sideBar": true,
   "skip_h1_title": true,
   "title_cell": "Table of Contents",
   "title_sidebar": "Contents",
   "toc_cell": true,
   "toc_position": {},
   "toc_section_display": true,
   "toc_window_display": false
  }
 },
 "nbformat": 4,
 "nbformat_minor": 2
}
