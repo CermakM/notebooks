{
 "cells": [
  {
   "cell_type": "markdown",
   "metadata": {
    "slideshow": {
     "slide_type": "fragment"
    },
    "toc": true
   },
   "source": [
    "<h1>Table of Contents<span class=\"tocSkip\"></span></h1>\n",
    "<div class=\"toc\"><ul class=\"toc-item\"></ul></div>"
   ]
  },
  {
   "cell_type": "markdown",
   "metadata": {},
   "source": [
    "# Amun Inspection Workflow"
   ]
  },
  {
   "cell_type": "code",
   "execution_count": null,
   "metadata": {
    "ExecuteTime": {
     "end_time": "2020-01-30T11:13:19.355456Z",
     "start_time": "2020-01-30T11:13:19.337549Z"
    },
    "require": [
     "notebook/js/codecell"
    ]
   },
   "outputs": [],
   "source": [
    "%load_ext autoreload\n",
    "%autoreload 2"
   ]
  },
  {
   "cell_type": "code",
   "execution_count": null,
   "metadata": {
    "ExecuteTime": {
     "end_time": "2020-01-30T11:13:19.370390Z",
     "start_time": "2020-01-30T11:13:19.357986Z"
    }
   },
   "outputs": [],
   "source": [
    "import json\n",
    "import sys"
   ]
  },
  {
   "cell_type": "code",
   "execution_count": null,
   "metadata": {
    "ExecuteTime": {
     "end_time": "2020-01-30T11:13:19.451859Z",
     "start_time": "2020-01-30T11:13:19.373767Z"
    }
   },
   "outputs": [],
   "source": [
    "USER, = !echo \"$$USER\"\n",
    "\n",
    "sys.path.insert(0, f\"/home/{USER}/code/amun-api/\")\n",
    "sys.path.insert(0, f\"/home/{USER}/code/argo-python-client/\")\n",
    "sys.path.insert(0, f\"/home/{USER}/code/common/\")"
   ]
  },
  {
   "cell_type": "markdown",
   "metadata": {},
   "source": [
    "---"
   ]
  },
  {
   "cell_type": "code",
   "execution_count": null,
   "metadata": {
    "ExecuteTime": {
     "end_time": "2020-01-30T11:13:20.561348Z",
     "start_time": "2020-01-30T11:13:19.467145Z"
    },
    "require": [
     "notebook/js/codecell"
    ]
   },
   "outputs": [],
   "source": [
    "from thoth.common.logging import init_logging"
   ]
  },
  {
   "cell_type": "code",
   "execution_count": null,
   "metadata": {
    "ExecuteTime": {
     "end_time": "2020-01-30T11:13:20.599655Z",
     "start_time": "2020-01-30T11:13:20.563194Z"
    },
    "require": [
     "notebook/js/codecell"
    ]
   },
   "outputs": [],
   "source": [
    "init_logging({'thoth.common.workflows': 'INFO'})"
   ]
  },
  {
   "cell_type": "markdown",
   "metadata": {},
   "source": [
    "---"
   ]
  },
  {
   "cell_type": "code",
   "execution_count": null,
   "metadata": {
    "ExecuteTime": {
     "end_time": "2020-01-30T11:13:20.653183Z",
     "start_time": "2020-01-30T11:13:20.603348Z"
    }
   },
   "outputs": [],
   "source": [
    "namespace = \"macermak-thoth-dev\""
   ]
  },
  {
   "cell_type": "code",
   "execution_count": null,
   "metadata": {
    "ExecuteTime": {
     "end_time": "2020-01-30T11:13:20.715644Z",
     "start_time": "2020-01-30T11:13:20.655954Z"
    }
   },
   "outputs": [],
   "source": [
    "%env AMUN_API_APP_SECRET_KEY         abcd1234\n",
    "%env THOTH_AMUN_INFRA_NAMESPACE      $namespace \n",
    "%env THOTH_AMUN_INSPECTION_NAMESPACE $namespace\n",
    "%env THOTH_WORKFLOW_CONTEXT          true\n",
    "\n",
    "# [optional] switch off SSL verification\n",
    "%env KUBERNETES_VERIFY_TLS           0 "
   ]
  },
  {
   "cell_type": "markdown",
   "metadata": {},
   "source": [
    "---"
   ]
  },
  {
   "cell_type": "code",
   "execution_count": null,
   "metadata": {
    "ExecuteTime": {
     "end_time": "2020-01-30T11:13:27.435856Z",
     "start_time": "2020-01-30T11:13:20.724835Z"
    }
   },
   "outputs": [],
   "source": [
    "# Provided via https://github.com/thoth-station/amun-api\n",
    "\n",
    "from amun.api_v1 import post_inspection"
   ]
  },
  {
   "cell_type": "code",
   "execution_count": null,
   "metadata": {
    "ExecuteTime": {
     "end_time": "2020-01-30T11:13:28.044608Z",
     "start_time": "2020-01-30T11:13:27.986902Z"
    }
   },
   "outputs": [],
   "source": [
    "specification = {\n",
    "  \"batch_size\": \"5\",\n",
    "  \"base\": \"registry.access.redhat.com/ubi8/python-36\",\n",
    "  \"build\": {\n",
    "    \"requests\": {\n",
    "      \"cpu\": \"500m\",\n",
    "      \"hardware\": {\n",
    "        \"cpu_family\": 6,\n",
    "        \"cpu_model\": 94,\n",
    "        \"physical_cpus\": 32, \"processor\": \"Intel-Xeon-Processor-Skylake-IBRS\"\n",
    "      },\n",
    "      \"memory\": \"1Gi\"\n",
    "    }\n",
    "  },\n",
    "  \"identifier\": \"test\",\n",
    "  \"python_packages\": [\n",
    "    \"pipenv\"\n",
    "  ],\n",
    "  \"run\": {\n",
    "    \"requests\": {\n",
    "      \"cpu\": \"500m\",\n",
    "      \"hardware\": {\n",
    "        \"cpu_family\": 6,\n",
    "        \"cpu_model\": 94,\n",
    "        \"physical_cpus\": 32,\n",
    "        \"processor\": \"Intel-Xeon-Processor-Skylake-IBRS\"\n",
    "      },\n",
    "      \"memory\": \"256Mi\"\n",
    "    }\n",
    "  },\n",
    "  \"script\": \"#!/usr/bin/bash\\necho \\\"Here should be run tests...\\\"\\n\",\n",
    "}"
   ]
  },
  {
   "cell_type": "code",
   "execution_count": null,
   "metadata": {
    "ExecuteTime": {
     "end_time": "2020-01-30T11:13:31.032987Z",
     "start_time": "2020-01-30T11:13:29.250505Z"
    }
   },
   "outputs": [],
   "source": [
    "d, status  = post_inspection(specification=specification)\n",
    "\n",
    "workflow_id = d[\"workflow_id\"]\n",
    "workflow_id"
   ]
  },
  {
   "cell_type": "code",
   "execution_count": null,
   "metadata": {
    "ExecuteTime": {
     "end_time": "2020-01-30T11:17:27.888543Z",
     "start_time": "2020-01-30T11:13:31.877597Z"
    },
    "scrolled": true
   },
   "outputs": [],
   "source": [
    "!argo watch $workflow_id"
   ]
  },
  {
   "cell_type": "markdown",
   "metadata": {},
   "source": [
    "---"
   ]
  }
 ],
 "metadata": {
  "finalized": {
   "timestamp": 1580124161284,
   "trusted": true
  },
  "follow_output": true,
  "hide_input": false,
  "kernelspec": {
   "display_name": "thoth-notebooks",
   "language": "python",
   "name": "thoth-notebooks"
  },
  "language_info": {
   "codemirror_mode": {
    "name": "ipython",
    "version": 3
   },
   "file_extension": ".py",
   "mimetype": "text/x-python",
   "name": "python",
   "nbconvert_exporter": "python",
   "pygments_lexer": "ipython3",
   "version": "3.6.10"
  },
  "requirements": {
   "aliases": {},
   "dev-packages": {},
   "packages": {
    "argo-workflows": "==2.1.1",
    "thoth-common": "==0.9.16"
   },
   "requires": {
    "python_version": "3.6"
   },
   "sources": [
    {
     "name": "pypi",
     "url": "https://pypi.org/simple",
     "verify_ssl": true
    }
   ]
  },
  "toc": {
   "base_numbering": 1,
   "nav_menu": {},
   "number_sections": true,
   "sideBar": true,
   "skip_h1_title": true,
   "title_cell": "Table of Contents",
   "title_sidebar": "Contents",
   "toc_cell": true,
   "toc_position": {},
   "toc_section_display": true,
   "toc_window_display": false
  }
 },
 "nbformat": 4,
 "nbformat_minor": 2
}
