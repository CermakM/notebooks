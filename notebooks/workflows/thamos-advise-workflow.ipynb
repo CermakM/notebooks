{
 "cells": [
  {
   "cell_type": "markdown",
   "metadata": {},
   "source": [
    "# Thamos Advise Workflow\n",
    "\n",
    "---"
   ]
  },
  {
   "cell_type": "markdown",
   "metadata": {
    "toc": true
   },
   "source": [
    "<h1>Table of Contents<span class=\"tocSkip\"></span></h1>\n",
    "<div class=\"toc\"><ul class=\"toc-item\"><li><span><a href=\"#Create-the-Workflow\" data-toc-modified-id=\"Create-the-Workflow-1\"><span class=\"toc-item-num\">1&nbsp;&nbsp;</span>Create the Workflow</a></span></li><li><span><a href=\"#Submit-the-Workflow\" data-toc-modified-id=\"Submit-the-Workflow-2\"><span class=\"toc-item-num\">2&nbsp;&nbsp;</span>Submit the Workflow</a></span></li></ul></div>"
   ]
  },
  {
   "cell_type": "code",
   "execution_count": null,
   "metadata": {
    "ExecuteTime": {
     "end_time": "2020-01-17T15:34:37.854334Z",
     "start_time": "2020-01-17T15:34:37.817926Z"
    }
   },
   "outputs": [],
   "source": [
    "%load_ext autoreload\n",
    "%autoreload 2"
   ]
  },
  {
   "cell_type": "code",
   "execution_count": null,
   "metadata": {
    "ExecuteTime": {
     "end_time": "2020-01-17T15:34:38.750950Z",
     "start_time": "2020-01-17T15:34:37.858039Z"
    }
   },
   "outputs": [],
   "source": [
    "from argo.workflows import models\n",
    "\n",
    "from argo.workflows.sdk import Workflow\n",
    "from argo.workflows.sdk.tasks import *\n",
    "from argo.workflows.sdk.templates import *"
   ]
  },
  {
   "cell_type": "markdown",
   "metadata": {},
   "source": [
    "---"
   ]
  },
  {
   "cell_type": "markdown",
   "metadata": {},
   "source": [
    "## Create the Workflow\n",
    "w/ Argo Python SDK"
   ]
  },
  {
   "cell_type": "code",
   "execution_count": null,
   "metadata": {
    "ExecuteTime": {
     "end_time": "2020-01-17T15:34:38.807767Z",
     "start_time": "2020-01-17T15:34:38.759286Z"
    },
    "tags": [
     "parameters"
    ]
   },
   "outputs": [],
   "source": [
    "REPOSITORY_ARTIFACT=\"/mnt/inputs/artifacts/repository\"\n",
    "\"\"\"A Path to repository artifact.\"\"\"\n",
    "\n",
    "WEBHOOK_RECEIVER_URL=\"http://macermak.aicoe.ultrahook.com/kebechet/\"\n",
    "\"\"\"Webhook receiver endpoint URL.\"\"\""
   ]
  },
  {
   "cell_type": "code",
   "execution_count": null,
   "metadata": {
    "ExecuteTime": {
     "end_time": "2020-01-17T15:34:39.346234Z",
     "start_time": "2020-01-17T15:34:38.811797Z"
    },
    "code_folding": []
   },
   "outputs": [],
   "source": [
    "class ThothAdviseCheckRun(Workflow):\n",
    "    \n",
    "    arguments = V1alpha1Arguments(\n",
    "        parameters=[\n",
    "            V1alpha1Parameter(name=\"event\", default=\"thoth_thamos_advise\"),\n",
    "            V1alpha1Parameter(name=\"check_run_id\"),\n",
    "            V1alpha1Parameter(name=\"installation\"),\n",
    "            V1alpha1Parameter(name=\"repo_url\"),\n",
    "            V1alpha1Parameter(name=\"revision\", default=\"master\"),\n",
    "            V1alpha1Parameter(name=\"finished_webhook\", default=WEBHOOK_RECEIVER_URL),\n",
    "        ]\n",
    "    )\n",
    "    \n",
    "    service_account_name = \"argo\"\n",
    "    \n",
    "    volumes = [\n",
    "        models.V1Volume(name=\"cache\", empty_dir={})\n",
    "    ]\n",
    "    \n",
    "    @property\n",
    "    def id(self) -> str:\n",
    "        \"\"\"Get Workflow ID.\"\"\"\n",
    "        prefix: str = self.name or getattr(self.metadata, \"generate_name\")\n",
    "        digest: str = str(abs(self.__hash__()))\n",
    "        return f\"{prefix}-{digest}\"\n",
    "    \n",
    "    @task\n",
    "    def thamos_advise(self) -> V1alpha1Template:\n",
    "        return self.thamos_advise_template()\n",
    "    \n",
    "    @closure(\n",
    "        image=\"quay.io/cermakm/thamos:latest\",\n",
    "        resources=models.V1ResourceRequirements(\n",
    "            limits={\"memory\": \"128Mi\", \"cpu\": \"100m\"},\n",
    "        ),\n",
    "        volume_mounts=[\n",
    "            models.V1VolumeMount(name=\"cache\", mount_path=\"/mnt/outputs/parameters\")\n",
    "        ]\n",
    "    )\n",
    "    @inputs.artifact(\n",
    "        git=models.V1alpha1GitArtifact(\n",
    "            repo=\"{{workflow.parameters.repo_url}}\",\n",
    "            revision=\"{{workflow.parameters.revision}}\"\n",
    "        ),\n",
    "        name=\"repository\",\n",
    "        path=REPOSITORY_ARTIFACT\n",
    "    )\n",
    "    @outputs.parameter(\n",
    "        name=\"payload\",\n",
    "        global_name=\"payload\",\n",
    "        value_from={\"path\": \"/mnt/outputs/parameters/payload\"}\n",
    "    )\n",
    "    def thamos_advise_template():\n",
    "        import logging\n",
    "        \n",
    "        import json\n",
    "        import os\n",
    "        import subprocess\n",
    "        \n",
    "        from pathlib import Path\n",
    "            \n",
    "        logging.getLogger(\"thamos\").setLevel(\"DEBUG\")\n",
    "        \n",
    "        os.chdir(\"{{inputs.artifacts.repository.path}}\")\n",
    "        \n",
    "        subprocess.call([\"thamos\", \"config\", \"-I\"])\n",
    "        subprocess.call([\"thamos\", \"advise\", \"--no-write\"])\n",
    "        \n",
    "        analysis_id: str = Path(\".thoth_last_analysis_id\").read_text()\n",
    "        \n",
    "        payload: str = json.dumps({\n",
    "            \"analysis_id\": analysis_id\n",
    "        })\n",
    "        \n",
    "        Path(\"/mnt/outputs/parameters/payload\").write_text(payload)\n",
    "        \n",
    "            \n",
    "            \n",
    "    @task\n",
    "    @dependencies([\"thamos-advise\"])\n",
    "    def trigger_finished_webhook(self) -> V1alpha1Template:\n",
    "        return self.trigger_finished_webhook_template()\n",
    "    \n",
    "    @closure(\n",
    "        scope=\"webhook\",\n",
    "        image=\"quay.io/cermakm/octomachinery:latest\",\n",
    "        resources=models.V1ResourceRequirements(\n",
    "            limits={\"memory\": \"128Mi\", \"cpu\": \"100m\"},\n",
    "        ),\n",
    "        env=[\n",
    "            models.V1EnvVar(\n",
    "                name=\"WEBHOOK_SECRET\",\n",
    "                value_from=models.V1EnvVarSource(secret_key_ref={\"name\": \"qeb-hwt-github-app\", \"key\": \"WEBHOOK_SECRET\"})\n",
    "            ),\n",
    "        ]\n",
    "    )\n",
    "    def trigger_finished_webhook_template():\n",
    "        import os\n",
    "        import requests\n",
    "        import uuid\n",
    "        \n",
    "        uuid = str(uuid.uuid4())\n",
    "        \n",
    "        data: dict = {\n",
    "            \"event\": '{{workflow.parameters.event}}',\n",
    "            \"check_run_id\": '{{workflow.parameters.check_run_id}}',   \n",
    "            \"installation\": {\n",
    "                \"id\": int('{{workflow.parameters.installation}}')\n",
    "            },   \n",
    "            \"repo_url\": '{{workflow.parameters.repo_url}}',\n",
    "            \"revision\": '{{workflow.parameters.revision}}',\n",
    "            \"payload\": json.loads('{{workflow.outputs.parameters.payload}}')\n",
    "        }\n",
    "            \n",
    "        signature: str = webhook.get_signature(data, key=os.environ[\"WEBHOOK_SECRET\"])\n",
    "            \n",
    "        headers={\n",
    "            \"Accept\": \"application/vnd.github.antiope-preview+json\",\n",
    "            \"Content-Type\": \"application/json\",\n",
    "            \"User-Agent\": 'Workflow/{{workflow.name}}',\n",
    "            \"X-GitHub-Delivery\": uuid,\n",
    "            \"X-GitHub-Event\": '{{workflow.parameters.event}}',\n",
    "            \"X-Hub-Signature\": f\"sha1={signature}\"\n",
    "        }\n",
    "        \n",
    "        print(\"Headers:\\n\", headers)\n",
    "        print(\"Payload:\\n\", data)\n",
    "        \n",
    "        response = requests.post('{{workflow.parameters.finished_webhook}}', json=data, headers=headers)\n",
    "        response.raise_for_status()\n",
    "        \n",
    "    @scope(\"webhook\")\n",
    "    def get_signature(data: bytes, key: str) -> str:\n",
    "        import hmac\n",
    "        import json\n",
    "        \n",
    "        if not isinstance(data, bytes):\n",
    "            data = json.dumps(data).encode(\"UTF-8\")\n",
    "            \n",
    "        secret = key.encode(\"UTF-8\")\n",
    "        signature = hmac.new(secret, data, digestmod=\"sha1\")\n",
    "        \n",
    "        return signature.hexdigest()\n",
    "        \n",
    "    \n",
    "    \n",
    "wf = ThothAdviseCheckRun()\n",
    "print(wf.to_yaml())"
   ]
  },
  {
   "cell_type": "markdown",
   "metadata": {},
   "source": [
    "---"
   ]
  },
  {
   "cell_type": "markdown",
   "metadata": {},
   "source": [
    "## Submit the Workflow\n",
    "w/ Thoth Workflow manager"
   ]
  },
  {
   "cell_type": "code",
   "execution_count": null,
   "metadata": {
    "ExecuteTime": {
     "end_time": "2020-01-17T15:34:44.131796Z",
     "start_time": "2020-01-17T15:34:44.070027Z"
    }
   },
   "outputs": [],
   "source": [
    "namespace = \"macermak-thoth-dev\""
   ]
  },
  {
   "cell_type": "code",
   "execution_count": null,
   "metadata": {
    "ExecuteTime": {
     "end_time": "2020-01-17T15:34:44.237513Z",
     "start_time": "2020-01-17T15:34:44.138039Z"
    }
   },
   "outputs": [],
   "source": [
    "%env THOTH_AMUN_INFRA_NAMESPACE      $namespace \n",
    "%env THOTH_AMUN_INSPECTION_NAMESPACE $namespace\n",
    "%env THOTH_WORKFLOW_CONTEXT          true"
   ]
  },
  {
   "cell_type": "code",
   "execution_count": null,
   "metadata": {
    "ExecuteTime": {
     "end_time": "2020-01-17T15:34:46.020276Z",
     "start_time": "2020-01-17T15:34:44.257913Z"
    }
   },
   "outputs": [],
   "source": [
    "from thoth.common import WorkflowManager\n",
    "\n",
    "mgr = WorkflowManager(ocp_config={\n",
    "    \"kubernetes_verify_tls\": False\n",
    "})\n",
    "api = mgr.api"
   ]
  },
  {
   "cell_type": "code",
   "execution_count": null,
   "metadata": {
    "ExecuteTime": {
     "end_time": "2020-01-17T15:34:46.674114Z",
     "start_time": "2020-01-17T15:34:46.035466Z"
    }
   },
   "outputs": [],
   "source": [
    "wf.name = f\"{wf.metadata.generate_name}{str(abs(hash(wf)))[:8]}\"\n",
    "\n",
    "workflow_parameters = {\n",
    "    \"check_run_id\": \"395456696\",\n",
    "    \"installation\": \"6143192\",\n",
    "    \"repo_url\": \"https://github.com/Cermakm/test\",\n",
    "    \"revision\": \"37960bb3ae704e276d39166ab279c24cadef7fa3\"\n",
    "}\n",
    "\n",
    "workflow_id = wf.submit(api, namespace, parameters=workflow_parameters)\n",
    "workflow_id"
   ]
  },
  {
   "cell_type": "code",
   "execution_count": null,
   "metadata": {
    "ExecuteTime": {
     "end_time": "2020-01-17T15:36:00.691813Z",
     "start_time": "2020-01-17T15:34:46.678378Z"
    },
    "scrolled": true
   },
   "outputs": [],
   "source": [
    "!argo watch $workflow_id"
   ]
  },
  {
   "cell_type": "markdown",
   "metadata": {},
   "source": [
    "---"
   ]
  }
 ],
 "metadata": {
  "celltoolbar": "Tags",
  "finalized": {
   "timestamp": 1579420596945,
   "trusted": true
  },
  "hide_input": false,
  "kernelspec": {
   "display_name": "argo-python-sdk",
   "language": "python",
   "name": "argo-python-sdk"
  },
  "language_info": {
   "codemirror_mode": {
    "name": "ipython",
    "version": 3
   },
   "file_extension": ".py",
   "mimetype": "text/x-python",
   "name": "python",
   "nbconvert_exporter": "python",
   "pygments_lexer": "ipython3",
   "version": "3.6.10"
  },
  "requirements": {
   "aliases": {},
   "dev-packages": {},
   "packages": {
    "argo-workflows": "*",
    "thoth-common": "*"
   },
   "requires": {
    "python_version": "3.6"
   },
   "sources": [
    {
     "name": "pypi",
     "url": "https://pypi.org/simple",
     "verify_ssl": true
    }
   ]
  },
  "toc": {
   "base_numbering": 1,
   "nav_menu": {},
   "number_sections": true,
   "sideBar": true,
   "skip_h1_title": true,
   "title_cell": "Table of Contents",
   "title_sidebar": "Contents",
   "toc_cell": true,
   "toc_position": {},
   "toc_section_display": true,
   "toc_window_display": false
  }
 },
 "nbformat": 4,
 "nbformat_minor": 2
}
