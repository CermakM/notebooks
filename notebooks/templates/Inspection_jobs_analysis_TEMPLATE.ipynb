{
 "cells": [
  {
   "cell_type": "markdown",
   "metadata": {
    "toc": true
   },
   "source": [
    "<h1>Table of Contents<span class=\"tocSkip\"></span></h1>\n",
    "<div class=\"toc\"><ul class=\"toc-item\"><li><span><a href=\"#Introduction\" data-toc-modified-id=\"Introduction-1\"><span class=\"toc-item-num\">1&nbsp;&nbsp;</span>Introduction</a></span></li><li><span><a href=\"#Retrieve-filtered-inspection-ids\" data-toc-modified-id=\"Retrieve-filtered-inspection-ids-2\"><span class=\"toc-item-num\">2&nbsp;&nbsp;</span>Retrieve filtered inspection ids</a></span></li><li><span><a href=\"#Create-inspection-dataframes\" data-toc-modified-id=\"Create-inspection-dataframes-3\"><span class=\"toc-item-num\">3&nbsp;&nbsp;</span>Create inspection dataframes</a></span></li><li><span><a href=\"#Create-reports-for-each-inspection-batch\" data-toc-modified-id=\"Create-reports-for-each-inspection-batch-4\"><span class=\"toc-item-num\">4&nbsp;&nbsp;</span>Create reports for each inspection batch</a></span></li><li><span><a href=\"#Analysis-of-inspection-batches\" data-toc-modified-id=\"Analysis-of-inspection-batches-5\"><span class=\"toc-item-num\">5&nbsp;&nbsp;</span>Analysis of inspection batches</a></span></li><li><span><a href=\"#Error-analysis\" data-toc-modified-id=\"Error-analysis-6\"><span class=\"toc-item-num\">6&nbsp;&nbsp;</span>Error analysis</a></span><ul class=\"toc-item\"><li><span><a href=\"#Histogram-of-the-job_duration-batches\" data-toc-modified-id=\"Histogram-of-the-job_duration-batches-6.1\"><span class=\"toc-item-num\">6.1&nbsp;&nbsp;</span>Histogram of the <code>job_duration</code> batches</a></span></li><li><span><a href=\"#Histogram-of-the-elapsed-batches\" data-toc-modified-id=\"Histogram-of-the-elapsed-batches-6.2\"><span class=\"toc-item-num\">6.2&nbsp;&nbsp;</span>Histogram of the <code>elapsed</code> batches</a></span></li><li><span><a href=\"#Histogram-of-the-rate-batches\" data-toc-modified-id=\"Histogram-of-the-rate-batches-6.3\"><span class=\"toc-item-num\">6.3&nbsp;&nbsp;</span>Histogram of the <code>rate</code> batches</a></span></li><li><span><a href=\"#Boxplot-of-the-job_duration-batches\" data-toc-modified-id=\"Boxplot-of-the-job_duration-batches-6.4\"><span class=\"toc-item-num\">6.4&nbsp;&nbsp;</span>Boxplot of the <code>job_duration</code> batches</a></span></li><li><span><a href=\"#Box-plot-and-violin-plot-of-the-elapsed-batches\" data-toc-modified-id=\"Box-plot-and-violin-plot-of-the-elapsed-batches-6.5\"><span class=\"toc-item-num\">6.5&nbsp;&nbsp;</span>Box plot and violin plot of the <code>elapsed</code> batches</a></span></li><li><span><a href=\"#Box-plot-and-violin-plot-of-the-rate-batches\" data-toc-modified-id=\"Box-plot-and-violin-plot-of-the-rate-batches-6.6\"><span class=\"toc-item-num\">6.6&nbsp;&nbsp;</span>Box plot and violin plot of the <code>rate</code> batches</a></span></li></ul></li><li><span><a href=\"#Interpolations\" data-toc-modified-id=\"Interpolations-7\"><span class=\"toc-item-num\">7&nbsp;&nbsp;</span>Interpolations</a></span><ul class=\"toc-item\"><li><span><a href=\"#Standard-Deviation-analysis\" data-toc-modified-id=\"Standard-Deviation-analysis-7.1\"><span class=\"toc-item-num\">7.1&nbsp;&nbsp;</span>Standard Deviation analysis</a></span></li><li><span><a href=\"#Standard-Error-analysis\" data-toc-modified-id=\"Standard-Error-analysis-7.2\"><span class=\"toc-item-num\">7.2&nbsp;&nbsp;</span>Standard Error analysis</a></span></li><li><span><a href=\"#Box-Plots-interpolated-for-job_duration\" data-toc-modified-id=\"Box-Plots-interpolated-for-job_duration-7.3\"><span class=\"toc-item-num\">7.3&nbsp;&nbsp;</span>Box Plots interpolated for <code>job_duration</code></a></span></li><li><span><a href=\"#Box-Plots-interpolated-for-elapsed_time\" data-toc-modified-id=\"Box-Plots-interpolated-for-elapsed_time-7.4\"><span class=\"toc-item-num\">7.4&nbsp;&nbsp;</span>Box Plots interpolated for <code>elapsed_time</code></a></span></li><li><span><a href=\"#Box-Plots-interpolated-for-rate\" data-toc-modified-id=\"Box-Plots-interpolated-for-rate-7.5\"><span class=\"toc-item-num\">7.5&nbsp;&nbsp;</span>Box Plots interpolated for <code>rate</code></a></span></li><li><span><a href=\"#Coefficient-of-Variation-analysis\" data-toc-modified-id=\"Coefficient-of-Variation-analysis-7.6\"><span class=\"toc-item-num\">7.6&nbsp;&nbsp;</span>Coefficient of Variation analysis</a></span></li></ul></li><li><span><a href=\"#Inspection-Time-analysis\" data-toc-modified-id=\"Inspection-Time-analysis-8\"><span class=\"toc-item-num\">8&nbsp;&nbsp;</span>Inspection Time analysis</a></span><ul class=\"toc-item\"><li><span><a href=\"#Inspection-Builds-Time\" data-toc-modified-id=\"Inspection-Builds-Time-8.1\"><span class=\"toc-item-num\">8.1&nbsp;&nbsp;</span>Inspection Builds Time</a></span></li><li><span><a href=\"#Inspection-Jobs-Time\" data-toc-modified-id=\"Inspection-Jobs-Time-8.2\"><span class=\"toc-item-num\">8.2&nbsp;&nbsp;</span>Inspection Jobs Time</a></span></li><li><span><a href=\"#Inspection-Builds-+-Jobs-Time\" data-toc-modified-id=\"Inspection-Builds-+-Jobs-Time-8.3\"><span class=\"toc-item-num\">8.3&nbsp;&nbsp;</span>Inspection Builds + Jobs Time</a></span></li></ul></li></ul></div>"
   ]
  },
  {
   "cell_type": "markdown",
   "metadata": {},
   "source": [
    "# Introduction"
   ]
  },
  {
   "cell_type": "code",
   "execution_count": null,
   "metadata": {
    "ExecuteTime": {
     "end_time": "2019-09-18T07:07:43.000462Z",
     "start_time": "2019-09-18T07:07:40.439582Z"
    }
   },
   "outputs": [],
   "source": [
    "from thoth.lab import inspection, inspection_report, underscore\n",
    "\n",
    "import seaborn as sns\n",
    "sns.set(style=\"whitegrid\")\n",
    "\n",
    "import logging\n",
    "logger = logging.getLogger()\n",
    "logger.handlers = []\n",
    "\n",
    "logger = logging.getLogger()\n",
    "logging.basicConfig(level=logging.INFO)"
   ]
  },
  {
   "cell_type": "code",
   "execution_count": null,
   "metadata": {
    "ExecuteTime": {
     "end_time": "2019-09-18T07:07:43.830343Z",
     "start_time": "2019-09-18T07:07:43.807010Z"
    }
   },
   "outputs": [],
   "source": [
    "%env THOTH_DEPLOYMENT_NAME     thoth-core-psi-stage\n",
    "%env THOTH_CEPH_BUCKET         thoth\n",
    "%env THOTH_CEPH_BUCKET_PREFIX  data/thoth\n",
    "%env THOTH_S3_ENDPOINT_URL     https://s3.upshift.redhat.com/"
   ]
  },
  {
   "cell_type": "code",
   "execution_count": null,
   "metadata": {
    "ExecuteTime": {
     "end_time": "2019-09-18T07:10:06.125202Z",
     "start_time": "2019-09-18T07:10:06.116373Z"
    },
    "tags": [
     "parameters"
    ]
   },
   "outputs": [],
   "source": [
    "identifiers_inspection = [\n",
    "    \"64-matrix-size\",\n",
    "    \"128-matrix-size\",\n",
    "    \"256-matrix-size\",\n",
    "    \"test-ms\", # 512-matrix-size\"\n",
    "    \"1024-matrix-size\",\n",
    "    \"2048-matrix-size\",\n",
    "    \"4096-matrix-size\",\n",
    "]\n",
    "\n",
    "static_figure=True\n",
    "limit_results=True"
   ]
  },
  {
   "cell_type": "code",
   "execution_count": null,
   "metadata": {},
   "outputs": [],
   "source": [
    "inspection_parameters_analysis = [\n",
    "    \"job_duration\",\n",
    "    \"build_duration\",\n",
    "    \"elapsed\",\n",
    "    \"rate\"]\n",
    "\n",
    "save_results=True"
   ]
  },
  {
   "cell_type": "markdown",
   "metadata": {},
   "source": [
    "# Retrieve filtered inspection ids"
   ]
  },
  {
   "cell_type": "code",
   "execution_count": null,
   "metadata": {
    "ExecuteTime": {
     "end_time": "2019-09-18T07:11:22.513466Z",
     "start_time": "2019-09-18T07:10:26.071068Z"
    }
   },
   "outputs": [],
   "source": [
    "filtered_inspection_ids = inspection.filter_inspection_ids(identifiers_inspection)"
   ]
  },
  {
   "cell_type": "markdown",
   "metadata": {},
   "source": [
    "# Create inspection dataframes"
   ]
  },
  {
   "cell_type": "code",
   "execution_count": null,
   "metadata": {},
   "outputs": [],
   "source": [
    "inspection_results_dict = inspection.aggregate_inspection_results_per_identifier(filtered_inspection_ids,\n",
    "                                                                       identifiers_inspection,\n",
    "                                                                      limit_results=limit_results)"
   ]
  },
  {
   "cell_type": "code",
   "execution_count": null,
   "metadata": {
    "ExecuteTime": {
     "end_time": "2019-09-18T07:13:48.349784Z",
     "start_time": "2019-09-18T07:12:53.363275Z"
    }
   },
   "outputs": [],
   "source": [
    "inspection_df_dict = inspection.create_inspection_dataframes(inspection_results_dict)"
   ]
  },
  {
   "cell_type": "markdown",
   "metadata": {},
   "source": [
    "# Create reports for each inspection batch"
   ]
  },
  {
   "cell_type": "code",
   "execution_count": null,
   "metadata": {
    "ExecuteTime": {
     "end_time": "2019-09-18T07:14:13.668537Z",
     "start_time": "2019-09-18T07:14:09.514702Z"
    }
   },
   "outputs": [],
   "source": [
    "inspection_report_dict = inspection_report.create_inspection_reports(inspection_df_dict)"
   ]
  },
  {
   "cell_type": "markdown",
   "metadata": {},
   "source": [
    "# Analysis of inspection batches"
   ]
  },
  {
   "cell_type": "code",
   "execution_count": null,
   "metadata": {
    "ExecuteTime": {
     "end_time": "2019-09-18T07:16:23.950528Z",
     "start_time": "2019-09-18T07:16:23.904973Z"
    }
   },
   "outputs": [],
   "source": [
    "inspection_report.create_feature_analysis_summary(inspection_report_dict)"
   ]
  },
  {
   "cell_type": "code",
   "execution_count": null,
   "metadata": {
    "ExecuteTime": {
     "end_time": "2019-09-18T07:16:36.253789Z",
     "start_time": "2019-09-18T07:16:36.184256Z"
    }
   },
   "outputs": [],
   "source": [
    "inspection_report.create_feature_analysis_summary(inspection_report_dict, explanation=True)"
   ]
  },
  {
   "cell_type": "markdown",
   "metadata": {},
   "source": [
    "# Error analysis"
   ]
  },
  {
   "cell_type": "code",
   "execution_count": null,
   "metadata": {
    "ExecuteTime": {
     "end_time": "2019-09-18T07:32:42.995192Z",
     "start_time": "2019-09-18T07:32:42.955810Z"
    }
   },
   "outputs": [],
   "source": [
    "inspection_parameters_df_dict = inspection.create_inspection_parameters_dataframes(\n",
    "    inspection_parameters_analysis,\n",
    "    inspection_df_dict)"
   ]
  },
  {
   "cell_type": "markdown",
   "metadata": {},
   "source": [
    "## Histogram of the `job_duration` batches"
   ]
  },
  {
   "cell_type": "code",
   "execution_count": null,
   "metadata": {
    "ExecuteTime": {
     "end_time": "2019-09-18T07:22:13.030827Z",
     "start_time": "2019-09-18T07:22:12.434644Z"
    }
   },
   "outputs": [],
   "source": [
    "inspection.create_plot_multiple_batches(inspection_parameters_df_dict[\"job_duration\"],\n",
    "                    plot_type=\"hist\",\n",
    "                    x_label=\"Inspection Job Duration Time [s]\",\n",
    "                    y_label=\"Count\",\n",
    "                    plot_title=\"Job duration distribution per batch\",\n",
    "                    static=static_figure,\n",
    "                    save_result=save_results)"
   ]
  },
  {
   "cell_type": "markdown",
   "metadata": {},
   "source": [
    "## Histogram of the `elapsed` batches"
   ]
  },
  {
   "cell_type": "code",
   "execution_count": null,
   "metadata": {},
   "outputs": [],
   "source": [
    "inspection.create_plot_multiple_batches(inspection_parameters_df_dict[\"elapsed\"],\n",
    "                    plot_type=\"hist\",\n",
    "                    x_label=\"Elapsed Time [ms]\",\n",
    "                    y_label=\"Count\",\n",
    "                    plot_title=\"Elapsed time distribution per batch\",\n",
    "                    static=static_figure,\n",
    "                    save_result=save_results)"
   ]
  },
  {
   "cell_type": "markdown",
   "metadata": {},
   "source": [
    "## Histogram of the `rate` batches"
   ]
  },
  {
   "cell_type": "code",
   "execution_count": null,
   "metadata": {},
   "outputs": [],
   "source": [
    "inspection.create_plot_multiple_batches(inspection_parameters_df_dict[\"rate\"],\n",
    "                    plot_type=\"hist\",\n",
    "                    x_label=\"Rate [GFLOPS]\",\n",
    "                    y_label=\"Count\",\n",
    "                    plot_title=\"Rate distribution per batch\",\n",
    "                    static=static_figure,\n",
    "                    save_result=save_results)"
   ]
  },
  {
   "cell_type": "markdown",
   "metadata": {},
   "source": [
    "## Boxplot of the `job_duration` batches"
   ]
  },
  {
   "cell_type": "code",
   "execution_count": null,
   "metadata": {
    "ExecuteTime": {
     "end_time": "2019-09-18T07:23:40.349419Z",
     "start_time": "2019-09-18T07:23:39.986921Z"
    }
   },
   "outputs": [],
   "source": [
    "inspection.create_plot_multiple_batches(inspection_parameters_df_dict[\"job_duration\"],\n",
    "                    plot_type=\"box\",\n",
    "                    x_label=\"Inspection Job Duration Time [s]\",\n",
    "                    y_label=\"Count\",\n",
    "                    plot_title=\"Box plots job duration per batch\",\n",
    "                    static=static_figure,\n",
    "                    save_result=save_results)"
   ]
  },
  {
   "cell_type": "markdown",
   "metadata": {},
   "source": [
    "## Box plot and violin plot of the `elapsed` batches"
   ]
  },
  {
   "cell_type": "code",
   "execution_count": null,
   "metadata": {
    "ExecuteTime": {
     "end_time": "2019-09-18T07:24:34.020177Z",
     "start_time": "2019-09-18T07:24:33.650968Z"
    }
   },
   "outputs": [],
   "source": [
    "inspection.create_plot_multiple_batches(inspection_parameters_df_dict[\"elapsed\"],\n",
    "                    plot_type=\"box\",\n",
    "                    x_label=\"Batch identifier\",\n",
    "                    y_label=\"Elapsed Time [ms]\",\n",
    "                    plot_title=\"Box plots elapsed time per batch\",\n",
    "                    static=static_figure,\n",
    "                    save_result=save_results)"
   ]
  },
  {
   "cell_type": "code",
   "execution_count": null,
   "metadata": {},
   "outputs": [],
   "source": [
    "inspection.create_violin_plot(\n",
    "    data=inspection_parameters_df_dict[\"elapsed\"],\n",
    "    plot_title=\"Violin plot elapsed time per batch\",\n",
    "    x_label=\"Batch identifier\",\n",
    "    y_label=\"Elapsed Time [ms]\",\n",
    "    linewidth=2,\n",
    "    save_result=save_results)"
   ]
  },
  {
   "cell_type": "markdown",
   "metadata": {},
   "source": [
    "## Box plot and violin plot of the `rate` batches"
   ]
  },
  {
   "cell_type": "code",
   "execution_count": null,
   "metadata": {
    "ExecuteTime": {
     "end_time": "2019-09-18T07:25:52.142654Z",
     "start_time": "2019-09-18T07:25:51.769137Z"
    }
   },
   "outputs": [],
   "source": [
    "inspection.create_plot_multiple_batches(inspection_parameters_df_dict[\"rate\"],\n",
    "                    plot_type=\"box\",\n",
    "                    x_label=\"Batch identifier\",\n",
    "                    y_label=\"Rate [GFLOPS]\",\n",
    "                    plot_title=\"Box plots rate per batch\",\n",
    "                    static=static_figure,\n",
    "                    save_result=save_results)"
   ]
  },
  {
   "cell_type": "code",
   "execution_count": null,
   "metadata": {},
   "outputs": [],
   "source": [
    "inspection.create_violin_plot(\n",
    "    data=inspection_parameters_df_dict[\"rate\"],\n",
    "    plot_title=\"Violin plot rate per batch\",\n",
    "    x_label=\"Batch identifier\",\n",
    "    y_label=\"Rate [GFLOPS]\",\n",
    "    linewidth=2,\n",
    "    save_result=save_results)"
   ]
  },
  {
   "cell_type": "markdown",
   "metadata": {},
   "source": [
    "# Interpolations"
   ]
  },
  {
   "cell_type": "code",
   "execution_count": null,
   "metadata": {
    "ExecuteTime": {
     "end_time": "2019-09-18T07:32:35.514531Z",
     "start_time": "2019-09-18T07:32:35.423697Z"
    }
   },
   "outputs": [],
   "source": [
    "inspection_statistics_dict = inspection.evaluate_inspection_statistics(\n",
    "        inspection_parameters_analysis,\n",
    "        inspection_df_dict)"
   ]
  },
  {
   "cell_type": "markdown",
   "metadata": {},
   "source": [
    "## Standard Deviation analysis"
   ]
  },
  {
   "cell_type": "code",
   "execution_count": null,
   "metadata": {},
   "outputs": [],
   "source": [
    "inspection.plot_interpolated_statistics_of_inspection_parameters(\n",
    "    statistical_results_dict=inspection_statistics_dict,\n",
    "    identifier_inspection_list=identifiers_inspection,\n",
    "    inspection_parameters=[\"job_duration\"],\n",
    "    colour_list=[\"g\"],\n",
    "    statistical_quantities=[\"std\"],\n",
    "    title_plot=\"Statistics plot of std for job_duration of different batch\",\n",
    "    title_xlabel=\"Batch identifiers\",\n",
    "    title_ylabel=\"Inspection Job Duration Time [s]\",\n",
    "    save_result=save_results)"
   ]
  },
  {
   "cell_type": "code",
   "execution_count": null,
   "metadata": {},
   "outputs": [],
   "source": [
    "inspection.plot_interpolated_statistics_of_inspection_parameters(\n",
    "    statistical_results_dict=inspection_statistics_dict,\n",
    "    identifier_inspection_list=identifiers_inspection,\n",
    "    inspection_parameters=[\"elapsed\"],\n",
    "    colour_list=[\"b\"],\n",
    "    statistical_quantities=[\"std\"],\n",
    "    title_plot=\"Statistics plot of std for elapsed of different batch\",\n",
    "    title_xlabel=\"Batch identifiers\",\n",
    "    title_ylabel=\"Elapsed Time [ms]\",\n",
    "    save_result=save_results)"
   ]
  },
  {
   "cell_type": "code",
   "execution_count": null,
   "metadata": {},
   "outputs": [],
   "source": [
    "inspection.plot_interpolated_statistics_of_inspection_parameters(\n",
    "    statistical_results_dict=inspection_statistics_dict,\n",
    "    identifier_inspection_list=identifiers_inspection,\n",
    "    inspection_parameters=[\"rate\"],\n",
    "    colour_list=[\"r\"],\n",
    "    statistical_quantities=[\"std\"],\n",
    "    title_plot=\"Statistics plot of std error for rate of different batch\",\n",
    "    title_xlabel=\"Batch identifiers\",\n",
    "    title_ylabel=\"Rate [GFLOPS]\",\n",
    "    save_result=save_results)"
   ]
  },
  {
   "cell_type": "markdown",
   "metadata": {},
   "source": [
    "## Standard Error analysis"
   ]
  },
  {
   "cell_type": "code",
   "execution_count": null,
   "metadata": {},
   "outputs": [],
   "source": [
    "inspection.plot_interpolated_statistics_of_inspection_parameters(\n",
    "    statistical_results_dict=inspection_statistics_dict,\n",
    "    identifier_inspection_list=identifiers_inspection,\n",
    "    inspection_parameters=[\"job_duration\"],\n",
    "    colour_list=[\"g\"],\n",
    "    statistical_quantities=[\"std_error\"],\n",
    "    title_plot=\"Statistics plot of std error for job_duration of different batch\",\n",
    "    title_xlabel=\"Batch identifiers\",\n",
    "    title_ylabel=\"Inspection Job Duration Time [s]\",\n",
    "    save_result=save_results)"
   ]
  },
  {
   "cell_type": "code",
   "execution_count": null,
   "metadata": {},
   "outputs": [],
   "source": [
    "inspection.plot_interpolated_statistics_of_inspection_parameters(\n",
    "    statistical_results_dict=inspection_statistics_dict,\n",
    "    identifier_inspection_list=identifiers_inspection,\n",
    "    inspection_parameters=[\"elapsed\"],\n",
    "    colour_list=[\"b\"],\n",
    "    statistical_quantities=[\"std_error\"],\n",
    "    title_plot=\"Statistics plot of std error for elapsed of different batch\",\n",
    "    title_xlabel=\"Batch identifiers\",\n",
    "    title_ylabel=\"Elapsed Time [ms]\",\n",
    "    save_result=save_results)"
   ]
  },
  {
   "cell_type": "code",
   "execution_count": null,
   "metadata": {},
   "outputs": [],
   "source": [
    "inspection.plot_interpolated_statistics_of_inspection_parameters(\n",
    "    statistical_results_dict=inspection_statistics_dict,\n",
    "    identifier_inspection_list=identifiers_inspection,\n",
    "    inspection_parameters=[\"rate\"],\n",
    "    colour_list=[\"r\"],\n",
    "    statistical_quantities=[\"std_error\"],\n",
    "    title_plot=\"Statistics plot of std error for rate of different batch\",\n",
    "    title_xlabel=\"Batch identifiers\",\n",
    "    title_ylabel=\"Rate [GFLOPS]\",\n",
    "    save_result=save_results)"
   ]
  },
  {
   "cell_type": "markdown",
   "metadata": {},
   "source": [
    "## Box Plots interpolated for `job_duration`"
   ]
  },
  {
   "cell_type": "code",
   "execution_count": null,
   "metadata": {
    "ExecuteTime": {
     "end_time": "2019-09-18T07:27:56.523478Z",
     "start_time": "2019-09-18T07:27:56.230217Z"
    }
   },
   "outputs": [],
   "source": [
    "inspection.plot_interpolated_statistics_of_inspection_parameters(\n",
    "    statistical_results_dict=inspection_statistics_dict,\n",
    "    identifier_inspection_list=identifiers_inspection,\n",
    "    inspection_parameters=[\"job_duration\"],\n",
    "    colour_list=[\"g\", \"b\", \"c\", \"r\", \"y\"],\n",
    "    statistical_quantities=[\"median\", \"q1\", \"q3\", \"max\", \"min\"],\n",
    "    title_plot=\"Interpolated statistics for job_duration of different batch\",\n",
    "    title_xlabel= \"Batch identifiers\",\n",
    "    title_ylabel= \"Inspection Job Duration Time [s]\",\n",
    "    save_result=save_results)"
   ]
  },
  {
   "cell_type": "code",
   "execution_count": null,
   "metadata": {},
   "outputs": [],
   "source": [
    "inspection.plot_interpolated_statistics_of_inspection_parameters(\n",
    "    statistical_results_dict=inspection_statistics_dict,\n",
    "    identifier_inspection_list=identifiers_inspection,\n",
    "    inspection_parameters=[\"job_duration\"],\n",
    "    colour_list=[\"k\"],\n",
    "    statistical_quantities=[\"iqr\"],\n",
    "    title_plot=f\"Interpolated IQR for job_duration for different inspection batches\",\n",
    "    title_xlabel= \"Batch identifiers\",\n",
    "    title_ylabel= \"Inspection Job Duration Time [s]\",\n",
    "    save_result=save_results)"
   ]
  },
  {
   "cell_type": "markdown",
   "metadata": {},
   "source": [
    "## Box Plots interpolated for `elapsed_time`"
   ]
  },
  {
   "cell_type": "code",
   "execution_count": null,
   "metadata": {
    "ExecuteTime": {
     "end_time": "2019-09-18T07:28:31.227597Z",
     "start_time": "2019-09-18T07:28:30.925233Z"
    }
   },
   "outputs": [],
   "source": [
    "inspection.plot_interpolated_statistics_of_inspection_parameters(\n",
    "    statistical_results_dict=inspection_statistics_dict,\n",
    "    identifier_inspection_list=identifiers_inspection,\n",
    "    inspection_parameters=[\"elapsed\"],\n",
    "    colour_list=[\"g\", \"b\", \"c\", \"r\", \"y\"],\n",
    "    statistical_quantities=[\"median\", \"q1\", \"q3\", \"max\", \"min\"],\n",
    "    title_plot=\"Interpolated statistics for elapsed of different batch\",\n",
    "    title_xlabel= \"Batch identifiers\",\n",
    "    title_ylabel= \"Elapsed time [ms]\",\n",
    "    save_result=save_results)"
   ]
  },
  {
   "cell_type": "code",
   "execution_count": null,
   "metadata": {},
   "outputs": [],
   "source": [
    "inspection.plot_interpolated_statistics_of_inspection_parameters(\n",
    "    statistical_results_dict=inspection_statistics_dict,\n",
    "    identifier_inspection_list=identifiers_inspection,\n",
    "    inspection_parameters=[\"elapsed\"],\n",
    "    colour_list=[\"k\"],\n",
    "    statistical_quantities=[\"iqr\"],\n",
    "    title_plot=f\"Interpolated IQR for elapsed for different inspection batches\",\n",
    "    title_xlabel= \"Batch identifiers\",\n",
    "    title_ylabel= \"Elapsed time [ms]\",\n",
    "    save_result=save_results)"
   ]
  },
  {
   "cell_type": "markdown",
   "metadata": {},
   "source": [
    "## Box Plots interpolated for `rate`"
   ]
  },
  {
   "cell_type": "code",
   "execution_count": null,
   "metadata": {
    "ExecuteTime": {
     "end_time": "2019-09-18T07:29:28.500049Z",
     "start_time": "2019-09-18T07:29:28.194503Z"
    }
   },
   "outputs": [],
   "source": [
    "inspection.plot_interpolated_statistics_of_inspection_parameters(\n",
    "    statistical_results_dict=inspection_statistics_dict,\n",
    "    identifier_inspection_list=identifiers_inspection,\n",
    "    inspection_parameters=[\"rate\"],\n",
    "    colour_list=[\"g\", \"b\", \"b\", \"r\", \"y\"],\n",
    "    statistical_quantities=[\"median\", \"q1\", \"q3\", \"max\", \"min\"],\n",
    "    title_plot=\"Interpolated statistics for rate of different batch\",\n",
    "    title_xlabel= \"Batch identifiers\",\n",
    "    title_ylabel=\"Rate [GFLOPS]\",\n",
    "    save_result=save_results)"
   ]
  },
  {
   "cell_type": "code",
   "execution_count": null,
   "metadata": {},
   "outputs": [],
   "source": [
    "inspection.plot_interpolated_statistics_of_inspection_parameters(\n",
    "    statistical_results_dict=inspection_statistics_dict,\n",
    "    identifier_inspection_list=identifiers_inspection,\n",
    "    inspection_parameters=[\"rate\"],\n",
    "    colour_list=[\"k\"],\n",
    "    statistical_quantities=[\"iqr\"],\n",
    "    title_plot=f\"Interpolated IQR for rate for different inspection batches\",\n",
    "    title_xlabel= \"Batch identifiers\",\n",
    "    title_ylabel=\"Rate [GFLOPS]\",\n",
    "    save_result=save_results)"
   ]
  },
  {
   "cell_type": "markdown",
   "metadata": {},
   "source": [
    "## Coefficient of Variation analysis"
   ]
  },
  {
   "cell_type": "code",
   "execution_count": null,
   "metadata": {},
   "outputs": [],
   "source": [
    "inspection.plot_interpolated_statistics_of_inspection_parameters(\n",
    "    statistical_results_dict=inspection_statistics_dict,\n",
    "    identifier_inspection_list=identifiers_inspection,\n",
    "    inspection_parameters=[\"elapsed\", \"rate\"],\n",
    "    colour_list=[\"b\", \"r\"],\n",
    "    statistical_quantities=[\"cv\"],\n",
    "    title_plot=f\"Interpolated CV for elapsed and rate for different inspection batches\",\n",
    "    title_xlabel= \"Batch identifiers\",\n",
    "    title_ylabel= \"CV [%]\",\n",
    "    save_result=save_results)"
   ]
  },
  {
   "cell_type": "markdown",
   "metadata": {},
   "source": [
    "# Inspection Time analysis"
   ]
  },
  {
   "cell_type": "code",
   "execution_count": null,
   "metadata": {
    "ExecuteTime": {
     "end_time": "2019-09-18T07:29:41.935528Z",
     "start_time": "2019-09-18T07:29:41.912026Z"
    }
   },
   "outputs": [],
   "source": [
    "inspection_time_df = inspection.create_inspection_time_dataframe(inspection_df_dict)"
   ]
  },
  {
   "cell_type": "markdown",
   "metadata": {},
   "source": [
    "## Inspection Builds Time"
   ]
  },
  {
   "cell_type": "code",
   "execution_count": null,
   "metadata": {
    "ExecuteTime": {
     "end_time": "2019-09-18T07:29:59.925231Z",
     "start_time": "2019-09-18T07:29:59.606742Z"
    }
   },
   "outputs": [],
   "source": [
    "inspection.create_plot_from_df(inspection_time_df,\n",
    "            columns= [\"batches\",\"builds_time\"],\n",
    "            title_plot=\"Time spent to evaluate all inspections builds in hours (ASSUMPTIONS ~6 in parallel)\",\n",
    "            x_label=\"Batch Identifier\", \n",
    "            y_label=\"Tot Time for builds [h]\",\n",
    "            static=static_figure,\n",
    "            save_result=save_results)"
   ]
  },
  {
   "cell_type": "markdown",
   "metadata": {},
   "source": [
    "## Inspection Jobs Time"
   ]
  },
  {
   "cell_type": "code",
   "execution_count": null,
   "metadata": {
    "ExecuteTime": {
     "end_time": "2019-09-18T07:30:06.427091Z",
     "start_time": "2019-09-18T07:30:06.133712Z"
    }
   },
   "outputs": [],
   "source": [
    "inspection.create_plot_from_df(inspection_time_df,\n",
    "            columns= [\"batches\",\"jobs_time\"],\n",
    "            title_plot=\"Time spent to evaluate all inspections jobs in hours (ASSUMPTIONS ~6 in parallel)\",\n",
    "            x_label=\"Batch Identifier\", \n",
    "            y_label=\"Tot Time for jobs [h]\",\n",
    "            static=static_figure,\n",
    "            save_result=save_results)"
   ]
  },
  {
   "cell_type": "markdown",
   "metadata": {},
   "source": [
    "## Inspection Builds + Jobs Time"
   ]
  },
  {
   "cell_type": "code",
   "execution_count": null,
   "metadata": {
    "ExecuteTime": {
     "end_time": "2019-09-18T07:30:11.184256Z",
     "start_time": "2019-09-18T07:30:10.882778Z"
    }
   },
   "outputs": [],
   "source": [
    "inspection.create_plot_from_df(inspection_time_df,\n",
    "            columns= [\"batches\",\"tot_time\"],\n",
    "            title_plot=\"Time spent to evaluate all inspections builds + jobs in hours (ASSUMPTIONS ~6 in parallel)\",\n",
    "            x_label=\"Batch Identifier\", \n",
    "            y_label=\"Tot Time for builds + jobs [h]\",\n",
    "            static=static_figure,\n",
    "            save_result=save_results)"
   ]
  }
 ],
 "metadata": {
  "celltoolbar": "Tags",
  "finalized": {
   "timestamp": 1568387172163,
   "trusted": true
  },
  "kernelspec": {
   "display_name": "Python 3",
   "language": "python",
   "name": "python3"
  },
  "language_info": {
   "codemirror_mode": {
    "name": "ipython",
    "version": 3
   },
   "file_extension": ".py",
   "mimetype": "text/x-python",
   "name": "python",
   "nbconvert_exporter": "python",
   "pygments_lexer": "ipython3",
   "version": "3.6.9"
  },
  "toc": {
   "base_numbering": 1,
   "nav_menu": {},
   "number_sections": true,
   "sideBar": true,
   "skip_h1_title": false,
   "title_cell": "Table of Contents",
   "title_sidebar": "Contents",
   "toc_cell": true,
   "toc_position": {},
   "toc_section_display": true,
   "toc_window_display": true
  }
 },
 "nbformat": 4,
 "nbformat_minor": 2
}
